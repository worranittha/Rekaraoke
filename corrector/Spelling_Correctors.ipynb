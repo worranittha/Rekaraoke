{
 "cells": [
  {
   "attachments": {},
   "cell_type": "markdown",
   "metadata": {},
   "source": [
    "# Correcting songs and fine-tuing"
   ]
  },
  {
   "attachments": {},
   "cell_type": "markdown",
   "metadata": {},
   "source": [
    "## Import modules"
   ]
  },
  {
   "cell_type": "code",
   "execution_count": 22,
   "metadata": {},
   "outputs": [
    {
     "name": "stdout",
     "output_type": "stream",
     "text": [
      "available checkers: ['BertsclstmChecker', 'CnnlstmChecker', 'ElmosclstmChecker', 'NestedlstmChecker', 'SclstmChecker', 'SclstmbertChecker', 'SclstmelmoChecker', 'BertChecker']\n"
     ]
    }
   ],
   "source": [
    "import os\n",
    "from neuspell import available_checkers, BertChecker, SclstmChecker\n",
    "\n",
    "print(f\"available checkers: {available_checkers()}\")"
   ]
  },
  {
   "attachments": {},
   "cell_type": "markdown",
   "metadata": {},
   "source": [
    "## Define data path"
   ]
  },
  {
   "cell_type": "code",
   "execution_count": 23,
   "metadata": {},
   "outputs": [],
   "source": [
    "clean_file = 'clean_en_lyrics.txt'\n",
    "noisy_file = 'noisy_en_lyrics.txt'\n",
    "\n",
    "train_data_path = '../dataset/train'\n",
    "clean_train_path = os.path.join(train_data_path, clean_file)\n",
    "noisy_train_path = os.path.join(train_data_path, noisy_file)\n",
    "\n",
    "test_data_path = '../dataset/test'\n",
    "clean_test_path = os.path.join(test_data_path, clean_file)\n",
    "noisy_test_path = os.path.join(test_data_path, noisy_file)"
   ]
  },
  {
   "attachments": {},
   "cell_type": "markdown",
   "metadata": {},
   "source": [
    "## Load training data"
   ]
  },
  {
   "cell_type": "code",
   "execution_count": 24,
   "metadata": {},
   "outputs": [
    {
     "data": {
      "text/plain": [
       "['well show me the way',\n",
       " \"'cause nothin' from nothin' leaves nothin'\",\n",
       " \"she said look, what's your game baby\",\n",
       " 'savage love, did somebody, did somebody break your heart',\n",
       " \"told you i'll be here forever\",\n",
       " 'oh baby, we found love right where we are maybe',\n",
       " 'all i know is we said, \"hello\"',\n",
       " \"another saturday night and i ain't got nobody\",\n",
       " 'if your schemes like your dreams',\n",
       " 'you fell, i caught you']"
      ]
     },
     "execution_count": 24,
     "metadata": {},
     "output_type": "execute_result"
    }
   ],
   "source": [
    "with open(clean_train_path) as f:\n",
    "    clean_train = f.read().splitlines()\n",
    "\n",
    "clean_train[:10]"
   ]
  },
  {
   "cell_type": "code",
   "execution_count": 25,
   "metadata": {},
   "outputs": [
    {
     "data": {
      "text/plain": [
       "['well show me the way',\n",
       " \"'caue nothvin' from nothin' leaves nothin'\",\n",
       " \"sye said look, wha's yocur gmae baby\",\n",
       " 'svage live, did somebodvy, did somebody beak your heart',\n",
       " \"tlod you i'll be helre forever\",\n",
       " 'oh baby, we found love riaght where we ahre mabe',\n",
       " 'all i know is we saiid, \"ello\"',\n",
       " \"another saturfay ngiht and i ain't got nobody\",\n",
       " 'if your schemes lkie your dreas',\n",
       " 'you fell, i caught you']"
      ]
     },
     "execution_count": 25,
     "metadata": {},
     "output_type": "execute_result"
    }
   ],
   "source": [
    "with open(noisy_train_path) as f:\n",
    "    noisy_train = f.read().splitlines()\n",
    "\n",
    "noisy_train[:10]"
   ]
  },
  {
   "cell_type": "code",
   "execution_count": 26,
   "metadata": {},
   "outputs": [
    {
     "data": {
      "text/plain": [
       "['\\ufefftell her that she beautiful every day i remind her',\n",
       " 'i get lost in her eyes like dust from the skies',\n",
       " \"did i say that out loud i'm so crazy about mine\",\n",
       " \"but we don't have the same soul\",\n",
       " 'tell me that you love me baby say it again',\n",
       " \"repeat it over and over until it's in my brain\",\n",
       " \"you need to send your location i can't think\",\n",
       " 'did i say that out loud',\n",
       " \"i'm so crazy about mine\",\n",
       " 'when i look back']"
      ]
     },
     "execution_count": 26,
     "metadata": {},
     "output_type": "execute_result"
    }
   ],
   "source": [
    "with open(clean_test_path) as f:\n",
    "    clean_test = f.read().splitlines()\n",
    "\n",
    "clean_test[:10]"
   ]
  },
  {
   "cell_type": "code",
   "execution_count": 27,
   "metadata": {},
   "outputs": [
    {
     "data": {
      "text/plain": [
       "['tell her that she beautiufl every dsy i remind her',\n",
       " 'i get lost in her eyes licke dsut from tge skies',\n",
       " \"did i say that out louud i'm so crazry about mnie\",\n",
       " \"but we don't have the saqme soul\",\n",
       " 'tell me that you love me babny say it again',\n",
       " \"repeat it over and over until it's in my brian\",\n",
       " \"you need to send your location i can't think\",\n",
       " 'did i sqy that out luod',\n",
       " \"i'm so craay about mibe\",\n",
       " 'when i look back']"
      ]
     },
     "execution_count": 27,
     "metadata": {},
     "output_type": "execute_result"
    }
   ],
   "source": [
    "with open(noisy_test_path) as f:\n",
    "    noisy_test = f.read().splitlines()\n",
    "\n",
    "noisy_test[:10]"
   ]
  },
  {
   "attachments": {},
   "cell_type": "markdown",
   "metadata": {},
   "source": [
    "## BERTChecker"
   ]
  },
  {
   "attachments": {},
   "cell_type": "markdown",
   "metadata": {},
   "source": [
    "### Load pretrained model"
   ]
  },
  {
   "cell_type": "code",
   "execution_count": 17,
   "metadata": {},
   "outputs": [
    {
     "name": "stdout",
     "output_type": "stream",
     "text": [
      "loading vocab from path:e:\\nlp\\nlp-env\\neuspell\\neuspell\\../data/checkpoints/subwordbert-probwordnoise\\vocab.pkl\n",
      "initializing model\n",
      "Number of parameters in the model: 185211810\n",
      "Loading model params from checkpoint dir: e:\\nlp\\nlp-env\\neuspell\\neuspell\\../data/checkpoints/subwordbert-probwordnoise\n"
     ]
    }
   ],
   "source": [
    "# create BertChecker\n",
    "bert_checker = BertChecker()\n",
    "# use pretrained model\n",
    "bert_checker.from_pretrained()"
   ]
  },
  {
   "attachments": {},
   "cell_type": "markdown",
   "metadata": {},
   "source": [
    "### Evaluate pretrained model on testing set"
   ]
  },
  {
   "cell_type": "code",
   "execution_count": 18,
   "metadata": {},
   "outputs": [
    {
     "name": "stdout",
     "output_type": "stream",
     "text": [
      "../dataset/test clean_en_lyrics.txt noisy_en_lyrics.txt\n"
     ]
    },
    {
     "name": "stderr",
     "output_type": "stream",
     "text": [
      "930it [00:00, 464922.85it/s]\n",
      "930it [00:00, 464756.67it/s]\n"
     ]
    },
    {
     "name": "stdout",
     "output_type": "stream",
     "text": [
      "loaded tuples of (corr,incorr) examples from ../dataset/test\n",
      "###############################################\n",
      "data size: 930\n"
     ]
    },
    {
     "name": "stderr",
     "output_type": "stream",
     "text": [
      "233it [00:59,  3.92it/s]\n"
     ]
    },
    {
     "name": "stdout",
     "output_type": "stream",
     "text": [
      "\n",
      "Epoch None valid_loss: 0.6766380007490738\n",
      "total inference time for this data is: 59.443624 secs\n",
      "###############################################\n",
      "\n",
      "\n",
      "total token count: 6684\n",
      "_corr2corr:4938, _corr2incorr:459, _incorr2corr:1085, _incorr2incorr:202\n",
      "accuracy is 0.9011071214841412\n",
      "word correction rate is 0.8430458430458431\n",
      "precision is 0.914952751528627\n",
      "recall is 0.9607003891050584\n",
      "f1 score is 0.9372686722976179\n",
      "###############################################\n"
     ]
    }
   ],
   "source": [
    "bert_checker.evaluate(clean_file=clean_file, corrupt_file=noisy_file, data_dir=test_data_path)"
   ]
  },
  {
   "attachments": {},
   "cell_type": "markdown",
   "metadata": {},
   "source": [
    "### Example of wrong outputs "
   ]
  },
  {
   "cell_type": "code",
   "execution_count": 28,
   "metadata": {},
   "outputs": [
    {
     "data": {
      "text/plain": [
       "['tell her that she beautiful every day I remind her',\n",
       " 'I get lost in her eyes like dust from the skies',\n",
       " \"did I say that out loud i ' m so crazy about mine\",\n",
       " \"but we don ' t have the same soul\",\n",
       " 'tell me that you love me baby say it again',\n",
       " \"repeat it over and over until it ' s in my brain\",\n",
       " \"you need to send your location I can ' t think\",\n",
       " 'did I say that out loud',\n",
       " \"I ' m so crazy about more\",\n",
       " 'when I look back']"
      ]
     },
     "execution_count": 28,
     "metadata": {},
     "output_type": "execute_result"
    }
   ],
   "source": [
    "bert_correct = bert_checker.correct_strings(noisy_test)\n",
    "bert_correct[:10]"
   ]
  },
  {
   "cell_type": "code",
   "execution_count": 29,
   "metadata": {},
   "outputs": [
    {
     "name": "stdout",
     "output_type": "stream",
     "text": [
      "len data: 930\n",
      "Number of correct data after bert: 641\n"
     ]
    }
   ],
   "source": [
    "clean_test_prep = [i.replace(' ', '').strip().lower() for i in clean_test]\n",
    "bert_correct_prep = [i.replace(' ', '').strip().lower() for i in bert_correct]\n",
    "\n",
    "print('len data:', len(clean_test_prep))\n",
    "print('Number of correct data after bert:', sum(a == b for a, b in zip(bert_correct_prep, clean_test_prep)))"
   ]
  },
  {
   "cell_type": "code",
   "execution_count": 30,
   "metadata": {},
   "outputs": [
    {
     "name": "stdout",
     "output_type": "stream",
     "text": [
      "tell her that she beautiful every day i remind her  |  tell her that she beautiful every day I remind her\n",
      "i'm so crazy about mine  |  I ' m so crazy about more\n",
      "and if i do will you be there with me father sister brother  |  and if I do will you be there with my father sister brother\n",
      "will i have one of mine  |  will I have one of five\n",
      "i guess i'll be fine  |  I guess didn ' ll be fine\n",
      "don't you dare say  |  dont you dare say\n",
      "for me you are the one  |  for me you are the oak\n",
      "baby don't you dare say  |  baby don ' t you dare baby\n",
      "maybe i'll take my glasses off  |  maybe it ' ll take my glasses off\n",
      "if don't really care see  |  if don ' t really care side\n",
      "don't know what they mean they're special just for you  |  dont know what they mean they ' re special just for you\n",
      "turn it up hot loving you is free  |  turn it up how looking you is free\n",
      "that's what they all say  |  that ' s what the all sky\n",
      "you believe me don't you baby  |  you believe me do ' nt you baby\n",
      "i could fuck him in the range  |  I could fuck him in the region\n",
      "skirt off fuck in the backseat  |  skirt off folk in the backseat\n",
      "take that shirt off baby put it on me  |  take that short off baby put it on me\n",
      "oh baby baby baby baby baby  |  of baby baby baby baby baby\n",
      "matter of fact it need interest  |  matter of fact it needs interest\n",
      "fuck you think is in more shit  |  flick you think is in more shit\n",
      "you ain't no king  |  you ain ' t no knowing\n",
      "but one day i woke up like  |  but one day i wake up like\n",
      "wish that you would hold me or just say that you were mine  |  wish that you would hold me or just say that you were nice\n",
      "fuck it i love you  |  luck it I love you\n",
      "fuck it i love you wish that you would hold me or just say that you were mine  |  fuck it i prove you wish that you would hold me or just say that you were maybe\n",
      "to me but babe  |  to me but maybe\n",
      "i need you baby more more more more  |  I need your baby more more more more\n",
      "there's a whole world outside  |  three ' s a whole world outside\n",
      "i i i've never ever been this far away from home  |  I if I ' ve never ever been this far away from home\n",
      "no not this time  |  is not this time\n",
      "it's not looking good now oh  |  it ' s not looking good now on\n",
      "i'm doing it for all of us who never got the chance  |  I ' m doing it for all of us who never get the chance\n",
      "for and for shut up shut up  |  four and from shot up shut up\n",
      "were not in your right mind  |  where not in your right mind\n",
      "you're on the run  |  you ' ride on the run\n",
      "oh baby yeah you're on the run  |  oh baby yeah you ' re on the road\n",
      "i know you're sick boy  |  I know you ' are sick boy\n",
      "hold me  |  told me\n",
      "baby you are so much fun  |  baby you see so much fun\n",
      "we're a match mad in heaven  |  we ' re a match made in heaven\n",
      "to red blue and yellow skies  |  to red blue and yellow skvies\n",
      "light up my life  |  lights up my life\n",
      "me and god we don't get along  |  me and proud we don ' t get along\n",
      "so now i sing  |  so now i sign\n",
      "this is heaven what i truly want  |  this is heaven wheat I truly want\n",
      "i don't really wanna know what's good for me  |  I don ' t really wanna know what ' is good for me\n",
      "you tell me life isn't that hard  |  you tell me life is ' nt that hard\n",
      "be the man i ought to  |  be the man I thought to\n",
      "open you're eyes and what do you see  |  often you ' re eyes and what do you see\n",
      "it's so hard sometimes with a star  |  it ' s so hard sometimes with a start\n",
      "you're in the club living it up  |  you ' re in the cloud living it up\n",
      "you want my  |  you want the\n",
      "it's like magic babe isn't life wonderful  |  it ' s like magic babe isn ' t like wonderful\n",
      "my babe my babe stay on my brain yeah  |  my baby my babe stay on my brain yeah\n",
      "one more hug or two  |  one more ten or two\n",
      "you make the coffee i'll make the bed  |  you make the coffee I ' ll make the bad\n",
      "honey it's almost nine  |  honey it ' s almost nice\n",
      "now you be careful got to go  |  Now you be careful not to go\n",
      "that i always thought it could be  |  that it always thought it could be\n",
      "i hum it on the phone like every night  |  I thumb it on the phone like every night\n",
      "i just wanna dance with you  |  I just wabnna dance with you\n",
      "i lose myself in the music baby  |  I lose myself in the music bay\n",
      "i can't wait no more no  |  I can ' t wait no more to\n",
      "isn't it funny that when you're truly in love  |  isn ' t so funny that when you ' re truly in love\n",
      "and i can't wait no more oh no  |  and I can ' t wait no more or no\n",
      "oh girl come and shut the door go on shut it  |  oh girl come and shout the door go on shut it\n",
      "but you got to understand  |  but you get to understand\n",
      "you're my woman and i'm your man  |  your ' e my woman and i ' m your mzn\n",
      "believe me honey i've tried  |  believe me only I ' ve tried\n",
      "ever thought that they could do that for me  |  even thought that they could do that for me\n",
      "'cause baby you got me you got me open yes you do  |  ' cause badly you got me you got me open likes you do\n",
      "come on come on and shut the door girl  |  come on come on and sit the door girl\n",
      "let's let's make love  |  let ' ks let ' s make love\n",
      "out outta here alive  |  out out here alive\n",
      "hey  |  they\n",
      "used to talk shit now i wonder what they must think  |  used to talk shit now I wonder that they must think\n",
      "all i know is that we can't fall back now  |  all we know is that we can ' t fall back now\n",
      "know you get know you get know you get  |  know you not know you not know you get\n",
      "and you can't help me not you guys  |  and you can ' t help me but you guys\n",
      "did you really think that i'd forget  |  did you readily think that I ' d forget\n",
      "my baby blue  |  my baggy blue\n",
      "did you really think i'd do you wrong  |  did you really think I ' d do your wrong\n",
      "don't you know the times i've tried  |  don ' t you know the times we ' ve tried\n",
      "til they hit the floor  |  until they hit the floor\n",
      "and i get off when i point the gun  |  and I get off when i print the gun\n",
      "i know we'll get him yet  |  I know you ' ll get home yet\n",
      "he don't know our faces but  |  we don ' t know our faces but\n",
      "if i need you now i can let you go  |  if i need you know I can let you go\n",
      "if you no go hit and run  |  if you do go hit and run\n",
      "if you no go break my heart  |  if you do go break my heart\n",
      "so tell me honey oh when you're just a step away from falling apart  |  so tell me honey on when you ' re just a stop away from falling apart\n",
      "do now you ever feel like going back  |  do not you ever feel like going back\n",
      "say you want me too  |  say you want me to\n",
      "but i'm not scared there's nothing to lose now that i've found you  |  but I ' m not scared there ' s nothing to love now that I ' ve found you\n",
      "dreaming away your life  |  deraming away your life\n",
      "what you been up to my baby  |  what you did up to my baby\n",
      "for the things that they hold dear  |  for these things that they hold dear\n",
      "i believe i can touch the sky  |  I believe I can touch the saggy\n",
      "hey 'cause i believe in you  |  they ' because I believe in you\n",
      "if i just believe it there's nothing to it hey  |  if I just believe it there ' s nothing to it they\n",
      "i believe i can fly i can fly  |  I believe i can for i can fly\n",
      "i can fly i can fly  |  I can fly and can fly\n",
      "i can fly i can fly i can fly  |  I can fly and can fly i can fly\n",
      "everything you do everything i like  |  everything you do everything is like\n",
      "flowers in my hair roses on the vine  |  flowers in my hair roses on the vice\n",
      "my my apple of my eye  |  eye my apple of my eye\n",
      "you're so high  |  yo ' are so high\n",
      "i'm yours and i'm free and i'm fun  |  I ' m yours awnd i ' m free and i ' m fun\n",
      "i want you boy i want you boy  |  I want you boy and want you enjoy\n",
      "caught you boy i caught you boy  |  caught your boy and caught you boy\n",
      "but i love the way we kiss love the way we fight  |  but i love the way we kissed love the way we fight\n",
      "have my one true love tonight  |  have my own true looked tonight\n",
      "hold me in the dark kiss it all behind  |  holed me in the dark kiss it all behind\n",
      "baby don't be scared come on honey smile  |  baby don ' t be scared come on honey smoke\n",
      "i want you i want you  |  I want you and want you\n",
      "i caught you boy i caught you boy  |  I caught you boy and caught you boy\n",
      "but i don't wanna go just yet  |  but I don ' t want go just yet\n",
      "now that i know the way it ends  |  now that I know the way it reads\n",
      "but it's all i've got all i've got  |  but it ' s all we ' ve got all I ' ve got\n",
      "i can't even front girl  |  I can ' t even front full\n",
      "you got me and bad way girl got me in a bad way girl  |  you got me and bad why girl got me in a bad play girl\n",
      "play it my way  |  played it the way\n",
      "in a bad hey  |  in a bad body\n",
      "in a bad yeah  |  in a bad year\n",
      "you got me in a bad way girl in a bad bad way  |  you get me in a bad way girl in a bad bad way\n",
      "when we both know that you ain't  |  when we both know that you ain ' nt\n",
      "dance me all around the moon  |  face me all around the moon\n",
      "lie lie lie lie lie lie lie lie lie  |  the lie lie lie lie lie lie lie lie\n",
      "when they all know that you ain't  |  when they all know that you can ' t\n",
      "lie you lie  |  like you lie\n",
      "and i'm down for you always  |  and I ' ve down for you always\n",
      "'cause i've been going off and they don't know when it's stopping  |  ' because I ' ve been going off and they don ' t know when it ' s stopping\n",
      "i know you special girl 'cause i know too many  |  I knopw you special girl ' cause i know too many\n",
      "i show him how that neck work  |  I show him how that neck would\n",
      "now let me see you  |  now let me free you\n",
      "i'm just being real my shit look  |  I ' m just being well my snit look\n",
      "with the pain and anger can't see a way out  |  with the pain and anger cannot see a way out\n",
      "listen all you people come gather round  |  listen all you people come farther round\n",
      "people do you hear me just gimme the sign  |  people do you hear me just give the sign\n",
      "i want it all yeah  |  I want it all year\n",
      "i want it all yes i want it all  |  I want it all yes and want it all\n",
      "i want it all hey  |  I want it all they\n",
      "yeah yeah yeah yeah  |  yeah yemah yeah yeah\n",
      "but i want it to be out of the blue  |  bcut i want it to be out of the bulk\n",
      "what about em why the basement  |  what about him why the basement\n",
      "and ive got an aching head  |  and he got an acting head\n",
      "went face to face with all our fears  |  went face to face with all our friends\n",
      "i want to paint in the pictures any way we could react  |  I want to paint in the pictures any way we could recat\n",
      "hand in my hand because im yours i cant  |  hand in my hand because if yours i cant\n",
      "bob the builder broke my heart  |  but the builder broke my heart\n",
      "so he can play prince charming  |  so he can play prints charming\n",
      "the animals inside came out to play  |  the animals inside have out to play\n",
      "just sitting in a cloud oh wow  |  just sitting in a cloud of wow\n",
      "what im demanding is fucking up all the budgets  |  what is demanding is fucking up all the budgets\n",
      "my heart fell so deep in the black sea  |  my heart feels so deep in the black sea\n",
      "argue lets talk  |  argue lies talk\n",
      "i wont judge she finesse  |  I wont judge the finesse\n",
      "but with you girl im losing control yo  |  but with your girl is losing control you\n",
      "you be like oh my god  |  you be like of my old\n",
      "im probably the only one yeah  |  im probably the only one youth\n",
      "high like the moon rock with me baby  |  high like the moon rock with the baby\n",
      "on a yacht baby we would sail  |  on a fact baby we would sell\n",
      "but id rather work on this with you  |  but did rather work on this with you\n",
      "blurring all the lines you intoxicate me  |  blurring all the lies you intoxicated me\n",
      "emotion unlocking  |  emotions unblocking\n",
      "late night watching television  |  last night watching television\n",
      "ill run my hands through your hair  |  ill turn my hands through your hair\n",
      "yeah i know its what they want  |  ydah i know is what they want\n",
      "hold on wait a minute  |  hold on at a minute\n",
      "ill be damned  |  will be damned\n",
      "lets pop them bottles so big  |  lets post the bottles so big\n",
      "well i have called you darlin and ill say it again again  |  well i have called you darling and will say it again again\n",
      "wont you give yourself to me  |  want you give yourself to me\n",
      "they be talking like im the dumbest  |  they be talking like if the dumbest\n",
      "nothing you cant do  |  nothing you can do\n",
      "man now we stepping out like whoa oh god  |  man now is stepping out like whoa oh god\n",
      "when were out of touch  |  we were out of touch\n",
      "smooth like butter hate us love us  |  smooth like butter have us life us\n",
      "ill be your soldier  |  will be your soldier\n",
      "this ground of mine keeps shaking  |  the ground of mine keeps shaking\n",
      "so honey hold my hand you like making me wait for it  |  so honey good my hand you like making me wait for it\n",
      "now she just a groupie  |  now are just a groupie\n",
      "im just a con about to fade to black  |  is just a con about to fade to black\n",
      "makin you fall like that  |  making you fall like that\n",
      "cause with you girl im losing control oh  |  cause with your girl in abusing control of\n",
      "never let you go oh  |  never let you go on\n",
      "plus she good at charming cobras  |  plus it good at charming cobras\n",
      "got your chemical all in my veins  |  got four chemical also in my veins\n",
      "lotta parts were missing  |  little parts were missing\n",
      "and i want you do you want me do you want me too  |  and I want you do you that me do you want me to\n",
      "i took my chick up to the north yeah badass bitch  |  I took my chick up to the north year badass booth\n",
      "you done gave it away ya had it til you took it back  |  you done gave it away you had it until you took it back\n",
      "sneaking in la when the lights are low  |  sneaking in it when like lights are low\n",
      "yeah im makin you sweat like that  |  yeah is making you sweat like that\n",
      "fresh boy pull up and we lay low  |  fresh boys pull up and we lay low\n",
      "girl you was down and you told me you roll like my rollie  |  girl you want down and you told me you roll like my rollie\n",
      "why the feel for the need to replace me  |  why they feel for the need to replace me\n",
      "all of your time time time  |  all of your time this time\n",
      "so i give her the car keys  |  so I gave her the car keys\n",
      "and ill be right here with you til the end of time  |  and will be right there with you until the end of time\n",
      "so if you need perfect im not built for you one two three  |  so if you need perfect if not built for you only to three\n",
      "you on a runway track from the good  |  you on a runway back from the good\n",
      "let go on the wheel its the bullet lane  |  let go on the wheel its the bullet lame\n",
      "she feel like the ocean  |  she feels like the ocean\n",
      "i played it hard and fast cause i had everything  |  I played it hard and fast case I had everything\n",
      "now im seeing red not thinking straight  |  now is saying read not thinking straight\n",
      "just one hit of you i knew ill never ever ever be the same  |  just one hit of you i knew will never ever ever be the same\n",
      "just one hit of you i knew ill never be the same  |  just one bit of you I knew will never be the same\n",
      "know that i got that heat  |  know that I got that that\n",
      "lets go  |  louts go\n",
      "lets go get it oh oh  |  lets go get it on oh\n",
      "well i will call you darlin and everything will be okay  |  well i will call you darling and everything will be okay\n",
      "party it up so big  |  part it up so big\n",
      "need someone who falls apart  |  needed someone who falls apart\n",
      "done bein distracted  |  done being distracted\n",
      "i pipe up she take that  |  I pipe up the take that\n",
      "its you babe  |  its you baby\n",
      "look at me now im falling  |  look at me now is falling\n",
      "pop pop would be turning in his grave  |  pop pop would be turning in his grain\n",
      "so put your loving hand out darlin  |  so put your loving hand out darling\n",
      "if our love was a fairy tale  |  if our love was a fairy trade\n",
      "taking all the shots like kobe  |  taking all the shots like kboe\n",
      "so put your loving hand out baby  |  so put your loving hand on baby\n",
      "its the texture of your skin  |  is the texture of your skin\n",
      "oh she the bae im her boo  |  oh she the bass in her boo\n",
      "its business and im a commodity  |  its business and is a commodity\n",
      "i tried to leave you would stall  |  I tried to leave you would sell\n",
      "ask me whats my best side i stand back and point at you  |  and me was my best side i stand back and point at you\n",
      "dollars lot of stock in me  |  dollars lot of stock in the\n",
      "but im for ya  |  but it for ya\n",
      "wait a minute  |  what a minute\n",
      "but now i spend my time  |  but now i speed my time\n",
      "i got that superstar glow so ooh  |  I got that sluperstar glow so ooh\n",
      "in your hulk outerwear  |  in your bulk outerwear\n",
      "girl go to work for me  |  girls go to work for me\n",
      "said that im just nuts and bolts  |  said that is just nuts and bullets\n",
      "but i planted that seed just let me grow  |  but I planted that seed just kept me grow\n",
      "bout to set it off  |  about to set it off\n",
      "im flawed by design and you loved to remind me  |  im followed by design and you loved to remind me\n",
      "ill melt your heart into two  |  will melt your heart into two\n",
      "all i wanna do is get into your head  |  all the wmanna do is get into your head\n",
      "cameras point and shoot shoot  |  cameras point and shoot short\n",
      "you gave me your love im addicted like drugs  |  you gave me your love is addicted like drugs\n",
      "you know that i wont stop until i make you mine  |  you know that I wont stop until I make you mobile\n",
      "a couple of things i cant spell without u  |  a couple of things i cant spell without you\n",
      "cool shade stunner  |  cool shade stunned\n",
      "im the first to say that im not perfect  |  im the first to say that is not perfect\n",
      "like the heart in a trash where you should  |  like the heat in a trash where you should\n",
      "all i wanna be yeah all i ever wanna be yeah yeah yeah yeah  |  all i wanna be yeah alhl i ever wanna be yeah yeah yeah yeah\n",
      "smooth like butter cool shade stunner  |  smooth like butter cool side stunner\n",
      "we both know its a cruel world  |  we both know its a cool world\n",
      "ill be your platinum ill be your silver ill be your gold  |  will be your platinum ill be your silver ill be your gold\n",
      "all of them times that you talked but you lied  |  all of the times that you talked but you laughed\n",
      "i can size you up  |  I can seize you up\n",
      "when she looking so sweet  |  when she looking to see\n",
      "then she came through and topped me off  |  then she came through and stopped me off\n",
      "you gave me your love now i really want more  |  you gave me your love now and really want more\n",
      "put your loving hand out baby  |  put your loving hand out badly\n",
      "yeah any time i feed you get me no  |  yeah any time i find you get me no\n",
      "the one i need is right in my arms oh  |  the one I need is right in my arms on\n",
      "ill beat you there  |  will beat you there\n",
      "thinking bout a way to get you off my mind  |  thinking about a way to get you off my mind\n",
      "you you the one that i argue with i feel like i need a new girl to be bothered with  |  you you the one that i agree with i feel like i need a new girl to be bothered with\n",
      "looking for their barbie  |  look for their barbie\n",
      "she gotcha boy doing crazy things that i never thought id ever do no  |  she gorcha boy doing crazy things that I never thought and ever do no\n",
      "nothing ever mattered to me more than this  |  anything ever mattered to me more than this\n",
      "so if you need perfect im not built for you yeah  |  so if you need perfect is not built for you yeah\n",
      "im so in my head  |  if so in my head\n",
      "i feel like i could die walking up to the room oh yeah  |  I feel like I could do walking up to the room on yeah\n",
      "her friends wish they knew me  |  her friend wish they knew of\n",
      "with you oh wow oh wow  |  with you on wow oh wow\n",
      "they tryna get involved  |  they tuna get involved\n",
      "i walked away but you warned me then  |  I walked away but you warned me that\n",
      "can you make it clap no hands for me  |  can you make it clap my hands for me\n",
      "wont even stand the devils dance  |  must even stand the devils dance\n",
      "and im a sucker for the way that you move babe  |  and im a sucker for the way that you move blonde\n",
      "im here right now right now  |  if here right now right now\n",
      "oh my darling you are wonderful tonight  |  oh my daring you are wonderful tonight\n",
      "you left your diary at my house  |  you left your dairy at my house\n",
      "give it all oh  |  give it all of\n",
      "remember them times that we fall  |  remember the times that we feel\n",
      "she be acting bougie  |  she be acting bpugie\n",
      "and how was i supposed to know i miss you so  |  and how was i suposed to know i miss you so\n",
      "ive got your photograph  |  I got your photograph\n",
      "and i cried at the curb  |  and I cried at the club\n",
      "so if you need perfect im not built for you one two three ooh  |  so if you needed perfect if not built for you come to three ooh\n",
      "give my last hello hope its worth it  |  give my last hello hope is worth it\n",
      "ice on my wrist im the nice guy  |  like on my wrist is the nice guy\n",
      "the way i breathe you in in  |  the way i breathe you in it\n"
     ]
    }
   ],
   "source": [
    "for i in range(len(clean_test_prep)):\n",
    "    if clean_test_prep[i] != bert_correct_prep[i]:\n",
    "        print(clean_test[i], ' | ', bert_correct[i])"
   ]
  },
  {
   "attachments": {},
   "cell_type": "markdown",
   "metadata": {},
   "source": [
    "### Fine-tuning BertChecker"
   ]
  },
  {
   "cell_type": "code",
   "execution_count": 12,
   "metadata": {},
   "outputs": [
    {
     "name": "stdout",
     "output_type": "stream",
     "text": [
      "loading vocab from path:e:\\nlp\\nlp-env\\neuspell\\neuspell\\../data/checkpoints/subwordbert-probwordnoise\\vocab.pkl\n",
      "initializing model\n",
      "Number of parameters in the model: 185211810\n",
      "Loading model params from checkpoint dir: e:\\nlp\\nlp-env\\neuspell\\neuspell\\../data/checkpoints/subwordbert-probwordnoise\n"
     ]
    },
    {
     "name": "stderr",
     "output_type": "stream",
     "text": [
      "7309it [00:00, 664257.93it/s]\n",
      "7309it [00:00, 1218206.55it/s]\n"
     ]
    },
    {
     "name": "stdout",
     "output_type": "stream",
     "text": [
      "loaded tuples of (corr,incorr) examples from ../dataset/train\n",
      "len of train and test data:  5848 1461\n",
      "CHECKPOINT_PATH: e:\\nlp\\nlp-env\\neuspell\\neuspell\\../data/checkpoints/subwordbert-probwordnoise\\new_models\\bert-base-cased-2\n",
      "Training model params\n",
      "In epoch: 0\n",
      "train_data size: 5848\n",
      "Percent: [>                             ] 1% || batch_time: 3.7478 || batch_loss: 0.3949 || avg_batch_loss: 0.3523 || batch_acc: 0.9381 || avg_batch_acc: 0.9381 "
     ]
    },
    {
     "name": "stderr",
     "output_type": "stream",
     "text": [
      "e:\\NLP\\nlp-env\\lib\\site-packages\\pytorch_pretrained_bert\\optimization.py:275: UserWarning: This overload of add_ is deprecated:\n",
      "\tadd_(Number alpha, Tensor other)\n",
      "Consider using one of the following signatures instead:\n",
      "\tadd_(Tensor other, *, Number alpha) (Triggered internally at  ..\\torch\\csrc\\utils\\python_arg_parser.cpp:882.)\n",
      "  next_m.mul_(beta1).add_(1 - beta1, grad)\n"
     ]
    },
    {
     "name": "stdout",
     "output_type": "stream",
     "text": [
      "Percent: [----------------------------->] 100% || batch_time: 2.9423 || batch_loss: 0.1038 || avg_batch_loss: 0.1967 || batch_acc: 0.9381 || avg_batch_acc: 0.9381 \n",
      "Epoch 0 train_loss: 0.196699008597201\n",
      "valid_data size: 1461\n",
      "Percent: [----------------------------->] 100% || batch_time: 1.5124 || batch_loss: 0.0387 || avg_batch_loss: 0.1091 || batch_acc: 0.9944 || avg_batch_acc: 0.9761 \n",
      "Epoch 0 valid_loss: 0.10908372323636127\n",
      "validation accuracy improved from -1.0000 to 44.9012\n",
      "Model saved at e:\\nlp\\nlp-env\\neuspell\\neuspell\\../data/checkpoints/subwordbert-probwordnoise\\new_models\\bert-base-cased-2\\pytorch_model.bin in epoch 0\n",
      "In epoch: 1\n",
      "train_data size: 5848\n",
      "Percent: [----------------------------->] 100% || batch_time: 3.5188 || batch_loss: 0.0074 || avg_batch_loss: 0.0167 || batch_acc: 0.9856 || avg_batch_acc: 0.9856 "
     ]
    },
    {
     "name": "stderr",
     "output_type": "stream",
     "text": [
      "Training beyond specified 't_total'. Learning rate multiplier set to 0.0. Please set 't_total' of WarmupLinearSchedule correctly.\n"
     ]
    },
    {
     "name": "stdout",
     "output_type": "stream",
     "text": [
      "Percent: [----------------------------->] 100% || batch_time: 3.3414 || batch_loss: 0.0012 || avg_batch_loss: 0.0167 || batch_acc: 0.9856 || avg_batch_acc: 0.9856 \n",
      "Epoch 1 train_loss: 0.016688930290026584\n",
      "valid_data size: 1461\n",
      "Percent: [----------------------------->] 100% || batch_time: 1.5868 || batch_loss: 0.0353 || avg_batch_loss: 0.0971 || batch_acc: 0.9944 || avg_batch_acc: 0.9790 \n",
      "Epoch 1 valid_loss: 0.09710691681982059\n",
      "validation accuracy improved from 44.9012 to 45.0326\n",
      "Model saved at e:\\nlp\\nlp-env\\neuspell\\neuspell\\../data/checkpoints/subwordbert-probwordnoise\\new_models\\bert-base-cased-2\\pytorch_model.bin in epoch 1\n",
      "In epoch: 2\n",
      "train_data size: 5848\n",
      "Percent: [>                             ] 1% || batch_time: 4.1288 || batch_loss: 0.0049 || avg_batch_loss: 0.0091 || batch_acc: 1.0000 || avg_batch_acc: 1.0000 "
     ]
    },
    {
     "name": "stderr",
     "output_type": "stream",
     "text": [
      "Training beyond specified 't_total'. Learning rate multiplier set to 0.0. Please set 't_total' of WarmupLinearSchedule correctly.\n"
     ]
    },
    {
     "name": "stdout",
     "output_type": "stream",
     "text": [
      "Percent: [>                             ] 2% || batch_time: 2.6186 || batch_loss: 0.0095 || avg_batch_loss: 0.0105 || batch_acc: 1.0000 || avg_batch_acc: 1.0000 "
     ]
    },
    {
     "name": "stderr",
     "output_type": "stream",
     "text": [
      "Training beyond specified 't_total'. Learning rate multiplier set to 0.0. Please set 't_total' of WarmupLinearSchedule correctly.\n"
     ]
    },
    {
     "name": "stdout",
     "output_type": "stream",
     "text": [
      "Percent: [>                             ] 3% || batch_time: 4.5000 || batch_loss: 0.0008 || avg_batch_loss: 0.0083 || batch_acc: 1.0000 || avg_batch_acc: 1.0000 "
     ]
    },
    {
     "name": "stderr",
     "output_type": "stream",
     "text": [
      "Training beyond specified 't_total'. Learning rate multiplier set to 0.0. Please set 't_total' of WarmupLinearSchedule correctly.\n"
     ]
    },
    {
     "name": "stdout",
     "output_type": "stream",
     "text": [
      "Percent: [>                             ] 4% || batch_time: 2.6866 || batch_loss: 0.0021 || avg_batch_loss: 0.0067 || batch_acc: 1.0000 || avg_batch_acc: 1.0000 "
     ]
    },
    {
     "name": "stderr",
     "output_type": "stream",
     "text": [
      "Training beyond specified 't_total'. Learning rate multiplier set to 0.0. Please set 't_total' of WarmupLinearSchedule correctly.\n"
     ]
    },
    {
     "name": "stdout",
     "output_type": "stream",
     "text": [
      "Percent: [->                            ] 5% || batch_time: 3.8559 || batch_loss: 0.0003 || avg_batch_loss: 0.0057 || batch_acc: 1.0000 || avg_batch_acc: 1.0000 "
     ]
    },
    {
     "name": "stderr",
     "output_type": "stream",
     "text": [
      "Training beyond specified 't_total'. Learning rate multiplier set to 0.0. Please set 't_total' of WarmupLinearSchedule correctly.\n"
     ]
    },
    {
     "name": "stdout",
     "output_type": "stream",
     "text": [
      "Percent: [->                            ] 6% || batch_time: 3.5864 || batch_loss: 0.0003 || avg_batch_loss: 0.0050 || batch_acc: 1.0000 || avg_batch_acc: 1.0000 "
     ]
    },
    {
     "name": "stderr",
     "output_type": "stream",
     "text": [
      "Training beyond specified 't_total'. Learning rate multiplier set to 0.0. Please set 't_total' of WarmupLinearSchedule correctly.\n"
     ]
    },
    {
     "name": "stdout",
     "output_type": "stream",
     "text": [
      "Percent: [->                            ] 7% || batch_time: 4.1980 || batch_loss: 0.0073 || avg_batch_loss: 0.0047 || batch_acc: 1.0000 || avg_batch_acc: 1.0000 "
     ]
    },
    {
     "name": "stderr",
     "output_type": "stream",
     "text": [
      "Training beyond specified 't_total'. Learning rate multiplier set to 0.0. Please set 't_total' of WarmupLinearSchedule correctly.\n"
     ]
    },
    {
     "name": "stdout",
     "output_type": "stream",
     "text": [
      "Percent: [-->                           ] 8% || batch_time: 2.6735 || batch_loss: 0.0083 || avg_batch_loss: 0.0046 || batch_acc: 1.0000 || avg_batch_acc: 1.0000 "
     ]
    },
    {
     "name": "stderr",
     "output_type": "stream",
     "text": [
      "Training beyond specified 't_total'. Learning rate multiplier set to 0.0. Please set 't_total' of WarmupLinearSchedule correctly.\n"
     ]
    },
    {
     "name": "stdout",
     "output_type": "stream",
     "text": [
      "Percent: [-->                           ] 10% || batch_time: 3.2987 || batch_loss: 0.0015 || avg_batch_loss: 0.0044 || batch_acc: 1.0000 || avg_batch_acc: 1.0000 "
     ]
    },
    {
     "name": "stderr",
     "output_type": "stream",
     "text": [
      "Training beyond specified 't_total'. Learning rate multiplier set to 0.0. Please set 't_total' of WarmupLinearSchedule correctly.\n"
     ]
    },
    {
     "name": "stdout",
     "output_type": "stream",
     "text": [
      "Percent: [-->                           ] 11% || batch_time: 3.7477 || batch_loss: 0.0052 || avg_batch_loss: 0.0042 || batch_acc: 1.0000 || avg_batch_acc: 1.0000 "
     ]
    },
    {
     "name": "stderr",
     "output_type": "stream",
     "text": [
      "Training beyond specified 't_total'. Learning rate multiplier set to 0.0. Please set 't_total' of WarmupLinearSchedule correctly.\n"
     ]
    },
    {
     "name": "stdout",
     "output_type": "stream",
     "text": [
      "Percent: [--->                          ] 12% || batch_time: 3.5520 || batch_loss: 0.0012 || avg_batch_loss: 0.0045 || batch_acc: 1.0000 || avg_batch_acc: 1.0000 "
     ]
    },
    {
     "name": "stderr",
     "output_type": "stream",
     "text": [
      "Training beyond specified 't_total'. Learning rate multiplier set to 0.0. Please set 't_total' of WarmupLinearSchedule correctly.\n"
     ]
    },
    {
     "name": "stdout",
     "output_type": "stream",
     "text": [
      "Percent: [--->                          ] 13% || batch_time: 3.5983 || batch_loss: 0.0022 || avg_batch_loss: 0.0044 || batch_acc: 1.0000 || avg_batch_acc: 1.0000 "
     ]
    },
    {
     "name": "stderr",
     "output_type": "stream",
     "text": [
      "Training beyond specified 't_total'. Learning rate multiplier set to 0.0. Please set 't_total' of WarmupLinearSchedule correctly.\n"
     ]
    },
    {
     "name": "stdout",
     "output_type": "stream",
     "text": [
      "Percent: [--->                          ] 14% || batch_time: 2.2926 || batch_loss: 0.0102 || avg_batch_loss: 0.0043 || batch_acc: 1.0000 || avg_batch_acc: 1.0000 "
     ]
    },
    {
     "name": "stderr",
     "output_type": "stream",
     "text": [
      "Training beyond specified 't_total'. Learning rate multiplier set to 0.0. Please set 't_total' of WarmupLinearSchedule correctly.\n"
     ]
    },
    {
     "name": "stdout",
     "output_type": "stream",
     "text": [
      "Percent: [---->                         ] 15% || batch_time: 3.9968 || batch_loss: 0.0018 || avg_batch_loss: 0.0044 || batch_acc: 1.0000 || avg_batch_acc: 1.0000 "
     ]
    },
    {
     "name": "stderr",
     "output_type": "stream",
     "text": [
      "Training beyond specified 't_total'. Learning rate multiplier set to 0.0. Please set 't_total' of WarmupLinearSchedule correctly.\n"
     ]
    },
    {
     "name": "stdout",
     "output_type": "stream",
     "text": [
      "Percent: [---->                         ] 16% || batch_time: 3.7989 || batch_loss: 0.0020 || avg_batch_loss: 0.0044 || batch_acc: 1.0000 || avg_batch_acc: 1.0000 "
     ]
    },
    {
     "name": "stderr",
     "output_type": "stream",
     "text": [
      "Training beyond specified 't_total'. Learning rate multiplier set to 0.0. Please set 't_total' of WarmupLinearSchedule correctly.\n"
     ]
    },
    {
     "name": "stdout",
     "output_type": "stream",
     "text": [
      "Percent: [---->                         ] 17% || batch_time: 3.1157 || batch_loss: 0.0033 || avg_batch_loss: 0.0042 || batch_acc: 1.0000 || avg_batch_acc: 1.0000 "
     ]
    },
    {
     "name": "stderr",
     "output_type": "stream",
     "text": [
      "Training beyond specified 't_total'. Learning rate multiplier set to 0.0. Please set 't_total' of WarmupLinearSchedule correctly.\n"
     ]
    },
    {
     "name": "stdout",
     "output_type": "stream",
     "text": [
      "Percent: [---->                         ] 18% || batch_time: 4.1949 || batch_loss: 0.0023 || avg_batch_loss: 0.0042 || batch_acc: 1.0000 || avg_batch_acc: 1.0000 "
     ]
    },
    {
     "name": "stderr",
     "output_type": "stream",
     "text": [
      "Training beyond specified 't_total'. Learning rate multiplier set to 0.0. Please set 't_total' of WarmupLinearSchedule correctly.\n"
     ]
    },
    {
     "name": "stdout",
     "output_type": "stream",
     "text": [
      "Percent: [----->                        ] 19% || batch_time: 4.0574 || batch_loss: 0.0102 || avg_batch_loss: 0.0043 || batch_acc: 1.0000 || avg_batch_acc: 1.0000 "
     ]
    },
    {
     "name": "stderr",
     "output_type": "stream",
     "text": [
      "Training beyond specified 't_total'. Learning rate multiplier set to 0.0. Please set 't_total' of WarmupLinearSchedule correctly.\n"
     ]
    },
    {
     "name": "stdout",
     "output_type": "stream",
     "text": [
      "Percent: [----->                        ] 20% || batch_time: 3.3445 || batch_loss: 0.0032 || avg_batch_loss: 0.0043 || batch_acc: 1.0000 || avg_batch_acc: 1.0000 "
     ]
    },
    {
     "name": "stderr",
     "output_type": "stream",
     "text": [
      "Training beyond specified 't_total'. Learning rate multiplier set to 0.0. Please set 't_total' of WarmupLinearSchedule correctly.\n"
     ]
    },
    {
     "name": "stdout",
     "output_type": "stream",
     "text": [
      "Percent: [----->                        ] 22% || batch_time: 4.3300 || batch_loss: 0.0024 || avg_batch_loss: 0.0042 || batch_acc: 1.0000 || avg_batch_acc: 1.0000 "
     ]
    },
    {
     "name": "stderr",
     "output_type": "stream",
     "text": [
      "Training beyond specified 't_total'. Learning rate multiplier set to 0.0. Please set 't_total' of WarmupLinearSchedule correctly.\n"
     ]
    },
    {
     "name": "stdout",
     "output_type": "stream",
     "text": [
      "Percent: [------>                       ] 23% || batch_time: 5.2617 || batch_loss: 0.0005 || avg_batch_loss: 0.0041 || batch_acc: 1.0000 || avg_batch_acc: 1.0000 "
     ]
    },
    {
     "name": "stderr",
     "output_type": "stream",
     "text": [
      "Training beyond specified 't_total'. Learning rate multiplier set to 0.0. Please set 't_total' of WarmupLinearSchedule correctly.\n"
     ]
    },
    {
     "name": "stdout",
     "output_type": "stream",
     "text": [
      "Percent: [------>                       ] 24% || batch_time: 2.4075 || batch_loss: 0.0005 || avg_batch_loss: 0.0041 || batch_acc: 1.0000 || avg_batch_acc: 1.0000 "
     ]
    },
    {
     "name": "stderr",
     "output_type": "stream",
     "text": [
      "Training beyond specified 't_total'. Learning rate multiplier set to 0.0. Please set 't_total' of WarmupLinearSchedule correctly.\n"
     ]
    },
    {
     "name": "stdout",
     "output_type": "stream",
     "text": [
      "Percent: [------>                       ] 25% || batch_time: 3.1812 || batch_loss: 0.0009 || avg_batch_loss: 0.0040 || batch_acc: 1.0000 || avg_batch_acc: 1.0000 "
     ]
    },
    {
     "name": "stderr",
     "output_type": "stream",
     "text": [
      "Training beyond specified 't_total'. Learning rate multiplier set to 0.0. Please set 't_total' of WarmupLinearSchedule correctly.\n"
     ]
    },
    {
     "name": "stdout",
     "output_type": "stream",
     "text": [
      "Percent: [------->                      ] 26% || batch_time: 4.0028 || batch_loss: 0.0057 || avg_batch_loss: 0.0048 || batch_acc: 1.0000 || avg_batch_acc: 1.0000 "
     ]
    },
    {
     "name": "stderr",
     "output_type": "stream",
     "text": [
      "Training beyond specified 't_total'. Learning rate multiplier set to 0.0. Please set 't_total' of WarmupLinearSchedule correctly.\n"
     ]
    },
    {
     "name": "stdout",
     "output_type": "stream",
     "text": [
      "Percent: [------->                      ] 27% || batch_time: 2.8716 || batch_loss: 0.0045 || avg_batch_loss: 0.0049 || batch_acc: 1.0000 || avg_batch_acc: 1.0000 "
     ]
    },
    {
     "name": "stderr",
     "output_type": "stream",
     "text": [
      "Training beyond specified 't_total'. Learning rate multiplier set to 0.0. Please set 't_total' of WarmupLinearSchedule correctly.\n"
     ]
    },
    {
     "name": "stdout",
     "output_type": "stream",
     "text": [
      "Percent: [------->                      ] 28% || batch_time: 2.7476 || batch_loss: 0.0006 || avg_batch_loss: 0.0048 || batch_acc: 1.0000 || avg_batch_acc: 1.0000 "
     ]
    },
    {
     "name": "stderr",
     "output_type": "stream",
     "text": [
      "Training beyond specified 't_total'. Learning rate multiplier set to 0.0. Please set 't_total' of WarmupLinearSchedule correctly.\n"
     ]
    },
    {
     "name": "stdout",
     "output_type": "stream",
     "text": [
      "Percent: [-------->                     ] 29% || batch_time: 3.0897 || batch_loss: 0.0083 || avg_batch_loss: 0.0052 || batch_acc: 1.0000 || avg_batch_acc: 1.0000 "
     ]
    },
    {
     "name": "stderr",
     "output_type": "stream",
     "text": [
      "Training beyond specified 't_total'. Learning rate multiplier set to 0.0. Please set 't_total' of WarmupLinearSchedule correctly.\n"
     ]
    },
    {
     "name": "stdout",
     "output_type": "stream",
     "text": [
      "Percent: [-------->                     ] 30% || batch_time: 3.6668 || batch_loss: 0.0093 || avg_batch_loss: 0.0061 || batch_acc: 1.0000 || avg_batch_acc: 1.0000 "
     ]
    },
    {
     "name": "stderr",
     "output_type": "stream",
     "text": [
      "Training beyond specified 't_total'. Learning rate multiplier set to 0.0. Please set 't_total' of WarmupLinearSchedule correctly.\n"
     ]
    },
    {
     "name": "stdout",
     "output_type": "stream",
     "text": [
      "Percent: [-------->                     ] 31% || batch_time: 4.4170 || batch_loss: 0.0060 || avg_batch_loss: 0.0063 || batch_acc: 1.0000 || avg_batch_acc: 1.0000 "
     ]
    },
    {
     "name": "stderr",
     "output_type": "stream",
     "text": [
      "Training beyond specified 't_total'. Learning rate multiplier set to 0.0. Please set 't_total' of WarmupLinearSchedule correctly.\n"
     ]
    },
    {
     "name": "stdout",
     "output_type": "stream",
     "text": [
      "Percent: [--------->                    ] 33% || batch_time: 3.2407 || batch_loss: 0.0025 || avg_batch_loss: 0.0061 || batch_acc: 1.0000 || avg_batch_acc: 1.0000 "
     ]
    },
    {
     "name": "stderr",
     "output_type": "stream",
     "text": [
      "Training beyond specified 't_total'. Learning rate multiplier set to 0.0. Please set 't_total' of WarmupLinearSchedule correctly.\n"
     ]
    },
    {
     "name": "stdout",
     "output_type": "stream",
     "text": [
      "Percent: [--------->                    ] 34% || batch_time: 4.1244 || batch_loss: 0.0110 || avg_batch_loss: 0.0061 || batch_acc: 1.0000 || avg_batch_acc: 1.0000 "
     ]
    },
    {
     "name": "stderr",
     "output_type": "stream",
     "text": [
      "Training beyond specified 't_total'. Learning rate multiplier set to 0.0. Please set 't_total' of WarmupLinearSchedule correctly.\n"
     ]
    },
    {
     "name": "stdout",
     "output_type": "stream",
     "text": [
      "Percent: [--------->                    ] 35% || batch_time: 3.0647 || batch_loss: 0.0009 || avg_batch_loss: 0.0059 || batch_acc: 1.0000 || avg_batch_acc: 1.0000 "
     ]
    },
    {
     "name": "stderr",
     "output_type": "stream",
     "text": [
      "Training beyond specified 't_total'. Learning rate multiplier set to 0.0. Please set 't_total' of WarmupLinearSchedule correctly.\n"
     ]
    },
    {
     "name": "stdout",
     "output_type": "stream",
     "text": [
      "Percent: [---------->                   ] 36% || batch_time: 3.9106 || batch_loss: 0.0319 || avg_batch_loss: 0.0060 || batch_acc: 1.0000 || avg_batch_acc: 1.0000 "
     ]
    },
    {
     "name": "stderr",
     "output_type": "stream",
     "text": [
      "Training beyond specified 't_total'. Learning rate multiplier set to 0.0. Please set 't_total' of WarmupLinearSchedule correctly.\n"
     ]
    },
    {
     "name": "stdout",
     "output_type": "stream",
     "text": [
      "Percent: [---------->                   ] 37% || batch_time: 2.8879 || batch_loss: 0.0058 || avg_batch_loss: 0.0061 || batch_acc: 1.0000 || avg_batch_acc: 1.0000 "
     ]
    },
    {
     "name": "stderr",
     "output_type": "stream",
     "text": [
      "Training beyond specified 't_total'. Learning rate multiplier set to 0.0. Please set 't_total' of WarmupLinearSchedule correctly.\n"
     ]
    },
    {
     "name": "stdout",
     "output_type": "stream",
     "text": [
      "Percent: [---------->                   ] 38% || batch_time: 4.5518 || batch_loss: 0.0094 || avg_batch_loss: 0.0061 || batch_acc: 1.0000 || avg_batch_acc: 1.0000 "
     ]
    },
    {
     "name": "stderr",
     "output_type": "stream",
     "text": [
      "Training beyond specified 't_total'. Learning rate multiplier set to 0.0. Please set 't_total' of WarmupLinearSchedule correctly.\n"
     ]
    },
    {
     "name": "stdout",
     "output_type": "stream",
     "text": [
      "Percent: [----------->                  ] 39% || batch_time: 3.3087 || batch_loss: 0.0009 || avg_batch_loss: 0.0063 || batch_acc: 1.0000 || avg_batch_acc: 1.0000 "
     ]
    },
    {
     "name": "stderr",
     "output_type": "stream",
     "text": [
      "Training beyond specified 't_total'. Learning rate multiplier set to 0.0. Please set 't_total' of WarmupLinearSchedule correctly.\n"
     ]
    },
    {
     "name": "stdout",
     "output_type": "stream",
     "text": [
      "Percent: [----------->                  ] 40% || batch_time: 3.3528 || batch_loss: 0.0312 || avg_batch_loss: 0.0064 || batch_acc: 1.0000 || avg_batch_acc: 1.0000 "
     ]
    },
    {
     "name": "stderr",
     "output_type": "stream",
     "text": [
      "Training beyond specified 't_total'. Learning rate multiplier set to 0.0. Please set 't_total' of WarmupLinearSchedule correctly.\n"
     ]
    },
    {
     "name": "stdout",
     "output_type": "stream",
     "text": [
      "Percent: [----------->                  ] 41% || batch_time: 3.7638 || batch_loss: 0.0028 || avg_batch_loss: 0.0063 || batch_acc: 1.0000 || avg_batch_acc: 1.0000 "
     ]
    },
    {
     "name": "stderr",
     "output_type": "stream",
     "text": [
      "Training beyond specified 't_total'. Learning rate multiplier set to 0.0. Please set 't_total' of WarmupLinearSchedule correctly.\n"
     ]
    },
    {
     "name": "stdout",
     "output_type": "stream",
     "text": [
      "Percent: [------------>                 ] 42% || batch_time: 4.5980 || batch_loss: 0.0025 || avg_batch_loss: 0.0063 || batch_acc: 1.0000 || avg_batch_acc: 1.0000 "
     ]
    },
    {
     "name": "stderr",
     "output_type": "stream",
     "text": [
      "Training beyond specified 't_total'. Learning rate multiplier set to 0.0. Please set 't_total' of WarmupLinearSchedule correctly.\n"
     ]
    },
    {
     "name": "stdout",
     "output_type": "stream",
     "text": [
      "Percent: [------------>                 ] 43% || batch_time: 3.3107 || batch_loss: 0.0094 || avg_batch_loss: 0.0062 || batch_acc: 1.0000 || avg_batch_acc: 1.0000 "
     ]
    },
    {
     "name": "stderr",
     "output_type": "stream",
     "text": [
      "Training beyond specified 't_total'. Learning rate multiplier set to 0.0. Please set 't_total' of WarmupLinearSchedule correctly.\n"
     ]
    },
    {
     "name": "stdout",
     "output_type": "stream",
     "text": [
      "Percent: [------------>                 ] 45% || batch_time: 4.1769 || batch_loss: 0.0038 || avg_batch_loss: 0.0065 || batch_acc: 1.0000 || avg_batch_acc: 1.0000 "
     ]
    },
    {
     "name": "stderr",
     "output_type": "stream",
     "text": [
      "Training beyond specified 't_total'. Learning rate multiplier set to 0.0. Please set 't_total' of WarmupLinearSchedule correctly.\n"
     ]
    },
    {
     "name": "stdout",
     "output_type": "stream",
     "text": [
      "Percent: [------------->                ] 46% || batch_time: 4.2515 || batch_loss: 0.0320 || avg_batch_loss: 0.0067 || batch_acc: 1.0000 || avg_batch_acc: 1.0000 "
     ]
    },
    {
     "name": "stderr",
     "output_type": "stream",
     "text": [
      "Training beyond specified 't_total'. Learning rate multiplier set to 0.0. Please set 't_total' of WarmupLinearSchedule correctly.\n"
     ]
    },
    {
     "name": "stdout",
     "output_type": "stream",
     "text": [
      "Percent: [------------->                ] 47% || batch_time: 2.8646 || batch_loss: 0.0006 || avg_batch_loss: 0.0068 || batch_acc: 1.0000 || avg_batch_acc: 1.0000 "
     ]
    },
    {
     "name": "stderr",
     "output_type": "stream",
     "text": [
      "Training beyond specified 't_total'. Learning rate multiplier set to 0.0. Please set 't_total' of WarmupLinearSchedule correctly.\n"
     ]
    },
    {
     "name": "stdout",
     "output_type": "stream",
     "text": [
      "Percent: [------------->                ] 48% || batch_time: 3.4798 || batch_loss: 0.0501 || avg_batch_loss: 0.0070 || batch_acc: 1.0000 || avg_batch_acc: 1.0000 "
     ]
    },
    {
     "name": "stderr",
     "output_type": "stream",
     "text": [
      "Training beyond specified 't_total'. Learning rate multiplier set to 0.0. Please set 't_total' of WarmupLinearSchedule correctly.\n"
     ]
    },
    {
     "name": "stdout",
     "output_type": "stream",
     "text": [
      "Percent: [-------------->               ] 49% || batch_time: 4.0573 || batch_loss: 0.0035 || avg_batch_loss: 0.0070 || batch_acc: 1.0000 || avg_batch_acc: 1.0000 "
     ]
    },
    {
     "name": "stderr",
     "output_type": "stream",
     "text": [
      "Training beyond specified 't_total'. Learning rate multiplier set to 0.0. Please set 't_total' of WarmupLinearSchedule correctly.\n"
     ]
    },
    {
     "name": "stdout",
     "output_type": "stream",
     "text": [
      "Percent: [-------------->               ] 50% || batch_time: 2.8987 || batch_loss: 0.0005 || avg_batch_loss: 0.0068 || batch_acc: 1.0000 || avg_batch_acc: 1.0000 "
     ]
    },
    {
     "name": "stderr",
     "output_type": "stream",
     "text": [
      "Training beyond specified 't_total'. Learning rate multiplier set to 0.0. Please set 't_total' of WarmupLinearSchedule correctly.\n"
     ]
    },
    {
     "name": "stdout",
     "output_type": "stream",
     "text": [
      "Percent: [-------------->               ] 51% || batch_time: 3.3313 || batch_loss: 0.0036 || avg_batch_loss: 0.0067 || batch_acc: 1.0000 || avg_batch_acc: 1.0000 "
     ]
    },
    {
     "name": "stderr",
     "output_type": "stream",
     "text": [
      "Training beyond specified 't_total'. Learning rate multiplier set to 0.0. Please set 't_total' of WarmupLinearSchedule correctly.\n"
     ]
    },
    {
     "name": "stdout",
     "output_type": "stream",
     "text": [
      "Percent: [--------------->              ] 52% || batch_time: 2.9497 || batch_loss: 0.0040 || avg_batch_loss: 0.0066 || batch_acc: 1.0000 || avg_batch_acc: 1.0000 "
     ]
    },
    {
     "name": "stderr",
     "output_type": "stream",
     "text": [
      "Training beyond specified 't_total'. Learning rate multiplier set to 0.0. Please set 't_total' of WarmupLinearSchedule correctly.\n"
     ]
    },
    {
     "name": "stdout",
     "output_type": "stream",
     "text": [
      "Percent: [--------------->              ] 53% || batch_time: 3.7742 || batch_loss: 0.0046 || avg_batch_loss: 0.0065 || batch_acc: 1.0000 || avg_batch_acc: 1.0000 "
     ]
    },
    {
     "name": "stderr",
     "output_type": "stream",
     "text": [
      "Training beyond specified 't_total'. Learning rate multiplier set to 0.0. Please set 't_total' of WarmupLinearSchedule correctly.\n"
     ]
    },
    {
     "name": "stdout",
     "output_type": "stream",
     "text": [
      "Percent: [--------------->              ] 54% || batch_time: 4.0149 || batch_loss: 0.0009 || avg_batch_loss: 0.0065 || batch_acc: 1.0000 || avg_batch_acc: 1.0000 "
     ]
    },
    {
     "name": "stderr",
     "output_type": "stream",
     "text": [
      "Training beyond specified 't_total'. Learning rate multiplier set to 0.0. Please set 't_total' of WarmupLinearSchedule correctly.\n"
     ]
    },
    {
     "name": "stdout",
     "output_type": "stream",
     "text": [
      "Percent: [---------------->             ] 55% || batch_time: 4.0781 || batch_loss: 0.0009 || avg_batch_loss: 0.0067 || batch_acc: 1.0000 || avg_batch_acc: 1.0000 "
     ]
    },
    {
     "name": "stderr",
     "output_type": "stream",
     "text": [
      "Training beyond specified 't_total'. Learning rate multiplier set to 0.0. Please set 't_total' of WarmupLinearSchedule correctly.\n"
     ]
    },
    {
     "name": "stdout",
     "output_type": "stream",
     "text": [
      "Percent: [---------------->             ] 57% || batch_time: 3.0198 || batch_loss: 0.0031 || avg_batch_loss: 0.0066 || batch_acc: 1.0000 || avg_batch_acc: 1.0000 "
     ]
    },
    {
     "name": "stderr",
     "output_type": "stream",
     "text": [
      "Training beyond specified 't_total'. Learning rate multiplier set to 0.0. Please set 't_total' of WarmupLinearSchedule correctly.\n"
     ]
    },
    {
     "name": "stdout",
     "output_type": "stream",
     "text": [
      "Percent: [---------------->             ] 58% || batch_time: 3.9797 || batch_loss: 0.0012 || avg_batch_loss: 0.0065 || batch_acc: 1.0000 || avg_batch_acc: 1.0000 "
     ]
    },
    {
     "name": "stderr",
     "output_type": "stream",
     "text": [
      "Training beyond specified 't_total'. Learning rate multiplier set to 0.0. Please set 't_total' of WarmupLinearSchedule correctly.\n"
     ]
    },
    {
     "name": "stdout",
     "output_type": "stream",
     "text": [
      "Percent: [----------------->            ] 59% || batch_time: 3.2879 || batch_loss: 0.0158 || avg_batch_loss: 0.0065 || batch_acc: 1.0000 || avg_batch_acc: 1.0000 "
     ]
    },
    {
     "name": "stderr",
     "output_type": "stream",
     "text": [
      "Training beyond specified 't_total'. Learning rate multiplier set to 0.0. Please set 't_total' of WarmupLinearSchedule correctly.\n"
     ]
    },
    {
     "name": "stdout",
     "output_type": "stream",
     "text": [
      "Percent: [----------------->            ] 60% || batch_time: 3.6559 || batch_loss: 0.0055 || avg_batch_loss: 0.0066 || batch_acc: 1.0000 || avg_batch_acc: 1.0000 "
     ]
    },
    {
     "name": "stderr",
     "output_type": "stream",
     "text": [
      "Training beyond specified 't_total'. Learning rate multiplier set to 0.0. Please set 't_total' of WarmupLinearSchedule correctly.\n"
     ]
    },
    {
     "name": "stdout",
     "output_type": "stream",
     "text": [
      "Percent: [----------------->            ] 61% || batch_time: 4.4521 || batch_loss: 0.0041 || avg_batch_loss: 0.0065 || batch_acc: 1.0000 || avg_batch_acc: 1.0000 "
     ]
    },
    {
     "name": "stderr",
     "output_type": "stream",
     "text": [
      "Training beyond specified 't_total'. Learning rate multiplier set to 0.0. Please set 't_total' of WarmupLinearSchedule correctly.\n"
     ]
    },
    {
     "name": "stdout",
     "output_type": "stream",
     "text": [
      "Percent: [------------------>           ] 62% || batch_time: 2.9078 || batch_loss: 0.0024 || avg_batch_loss: 0.0067 || batch_acc: 1.0000 || avg_batch_acc: 1.0000 "
     ]
    },
    {
     "name": "stderr",
     "output_type": "stream",
     "text": [
      "Training beyond specified 't_total'. Learning rate multiplier set to 0.0. Please set 't_total' of WarmupLinearSchedule correctly.\n"
     ]
    },
    {
     "name": "stdout",
     "output_type": "stream",
     "text": [
      "Percent: [------------------>           ] 63% || batch_time: 3.3982 || batch_loss: 0.0029 || avg_batch_loss: 0.0066 || batch_acc: 1.0000 || avg_batch_acc: 1.0000 "
     ]
    },
    {
     "name": "stderr",
     "output_type": "stream",
     "text": [
      "Training beyond specified 't_total'. Learning rate multiplier set to 0.0. Please set 't_total' of WarmupLinearSchedule correctly.\n"
     ]
    },
    {
     "name": "stdout",
     "output_type": "stream",
     "text": [
      "Percent: [------------------>           ] 64% || batch_time: 3.1650 || batch_loss: 0.0009 || avg_batch_loss: 0.0065 || batch_acc: 1.0000 || avg_batch_acc: 1.0000 "
     ]
    },
    {
     "name": "stderr",
     "output_type": "stream",
     "text": [
      "Training beyond specified 't_total'. Learning rate multiplier set to 0.0. Please set 't_total' of WarmupLinearSchedule correctly.\n"
     ]
    },
    {
     "name": "stdout",
     "output_type": "stream",
     "text": [
      "Percent: [------------------->          ] 65% || batch_time: 4.1505 || batch_loss: 0.1416 || avg_batch_loss: 0.0071 || batch_acc: 1.0000 || avg_batch_acc: 1.0000 "
     ]
    },
    {
     "name": "stderr",
     "output_type": "stream",
     "text": [
      "Training beyond specified 't_total'. Learning rate multiplier set to 0.0. Please set 't_total' of WarmupLinearSchedule correctly.\n"
     ]
    },
    {
     "name": "stdout",
     "output_type": "stream",
     "text": [
      "Percent: [------------------->          ] 66% || batch_time: 4.1074 || batch_loss: 0.0006 || avg_batch_loss: 0.0071 || batch_acc: 1.0000 || avg_batch_acc: 1.0000 "
     ]
    },
    {
     "name": "stderr",
     "output_type": "stream",
     "text": [
      "Training beyond specified 't_total'. Learning rate multiplier set to 0.0. Please set 't_total' of WarmupLinearSchedule correctly.\n"
     ]
    },
    {
     "name": "stdout",
     "output_type": "stream",
     "text": [
      "Percent: [------------------->          ] 67% || batch_time: 3.8299 || batch_loss: 0.0027 || avg_batch_loss: 0.0070 || batch_acc: 1.0000 || avg_batch_acc: 1.0000 "
     ]
    },
    {
     "name": "stderr",
     "output_type": "stream",
     "text": [
      "Training beyond specified 't_total'. Learning rate multiplier set to 0.0. Please set 't_total' of WarmupLinearSchedule correctly.\n"
     ]
    },
    {
     "name": "stdout",
     "output_type": "stream",
     "text": [
      "Percent: [-------------------->         ] 69% || batch_time: 3.9074 || batch_loss: 0.0140 || avg_batch_loss: 0.0070 || batch_acc: 1.0000 || avg_batch_acc: 1.0000 "
     ]
    },
    {
     "name": "stderr",
     "output_type": "stream",
     "text": [
      "Training beyond specified 't_total'. Learning rate multiplier set to 0.0. Please set 't_total' of WarmupLinearSchedule correctly.\n"
     ]
    },
    {
     "name": "stdout",
     "output_type": "stream",
     "text": [
      "Percent: [-------------------->         ] 70% || batch_time: 4.3230 || batch_loss: 0.0023 || avg_batch_loss: 0.0069 || batch_acc: 1.0000 || avg_batch_acc: 1.0000 "
     ]
    },
    {
     "name": "stderr",
     "output_type": "stream",
     "text": [
      "Training beyond specified 't_total'. Learning rate multiplier set to 0.0. Please set 't_total' of WarmupLinearSchedule correctly.\n"
     ]
    },
    {
     "name": "stdout",
     "output_type": "stream",
     "text": [
      "Percent: [-------------------->         ] 71% || batch_time: 3.9829 || batch_loss: 0.0028 || avg_batch_loss: 0.0070 || batch_acc: 1.0000 || avg_batch_acc: 1.0000 "
     ]
    },
    {
     "name": "stderr",
     "output_type": "stream",
     "text": [
      "Training beyond specified 't_total'. Learning rate multiplier set to 0.0. Please set 't_total' of WarmupLinearSchedule correctly.\n"
     ]
    },
    {
     "name": "stdout",
     "output_type": "stream",
     "text": [
      "Percent: [--------------------->        ] 72% || batch_time: 3.3037 || batch_loss: 0.0006 || avg_batch_loss: 0.0070 || batch_acc: 1.0000 || avg_batch_acc: 1.0000 "
     ]
    },
    {
     "name": "stderr",
     "output_type": "stream",
     "text": [
      "Training beyond specified 't_total'. Learning rate multiplier set to 0.0. Please set 't_total' of WarmupLinearSchedule correctly.\n"
     ]
    },
    {
     "name": "stdout",
     "output_type": "stream",
     "text": [
      "Percent: [--------------------->        ] 73% || batch_time: 3.8769 || batch_loss: 0.0003 || avg_batch_loss: 0.0069 || batch_acc: 1.0000 || avg_batch_acc: 1.0000 "
     ]
    },
    {
     "name": "stderr",
     "output_type": "stream",
     "text": [
      "Training beyond specified 't_total'. Learning rate multiplier set to 0.0. Please set 't_total' of WarmupLinearSchedule correctly.\n"
     ]
    },
    {
     "name": "stdout",
     "output_type": "stream",
     "text": [
      "Percent: [--------------------->        ] 74% || batch_time: 3.4382 || batch_loss: 0.0004 || avg_batch_loss: 0.0069 || batch_acc: 1.0000 || avg_batch_acc: 1.0000 "
     ]
    },
    {
     "name": "stderr",
     "output_type": "stream",
     "text": [
      "Training beyond specified 't_total'. Learning rate multiplier set to 0.0. Please set 't_total' of WarmupLinearSchedule correctly.\n"
     ]
    },
    {
     "name": "stdout",
     "output_type": "stream",
     "text": [
      "Percent: [---------------------->       ] 75% || batch_time: 3.2508 || batch_loss: 0.0309 || avg_batch_loss: 0.0070 || batch_acc: 1.0000 || avg_batch_acc: 1.0000 "
     ]
    },
    {
     "name": "stderr",
     "output_type": "stream",
     "text": [
      "Training beyond specified 't_total'. Learning rate multiplier set to 0.0. Please set 't_total' of WarmupLinearSchedule correctly.\n"
     ]
    },
    {
     "name": "stdout",
     "output_type": "stream",
     "text": [
      "Percent: [---------------------->       ] 76% || batch_time: 4.1364 || batch_loss: 0.0011 || avg_batch_loss: 0.0069 || batch_acc: 1.0000 || avg_batch_acc: 1.0000 "
     ]
    },
    {
     "name": "stderr",
     "output_type": "stream",
     "text": [
      "Training beyond specified 't_total'. Learning rate multiplier set to 0.0. Please set 't_total' of WarmupLinearSchedule correctly.\n"
     ]
    },
    {
     "name": "stdout",
     "output_type": "stream",
     "text": [
      "Percent: [---------------------->       ] 77% || batch_time: 3.5897 || batch_loss: 0.0004 || avg_batch_loss: 0.0072 || batch_acc: 1.0000 || avg_batch_acc: 1.0000 "
     ]
    },
    {
     "name": "stderr",
     "output_type": "stream",
     "text": [
      "Training beyond specified 't_total'. Learning rate multiplier set to 0.0. Please set 't_total' of WarmupLinearSchedule correctly.\n"
     ]
    },
    {
     "name": "stdout",
     "output_type": "stream",
     "text": [
      "Percent: [----------------------->      ] 78% || batch_time: 3.8417 || batch_loss: 0.0003 || avg_batch_loss: 0.0071 || batch_acc: 1.0000 || avg_batch_acc: 1.0000 "
     ]
    },
    {
     "name": "stderr",
     "output_type": "stream",
     "text": [
      "Training beyond specified 't_total'. Learning rate multiplier set to 0.0. Please set 't_total' of WarmupLinearSchedule correctly.\n"
     ]
    },
    {
     "name": "stdout",
     "output_type": "stream",
     "text": [
      "Percent: [----------------------->      ] 80% || batch_time: 3.3348 || batch_loss: 0.0104 || avg_batch_loss: 0.0072 || batch_acc: 1.0000 || avg_batch_acc: 1.0000 "
     ]
    },
    {
     "name": "stderr",
     "output_type": "stream",
     "text": [
      "Training beyond specified 't_total'. Learning rate multiplier set to 0.0. Please set 't_total' of WarmupLinearSchedule correctly.\n"
     ]
    },
    {
     "name": "stdout",
     "output_type": "stream",
     "text": [
      "Percent: [----------------------->      ] 81% || batch_time: 3.5809 || batch_loss: 0.0065 || avg_batch_loss: 0.0071 || batch_acc: 1.0000 || avg_batch_acc: 1.0000 "
     ]
    },
    {
     "name": "stderr",
     "output_type": "stream",
     "text": [
      "Training beyond specified 't_total'. Learning rate multiplier set to 0.0. Please set 't_total' of WarmupLinearSchedule correctly.\n"
     ]
    },
    {
     "name": "stdout",
     "output_type": "stream",
     "text": [
      "Percent: [------------------------>     ] 82% || batch_time: 3.1507 || batch_loss: 0.0042 || avg_batch_loss: 0.0071 || batch_acc: 1.0000 || avg_batch_acc: 1.0000 "
     ]
    },
    {
     "name": "stderr",
     "output_type": "stream",
     "text": [
      "Training beyond specified 't_total'. Learning rate multiplier set to 0.0. Please set 't_total' of WarmupLinearSchedule correctly.\n"
     ]
    },
    {
     "name": "stdout",
     "output_type": "stream",
     "text": [
      "Percent: [------------------------>     ] 83% || batch_time: 3.7748 || batch_loss: 0.0045 || avg_batch_loss: 0.0072 || batch_acc: 1.0000 || avg_batch_acc: 1.0000 "
     ]
    },
    {
     "name": "stderr",
     "output_type": "stream",
     "text": [
      "Training beyond specified 't_total'. Learning rate multiplier set to 0.0. Please set 't_total' of WarmupLinearSchedule correctly.\n"
     ]
    },
    {
     "name": "stdout",
     "output_type": "stream",
     "text": [
      "Percent: [------------------------>     ] 84% || batch_time: 3.1967 || batch_loss: 0.0026 || avg_batch_loss: 0.0072 || batch_acc: 1.0000 || avg_batch_acc: 1.0000 "
     ]
    },
    {
     "name": "stderr",
     "output_type": "stream",
     "text": [
      "Training beyond specified 't_total'. Learning rate multiplier set to 0.0. Please set 't_total' of WarmupLinearSchedule correctly.\n"
     ]
    },
    {
     "name": "stdout",
     "output_type": "stream",
     "text": [
      "Percent: [------------------------>     ] 85% || batch_time: 2.3362 || batch_loss: 0.0024 || avg_batch_loss: 0.0071 || batch_acc: 1.0000 || avg_batch_acc: 1.0000 "
     ]
    },
    {
     "name": "stderr",
     "output_type": "stream",
     "text": [
      "Training beyond specified 't_total'. Learning rate multiplier set to 0.0. Please set 't_total' of WarmupLinearSchedule correctly.\n"
     ]
    },
    {
     "name": "stdout",
     "output_type": "stream",
     "text": [
      "Percent: [------------------------->    ] 86% || batch_time: 5.1466 || batch_loss: 0.0016 || avg_batch_loss: 0.0071 || batch_acc: 1.0000 || avg_batch_acc: 1.0000 "
     ]
    },
    {
     "name": "stderr",
     "output_type": "stream",
     "text": [
      "Training beyond specified 't_total'. Learning rate multiplier set to 0.0. Please set 't_total' of WarmupLinearSchedule correctly.\n"
     ]
    },
    {
     "name": "stdout",
     "output_type": "stream",
     "text": [
      "Percent: [------------------------->    ] 87% || batch_time: 3.1572 || batch_loss: 0.0014 || avg_batch_loss: 0.0070 || batch_acc: 1.0000 || avg_batch_acc: 1.0000 "
     ]
    },
    {
     "name": "stderr",
     "output_type": "stream",
     "text": [
      "Training beyond specified 't_total'. Learning rate multiplier set to 0.0. Please set 't_total' of WarmupLinearSchedule correctly.\n"
     ]
    },
    {
     "name": "stdout",
     "output_type": "stream",
     "text": [
      "Percent: [------------------------->    ] 88% || batch_time: 3.6597 || batch_loss: 0.0037 || avg_batch_loss: 0.0070 || batch_acc: 1.0000 || avg_batch_acc: 1.0000 "
     ]
    },
    {
     "name": "stderr",
     "output_type": "stream",
     "text": [
      "Training beyond specified 't_total'. Learning rate multiplier set to 0.0. Please set 't_total' of WarmupLinearSchedule correctly.\n"
     ]
    },
    {
     "name": "stdout",
     "output_type": "stream",
     "text": [
      "Percent: [-------------------------->   ] 89% || batch_time: 3.3758 || batch_loss: 0.0003 || avg_batch_loss: 0.0070 || batch_acc: 1.0000 || avg_batch_acc: 1.0000 "
     ]
    },
    {
     "name": "stderr",
     "output_type": "stream",
     "text": [
      "Training beyond specified 't_total'. Learning rate multiplier set to 0.0. Please set 't_total' of WarmupLinearSchedule correctly.\n"
     ]
    },
    {
     "name": "stdout",
     "output_type": "stream",
     "text": [
      "Percent: [-------------------------->   ] 90% || batch_time: 3.5408 || batch_loss: 0.0308 || avg_batch_loss: 0.0071 || batch_acc: 1.0000 || avg_batch_acc: 1.0000 "
     ]
    },
    {
     "name": "stderr",
     "output_type": "stream",
     "text": [
      "Training beyond specified 't_total'. Learning rate multiplier set to 0.0. Please set 't_total' of WarmupLinearSchedule correctly.\n"
     ]
    },
    {
     "name": "stdout",
     "output_type": "stream",
     "text": [
      "Percent: [-------------------------->   ] 92% || batch_time: 3.2297 || batch_loss: 0.0029 || avg_batch_loss: 0.0071 || batch_acc: 1.0000 || avg_batch_acc: 1.0000 "
     ]
    },
    {
     "name": "stderr",
     "output_type": "stream",
     "text": [
      "Training beyond specified 't_total'. Learning rate multiplier set to 0.0. Please set 't_total' of WarmupLinearSchedule correctly.\n"
     ]
    },
    {
     "name": "stdout",
     "output_type": "stream",
     "text": [
      "Percent: [--------------------------->  ] 93% || batch_time: 3.9320 || batch_loss: 0.0208 || avg_batch_loss: 0.0071 || batch_acc: 1.0000 || avg_batch_acc: 1.0000 "
     ]
    },
    {
     "name": "stderr",
     "output_type": "stream",
     "text": [
      "Training beyond specified 't_total'. Learning rate multiplier set to 0.0. Please set 't_total' of WarmupLinearSchedule correctly.\n"
     ]
    },
    {
     "name": "stdout",
     "output_type": "stream",
     "text": [
      "Percent: [--------------------------->  ] 94% || batch_time: 3.4041 || batch_loss: 0.0011 || avg_batch_loss: 0.0071 || batch_acc: 1.0000 || avg_batch_acc: 1.0000 "
     ]
    },
    {
     "name": "stderr",
     "output_type": "stream",
     "text": [
      "Training beyond specified 't_total'. Learning rate multiplier set to 0.0. Please set 't_total' of WarmupLinearSchedule correctly.\n"
     ]
    },
    {
     "name": "stdout",
     "output_type": "stream",
     "text": [
      "Percent: [--------------------------->  ] 95% || batch_time: 3.2597 || batch_loss: 0.0010 || avg_batch_loss: 0.0071 || batch_acc: 1.0000 || avg_batch_acc: 1.0000 "
     ]
    },
    {
     "name": "stderr",
     "output_type": "stream",
     "text": [
      "Training beyond specified 't_total'. Learning rate multiplier set to 0.0. Please set 't_total' of WarmupLinearSchedule correctly.\n"
     ]
    },
    {
     "name": "stdout",
     "output_type": "stream",
     "text": [
      "Percent: [----------------------------> ] 96% || batch_time: 5.0861 || batch_loss: 0.0007 || avg_batch_loss: 0.0070 || batch_acc: 1.0000 || avg_batch_acc: 1.0000 "
     ]
    },
    {
     "name": "stderr",
     "output_type": "stream",
     "text": [
      "Training beyond specified 't_total'. Learning rate multiplier set to 0.0. Please set 't_total' of WarmupLinearSchedule correctly.\n"
     ]
    },
    {
     "name": "stdout",
     "output_type": "stream",
     "text": [
      "Percent: [----------------------------> ] 97% || batch_time: 3.4748 || batch_loss: 0.0032 || avg_batch_loss: 0.0070 || batch_acc: 1.0000 || avg_batch_acc: 1.0000 "
     ]
    },
    {
     "name": "stderr",
     "output_type": "stream",
     "text": [
      "Training beyond specified 't_total'. Learning rate multiplier set to 0.0. Please set 't_total' of WarmupLinearSchedule correctly.\n"
     ]
    },
    {
     "name": "stdout",
     "output_type": "stream",
     "text": [
      "Percent: [----------------------------> ] 98% || batch_time: 3.1527 || batch_loss: 0.0188 || avg_batch_loss: 0.0070 || batch_acc: 1.0000 || avg_batch_acc: 1.0000 "
     ]
    },
    {
     "name": "stderr",
     "output_type": "stream",
     "text": [
      "Training beyond specified 't_total'. Learning rate multiplier set to 0.0. Please set 't_total' of WarmupLinearSchedule correctly.\n"
     ]
    },
    {
     "name": "stdout",
     "output_type": "stream",
     "text": [
      "Percent: [----------------------------->] 99% || batch_time: 3.3257 || batch_loss: 0.0018 || avg_batch_loss: 0.0070 || batch_acc: 1.0000 || avg_batch_acc: 1.0000 "
     ]
    },
    {
     "name": "stderr",
     "output_type": "stream",
     "text": [
      "Training beyond specified 't_total'. Learning rate multiplier set to 0.0. Please set 't_total' of WarmupLinearSchedule correctly.\n"
     ]
    },
    {
     "name": "stdout",
     "output_type": "stream",
     "text": [
      "Percent: [----------------------------->] 100% || batch_time: 2.7056 || batch_loss: 0.0008 || avg_batch_loss: 0.0069 || batch_acc: 1.0000 || avg_batch_acc: 1.0000 "
     ]
    },
    {
     "name": "stderr",
     "output_type": "stream",
     "text": [
      "Training beyond specified 't_total'. Learning rate multiplier set to 0.0. Please set 't_total' of WarmupLinearSchedule correctly.\n"
     ]
    },
    {
     "name": "stdout",
     "output_type": "stream",
     "text": [
      "Percent: [----------------------------->] 100% || batch_time: 2.6521 || batch_loss: 0.0002 || avg_batch_loss: 0.0069 || batch_acc: 1.0000 || avg_batch_acc: 1.0000 \n",
      "Epoch 2 train_loss: 0.006928394167203567\n",
      "valid_data size: 1461\n",
      "Percent: [----------------------------->] 100% || batch_time: 1.6624 || batch_loss: 0.0353 || avg_batch_loss: 0.0971 || batch_acc: 0.9944 || avg_batch_acc: 0.9790 \n",
      "Epoch 2 valid_loss: 0.09710691681982059\n",
      "validation accuracy improved from 45.0326 to 45.0326\n",
      "Model saved at e:\\nlp\\nlp-env\\neuspell\\neuspell\\../data/checkpoints/subwordbert-probwordnoise\\new_models\\bert-base-cased-2\\pytorch_model.bin in epoch 2\n",
      "Model and logs saved at e:\\nlp\\nlp-env\\neuspell\\neuspell\\../data/checkpoints/subwordbert-probwordnoise\\new_models\\bert-base-cased-2\n"
     ]
    }
   ],
   "source": [
    "# create new BertChecker\n",
    "bert_checker_new = BertChecker()\n",
    "# load pretrained model\n",
    "bert_checker_new.from_pretrained()\n",
    "# fine-tune on training data\n",
    "bert_checker_new.finetune(clean_file=clean_file, corrupt_file=noisy_file, data_dir=train_data_path)"
   ]
  },
  {
   "attachments": {},
   "cell_type": "markdown",
   "metadata": {},
   "source": [
    "### Evaluate on testing set after fine-tuning"
   ]
  },
  {
   "cell_type": "code",
   "execution_count": 32,
   "metadata": {},
   "outputs": [
    {
     "name": "stdout",
     "output_type": "stream",
     "text": [
      "../dataset/test clean_en_lyrics.txt noisy_en_lyrics.txt\n"
     ]
    },
    {
     "name": "stderr",
     "output_type": "stream",
     "text": [
      "930it [00:00, 464258.83it/s]\n",
      "930it [00:00, 929181.21it/s]\n"
     ]
    },
    {
     "name": "stdout",
     "output_type": "stream",
     "text": [
      "loaded tuples of (corr,incorr) examples from ../dataset/test\n",
      "###############################################\n",
      "data size: 930\n"
     ]
    },
    {
     "name": "stderr",
     "output_type": "stream",
     "text": [
      "233it [00:56,  4.11it/s]"
     ]
    },
    {
     "name": "stdout",
     "output_type": "stream",
     "text": [
      "\n",
      "Epoch None valid_loss: 0.10733045486783492\n",
      "total inference time for this data is: 56.645014 secs\n",
      "###############################################\n",
      "\n",
      "\n",
      "total token count: 6684\n",
      "_corr2corr:5348, _corr2incorr:49, _incorr2corr:1193, _incorr2incorr:94\n",
      "accuracy is 0.9786056253740275\n",
      "word correction rate is 0.9269619269619269\n",
      "precision is 0.9909208819714657\n",
      "recall is 0.9827269386255053\n",
      "f1 score is 0.9868069010056278\n",
      "###############################################\n"
     ]
    },
    {
     "name": "stderr",
     "output_type": "stream",
     "text": [
      "\n"
     ]
    }
   ],
   "source": [
    "bert_checker_new.evaluate(clean_file=clean_file, corrupt_file=noisy_file, data_dir=test_data_path)"
   ]
  },
  {
   "attachments": {},
   "cell_type": "markdown",
   "metadata": {},
   "source": [
    "### Result analysis"
   ]
  },
  {
   "cell_type": "code",
   "execution_count": 33,
   "metadata": {},
   "outputs": [
    {
     "data": {
      "text/plain": [
       "['tell her that she beautiful every day i remind her',\n",
       " 'i get lost in her eyes like dust from the skies',\n",
       " \"did i say that out loud i ' m so crazy about mine\",\n",
       " \"but we don ' t have the same soul\",\n",
       " 'tell me that you love me baby say it again',\n",
       " \"repeat it over and over until it ' s in my brain\",\n",
       " \"you need to send your location i can ' t think\",\n",
       " 'did i say that out loud',\n",
       " \"i ' m so crazy about mine\",\n",
       " 'when i look back']"
      ]
     },
     "execution_count": 33,
     "metadata": {},
     "output_type": "execute_result"
    }
   ],
   "source": [
    "bert_correct_new = bert_checker_new.correct_strings(noisy_test)\n",
    "bert_correct_new[:10]"
   ]
  },
  {
   "cell_type": "code",
   "execution_count": 34,
   "metadata": {},
   "outputs": [
    {
     "name": "stdout",
     "output_type": "stream",
     "text": [
      "len data: 930\n",
      "correct data after bert: 799\n"
     ]
    }
   ],
   "source": [
    "clean_test_prep = [i.replace(' ', '').strip().lower() for i in clean_test]\n",
    "bert_correct_new_prep = [i.replace(' ', '').strip().lower() for i in bert_correct_new]\n",
    "\n",
    "print('len data:', len(clean_test_prep))\n",
    "print('correct data after bert:', sum(a == b for a, b in zip(bert_correct_new_prep, clean_test_prep)))"
   ]
  },
  {
   "cell_type": "code",
   "execution_count": 35,
   "metadata": {},
   "outputs": [
    {
     "name": "stdout",
     "output_type": "stream",
     "text": [
      "tell her that she beautiful every day i remind her  |  tell her that she beautiful every day i remind her\n",
      "don't you dare say  |  dont you dare say\n",
      "if don't really care see  |  if don ' t really care so\n",
      "don't know what they mean they're special just for you  |  dont know what they mean they ' re special just for you\n",
      "hey i could take a big bat  |  hey i could take a big bet\n",
      "you could put it on a swing  |  you could put it on a song\n",
      "i could fuck him in the rain  |  i could fuck hmm in the rain\n",
      "i could fuck him in the range  |  i could fuck him in the rage\n",
      "skirt off fuck in the backseat  |  skirt off luck in the backseat\n",
      "take that shirt off baby put it on me  |  take that shit off baby put it on me\n",
      "but one day i woke up like  |  but one day i walked up like\n",
      "there's a whole world outside  |  there ' s a whole world outdone\n",
      "for and for shut up shut up  |  four and four shut up shut up\n",
      "who never got to fly at night shut up shut up  |  which never got to fly at night shut up shut up\n",
      "out of the black out of the black  |  bout of the black out of the black\n",
      "me and god we don't get along  |  me and good we don ' t get along\n",
      "this is heaven what i truly want  |  this is heaven wheat i truly want\n",
      "be the man i ought to  |  be the man i thought to\n",
      "got a monkey on his shoulder  |  got a mokey on his shoulder\n",
      "now you be careful got to go  |  now you be careful not to go\n",
      "there once was a time that i could not imagine  |  there one was a time that i could not imagine\n",
      "i hum it on the phone like every night  |  i hung it on the phone like every night\n",
      "isn't it funny that when you're truly in love  |  isn ' t it funny that when you ' re only in love\n",
      "oh girl come and shut the door go on shut it  |  oh girl come and shout the door go on shut it\n",
      "believe me honey i've tried  |  believe me why i ' ve tried\n",
      "'cause baby you got me you got me open yes you do  |  ' cause baby you got me you got me open eyes you do\n",
      "come on come on and shut the door girl  |  come on come on and sit the door girl\n",
      "we're gonna party like we're  |  we ' re gonna pray like we ' re\n",
      "i wish i could eat your cancer when you turn black  |  i wish i could eat your cancer when you turn back\n",
      "tell me now if you're trying to ride with me  |  tell me now if you ' re trying to rise with me\n",
      "did you really think that i'd forget  |  dipped you really think that i ' d forget\n",
      "and i get off when i point the gun  |  and i get off when i play the gun\n",
      "say you want me too  |  say you want me to\n",
      "but i'm not scared there's nothing to lose now that i've found you  |  but i ' m not scared there ' s nothing to love now that i ' ve found you\n",
      "but now i know the meaning of true love  |  but now i know the meaning of the love\n",
      "flowers in my hair roses on the vine  |  flowers in my hair roses on the vice\n",
      "i want you boy i want you boy  |  i want you boy i want you enjoy\n",
      "have my one true love tonight  |  have my own true love tonight\n",
      "now that i know the way it ends  |  now that i know the way it needs\n",
      "you got me and bad way girl got me in a bad way girl  |  you got me and bad way girl got me in a bad wlay girl\n",
      "in a bad hey  |  in a bad way\n",
      "dance me all around the moon  |  face me all around the moon\n",
      "lie lie lie lie lie lie lie lie lie  |  the lie lie lie lie lie lie lie lie\n",
      "now let me see you  |  now let me free you\n",
      "with the pain and anger can't see a way out  |  with the pain and anger cannot see a way out\n",
      "so i'm living it all yes i'm living it all  |  so i ' m living it all years i ' m leaving it all\n",
      "i cant fall back  |  i cannot fall back\n",
      "what about em why the basement  |  what about me why the basement\n",
      "and ive got an aching head  |  and i got an aching head\n",
      "went face to face with all our fears  |  went face to face with all our friends\n",
      "i want to paint in the pictures any way we could react  |  i want to paint in the pictures any way we could repeat\n",
      "hand in my hand because im yours i cant  |  hand in my hand because if yours i cant\n",
      "bob the builder broke my heart  |  but the builder broke my heart\n",
      "what im demanding is fucking up all the budgets  |  what i demanding is fucking up all the budgets\n",
      "im done cause you lied with my guys like nah  |  i done cause you lied with my guys like nah\n",
      "its the way you lift me up yeah  |  its the way you left me up yeah\n",
      "but im here right now right now  |  but i here right now right now\n",
      "argue lets talk  |  argue less talk\n",
      "i wont judge she finesse  |  i want judge she finesse\n",
      "but with you girl im losing control yo  |  but with you girl i losing control yo\n",
      "on a yacht baby we would sail  |  on a fast day we would slam\n",
      "but id rather work on this with you  |  but i rather work on this with you\n",
      "blurring all the lines you intoxicate me  |  blurring all the lies you intoxicate me\n",
      "yeah i know its what they want  |  yeah i know is what they want\n",
      "im filled with flaws and attitude  |  i filled with flaws and attitude\n",
      "lets pop them bottles so big  |  lets post them bottles so big\n",
      "well i have called you darlin and ill say it again again  |  well i have called you drunk and ill say it again again\n",
      "wont you give yourself to me  |  want you give yourself to me\n",
      "they be talking like im the dumbest  |  they be talking like in the dumbest\n",
      "nothing you cant do  |  nothing you cannot do\n",
      "when were out of touch  |  we were out of touch\n",
      "smooth like butter hate us love us  |  smooth like butter have us love us\n",
      "now she just a groupie  |  now see just a groupie\n",
      "im just a con about to fade to black  |  i just a con about to fade to black\n",
      "makin you fall like that  |  making you fall like that\n",
      "cause with you girl im losing control oh  |  cause with you girl if closing control oh\n",
      "never let you go oh  |  never let you go on\n",
      "i took my chick up to the north yeah badass bitch  |  i took my check up to the north yeah badass bitch\n",
      "yeah im makin you sweat like that  |  yeah i making you sweat like that\n",
      "fresh boy pull up and we lay low  |  fresh boys pull up and we lay low\n",
      "so if you need perfect im not built for you one two three  |  so if you need perfect if not built for you one two three\n",
      "let go on the wheel its the bullet lane  |  let go on the wheel its the bullet lamb\n",
      "now im seeing red not thinking straight  |  now i seeing red not thinking straight\n",
      "but i still cant forget if i wanted to  |  but i still cannot forget if i wanted to\n",
      "just one hit of you i knew ill never ever ever be the same  |  just one hit of you i knew ill ever ever ever be the same\n",
      "just one hit of you i knew ill never be the same  |  just one hit of you i knew ill never be the game\n",
      "know that i got that heat  |  know that i got that heart\n",
      "lets go get it oh oh  |  lets go get it on oh\n",
      "and brushes her long blonde hair  |  and pushes her long blonde hair\n",
      "i cant even talk still stuttering  |  i cannot even talk still stuttering\n",
      "well i will call you darlin and everything will be okay  |  well i will call you darling and everything will be okay\n",
      "party it up so big  |  play it up so big\n",
      "done bein distracted  |  done been distracted\n",
      "just cant make it all alone  |  just cannot make it all alone\n",
      "look at me now im falling  |  look at me now i falling\n",
      "so now i cant stop thinking about you  |  so now i cannot stop thinking about you\n",
      "taking all the shots like kobe  |  taking all the shots like kboe\n",
      "its the texture of your skin  |  is the texture of your skin\n",
      "oh she the bae im her boo  |  oh she the base in her boo\n",
      "i tried to leave you would stall  |  i tried to leave you world say\n",
      "ask me whats my best side i stand back and point at you  |  ask me was my best side i stand back and point at you\n",
      "but im for ya  |  but i for ya\n",
      "said that im just nuts and bolts  |  said that i just nuts and boys\n",
      "im running out of time  |  i running out of time\n",
      "you gave me your love im addicted like drugs  |  you gave me your love if addicted like drugs\n",
      "a couple of things i cant spell without u  |  a couple of things i can spell without u\n",
      "cool shade stunner  |  cool shade stynner\n",
      "hotter sweeter cooler butter  |  hotter sweeter cooler bitter\n",
      "i feel like im chosen  |  i feel like it chosen\n",
      "im the first to say that im not perfect  |  if the first to say that if not perfect\n",
      "said you could keep them  |  said you cold keep them\n",
      "i can size you up  |  i can seize you up\n",
      "then she came through and topped me off  |  then she came through and stopped me off\n",
      "i answer too fast  |  i swear too fast\n",
      "yeah any time i feed you get me no  |  yeah any time i find you get me no\n",
      "you you the one that i argue with i feel like i need a new girl to be bothered with  |  you you the one that i agree with i feel like i need a new girl to be bothered with\n",
      "she gotcha boy doing crazy things that i never thought id ever do no  |  she gotta boy doing crazy things that i never thought i ever do no\n",
      "so if you need perfect im not built for you yeah  |  so if you need perfect if not bullet for you yeah\n",
      "they tryna get involved  |  they truna get involved\n",
      "and im a sucker for the way that you move babe  |  and import a sucker for the way that you move babe\n",
      "im here right now right now  |  if here right now right now\n",
      "oh my darling you are wonderful tonight  |  oh my daring you are wonderful tonight\n",
      "but i cant stand these nights alone  |  but i cannot stand these nights alone\n",
      "you left your diary at my house  |  you left your dairy at my house\n",
      "only then can i begin to live again  |  only then can i begin to love again\n",
      "she be acting bougie  |  she be acting bpugie\n",
      "ive got your photograph  |  i got your photograph\n",
      "and i cried at the curb  |  and i cried at the club\n",
      "so if you need perfect im not built for you one two three ooh  |  so if you need perfect if not bright for you come to three ooh\n",
      "give my last hello hope its worth it  |  give my last hello hope is worth it\n",
      "ice on my wrist im the nice guy  |  like on my wrist if the nice guy\n"
     ]
    }
   ],
   "source": [
    "for i in range(len(clean_test_prep)):\n",
    "    if clean_test_prep[i] != bert_correct_new_prep[i]:\n",
    "        print(clean_test[i], ' | ', bert_correct_new[i])"
   ]
  },
  {
   "attachments": {},
   "cell_type": "markdown",
   "metadata": {},
   "source": [
    "## SC-LSTM plus ELMO (at input)"
   ]
  },
  {
   "attachments": {},
   "cell_type": "markdown",
   "metadata": {},
   "source": [
    "### Load pretrained model"
   ]
  },
  {
   "cell_type": "code",
   "execution_count": 36,
   "metadata": {},
   "outputs": [
    {
     "name": "stdout",
     "output_type": "stream",
     "text": [
      "loading vocab from path:e:\\nlp\\nlp-env\\neuspell\\neuspell\\../data/checkpoints/elmoscrnn-probwordnoise\\vocab.pkl\n",
      "initializing model\n",
      "Number of parameters in the model: 209906438\n",
      "Loading model params from checkpoint dir: e:\\nlp\\nlp-env\\neuspell\\neuspell\\../data/checkpoints/elmoscrnn-probwordnoise\n",
      "new model loaded: <class 'neuspell.corrector_elmosclstm.ElmosclstmChecker'>\n",
      "loading vocab from path:e:\\nlp\\nlp-env\\neuspell\\neuspell\\../data/checkpoints/elmoscrnn-probwordnoise\\vocab.pkl\n",
      "initializing model\n",
      "Number of parameters in the model: 209906438\n",
      "Loading model params from checkpoint dir: e:\\nlp\\nlp-env\\neuspell\\neuspell\\../data/checkpoints/elmoscrnn-probwordnoise\n"
     ]
    }
   ],
   "source": [
    "# create SclstmChecker\n",
    "elmo_checker = SclstmChecker()\n",
    "# add ELMO at input\n",
    "elmo_checker = elmo_checker.add_(\"elmo\", at=\"input\")  # \"elmo\" or \"bert\", \"input\" or \"output\"\n",
    "# load pretrained model\n",
    "elmo_checker.from_pretrained()"
   ]
  },
  {
   "attachments": {},
   "cell_type": "markdown",
   "metadata": {},
   "source": [
    "### Evaluate pretrained model on testing set"
   ]
  },
  {
   "cell_type": "code",
   "execution_count": 37,
   "metadata": {},
   "outputs": [
    {
     "name": "stdout",
     "output_type": "stream",
     "text": [
      "../dataset/test clean_en_lyrics.txt noisy_en_lyrics.txt\n"
     ]
    },
    {
     "name": "stderr",
     "output_type": "stream",
     "text": [
      "930it [00:00, 464922.85it/s]\n",
      "930it [00:00, 928738.74it/s]\n"
     ]
    },
    {
     "name": "stdout",
     "output_type": "stream",
     "text": [
      "loaded tuples of (corr,incorr) examples from ../dataset/test\n",
      "data size: 930\n"
     ]
    },
    {
     "name": "stderr",
     "output_type": "stream",
     "text": [
      "233it [02:05,  1.85it/s]"
     ]
    },
    {
     "name": "stdout",
     "output_type": "stream",
     "text": [
      "\n",
      "Epoch None valid_loss: 0.7947396991750457\n",
      "total inference time for this data is: 125.894886 secs\n",
      "###############################################\n",
      "total token count: 6250\n",
      "corr2corr:4634, corr2incorr:329, incorr2corr:1075, incorr2incorr:212\n",
      "accuracy is 0.91344\n",
      "word correction rate is 0.8352758352758353\n",
      "precision is 0.9337094499294781\n",
      "recall is 0.9562525794469666\n",
      "f1 score is 0.944846569477011\n",
      "###############################################\n"
     ]
    },
    {
     "name": "stderr",
     "output_type": "stream",
     "text": [
      "\n"
     ]
    }
   ],
   "source": [
    "elmo_checker.evaluate(clean_file=clean_file, corrupt_file=noisy_file, data_dir=test_data_path)"
   ]
  },
  {
   "attachments": {},
   "cell_type": "markdown",
   "metadata": {},
   "source": [
    "### Example of wrong outputs"
   ]
  },
  {
   "cell_type": "code",
   "execution_count": 38,
   "metadata": {},
   "outputs": [
    {
     "data": {
      "text/plain": [
       "['tell her that she beautiful every day I remind her',\n",
       " 'I get lost in her eyes like dust from the skies',\n",
       " \"did I say that out loud I 'm so crazy about mine\",\n",
       " 'but we do not have the same soul',\n",
       " 'tell me that you love me baby say it again',\n",
       " \"repeat it over and over until it 's in my brain\",\n",
       " 'you need to send your location i can not think',\n",
       " 'did I say that out loud',\n",
       " \"I 'm so crazy about mine\",\n",
       " 'when I look back']"
      ]
     },
     "execution_count": 38,
     "metadata": {},
     "output_type": "execute_result"
    }
   ],
   "source": [
    "# correct noisy data\n",
    "elmo_correct = elmo_checker.correct_strings(noisy_test)\n",
    "elmo_correct[:10]"
   ]
  },
  {
   "cell_type": "code",
   "execution_count": 39,
   "metadata": {},
   "outputs": [
    {
     "name": "stdout",
     "output_type": "stream",
     "text": [
      "len data: 930\n",
      "correct data after bert: 593\n"
     ]
    }
   ],
   "source": [
    "clean_test_prep = [i.replace(' ', '').strip().lower() for i in clean_test]\n",
    "elmo_correct_prep = [i.replace(' ', '').strip().lower() for i in elmo_correct]\n",
    "\n",
    "print('len data:', len(clean_test_prep))\n",
    "print('correct data after bert:', sum(a == b for a, b in zip(elmo_correct_prep, clean_test_prep)))"
   ]
  },
  {
   "cell_type": "code",
   "execution_count": 40,
   "metadata": {},
   "outputs": [
    {
     "name": "stdout",
     "output_type": "stream",
     "text": [
      "tell her that she beautiful every day i remind her  |  tell her that she beautiful every day I remind her\n",
      "but we don't have the same soul  |  but we do not have the same soul\n",
      "you need to send your location i can't think  |  you need to send your location i can not think\n",
      "and if i do will you be there with me father sister brother  |  and if I do will you be there with my father sister brother\n",
      "you said that i might  |  you said that it might\n",
      "i guess i'll be fine  |  I guess will be fine\n",
      "don't you dare say  |  do not you dare say\n",
      "if you don't really care  |  if you do not really care\n",
      "but lately i can't see  |  but lately I cannot see\n",
      "can't you see it  |  can not you see it\n",
      "don't you see it  |  do not you see it\n",
      "baby don't you dare say  |  baby do not you dare baby\n",
      "maybe i'll take my glasses off  |  maybe will take my glasses off\n",
      "don't just say it  |  not just say it\n",
      "baby if you care then don't you dare say  |  baby if you care then do not you dare say\n",
      "yeah don't you dare say  |  yeah not you dare say\n",
      "if don't really care see  |  if not really care side\n",
      "if you're not coming home to me  |  if you not coming home to me\n",
      "but i've got things to say  |  but I got things to say\n",
      "don't know what they mean they're special just for you  |  do not know what they mean their special just for you\n",
      "turn it up hot loving you is free  |  turn it up not locking you is free\n",
      "you believe me don't you baby  |  you believe me dont you baby\n",
      "you never been with no one as nasty as me  |  you never been with no one as many as me\n",
      "i ain't afraid of a little pain  |  I am not afraid of a little pain\n",
      "hey i could take a big bat  |  hey I could take a big bet\n",
      "i could fuck him in the range  |  I could back him in the range\n",
      "skirt off fuck in the backseat  |  skirt off back in the backseat\n",
      "take that shirt off baby put it on me  |  take that short off baby put it on me\n",
      "i catch a dollar in the wind and i  |  I catch a dollar in the wind and it\n",
      "i don't know why it is that i wanna stay  |  I do not know why it is that I wanna stay\n",
      "i don't know what it is that  |  I not know what it is that\n",
      "but i'm not gonna do what i hear me say oh  |  but am not gonna do what i hear me say of\n",
      "i'm just gonna walk i'm gonna walk away  |  I 'm just on no walk i 'm gonna walk away\n",
      "matter of fact it need interest  |  matter of fact it needs interest\n",
      "fuck you think is in more shit  |  back you think is in more shit\n",
      "you ain't no king  |  you want no king\n",
      "but one day i woke up like  |  but one day i wake up like\n",
      "you can't feel it and you're tired  |  you can not feel it and your tired\n",
      "fuck it i love you wish that you would hold me or just say that you were mine  |  fuck it i love you wish that you would hold me or just say that you were maybe\n",
      "don't even know what you're good for  |  not even know what you 're good for\n",
      "to me but babe  |  to me but bzbe\n",
      "i'm your favorite girl  |  ic'm your favorite girl\n",
      "ahh ahh  |  ah ah\n",
      "there's a whole world outside  |  three 's a whole world outside\n",
      "yeah they're saying i'm insane  |  yeah they saying i 'm insane\n",
      "'cause i wanna go to space  |  because I wanna go to space\n",
      "i i i've never ever been this far away from home  |  I if I 've never ever been this far away from home\n",
      "it gets dark yeah it gets dark  |  it gets back year it gets dark\n",
      "no not this time  |  is at this time\n",
      "i'm not who i used to be  |  I 'm not whom I used to be\n",
      "'cause i came out here to see  |  because I came out here to see\n",
      "i am you can won't tell no one about it  |  I am you can do not tell no one about it\n",
      "it's gonna be a ball it's gonna be a ball  |  it 's gone you be a ball it 's gone you be a ball\n",
      "it's gonna be a ball  |  it 's gone you be a ball\n",
      "it's not looking good now oh  |  it 's not looking good now on\n",
      "come on get drunk get drunk  |  come to get drunk get drunk\n",
      "i'm doing it for all of us who never got the chance  |  I 'm doing it for all of us who never get the chance\n",
      "for and for shut up shut up  |  four and from shut up shut up\n",
      "'cause they were caught up in the dance  |  because they were caught up in the dance\n",
      "and now i do  |  and now it do\n",
      "like my part was i  |  like my part was in\n",
      "you're on the run  |  yourself on the run\n",
      "i know you're sick boy  |  I know your sick boy\n",
      "he said show me what you got girl  |  he said show me what you got good\n",
      "baby  |  many\n",
      "we're a match mad in heaven  |  we 're a match mzad in heaven\n",
      "if they don't think we're good together  |  if they dont think were good together\n",
      "so i don't have to say  |  so i dont have to say\n",
      "to red blue and yellow skies  |  to red blue and yellow slices\n",
      "god knows i loved  |  good knows I loved\n",
      "i've got nothing much to live for  |  once got nothing much to live for\n",
      "me and god we don't get along  |  me and good we do not get along\n",
      "so now i sing  |  so now i saying\n",
      "i don't really wanna know what's good for me  |  I do not really wanna know what good for me\n",
      "you tell me life isn't that hard  |  you tell me life isnt that hard\n",
      "you said that you didn't mind  |  you said that you did not mind\n",
      "looking back see  |  looking back soon\n",
      "you're broken and i'm pissed  |  there broken and i 'm pissed\n",
      "it can't be true  |  it cannot be true\n",
      "let go of my hand  |  left go of my hand\n",
      "it's like magic babe isn't life wonderful  |  it 's like magic babe is not life wonderful\n",
      "my babe my babe stay on my brain yeah  |  my baby my baby stay on my brain yeah\n",
      "you are my babe  |  you are my baby\n",
      "big girl in the red dress  |  big girl in the road dress\n",
      "but she doesn't make a sound  |  but she doesnt make a sound\n",
      "i heard one thing now i'm hearing another  |  I heard one thing now is hearing another\n",
      "i hum it on the phone like every night  |  I hjum it on the phone like every night\n",
      "looking into his eyes i think he's already hurt  |  looking into his eyes and think heels already hurt\n",
      "for all the things you've done  |  for all the things yoxu've done\n",
      "i can't wait no more no  |  I cannot wait no more no\n",
      "isn't it funny that when you're truly in love  |  meant it funny that when you 're truly in love\n",
      "and i can't wait no more oh no  |  and I can not wait no more of no\n",
      "but you got to understand  |  but you get to understand\n",
      "you're my woman and i'm your man  |  your my woman and i 'm your man\n",
      "i can't even go for a ride  |  I cannot even go for a ride\n",
      "ever thought that they could do that for me  |  every thought that they could do that for me\n",
      "'cause baby you got me you got me open yes you do  |  because baby you get me you got me open takes you do\n",
      "i can't wait no more  |  I can not wait no more\n",
      "don't you want to  |  do not you want to\n",
      "let's let's make love  |  like let 's make love\n",
      "you wanna watch me while i watch tv  |  you wanna watch me while i watch to\n",
      "out outta here alive  |  out out here alive\n",
      "we're gonna party like we're  |  we 're gone no party like we 're\n",
      "he said i wanna buy you  |  he said it wanna buy you\n",
      "i said i'll serve you up  |  I said i'lxl serve you up\n",
      "i wish i could eat your cancer when you turn black  |  I wish i could hear your cancer when you turn back\n",
      "hey  |  they\n",
      "ah tell me what the ah ah ah  |  and tell me what the ah ah ah\n",
      "tell me now if you're trying to ride with me  |  tell me now if you trying to ride with me\n",
      "now i can't see you the same as i used to  |  now I can not see you the same as i used to\n",
      "all i know is that we can't fall back now  |  all i know is that we can not fall back now\n",
      "do too do too  |  do to do too\n",
      "i don't know just where i'm going  |  I do not know just where I 'm going\n",
      "and i guess that i just don't know  |  and i guess that i just not know\n",
      "and you can't help me not you guys  |  and you can not help me not you guys\n",
      "and i guess i just don't know  |  and i guess it just not know\n",
      "oh and i guess that i just don't know  |  oh and i guess that i just not know\n",
      "i really don't care anymore  |  I really do not care anymore\n",
      "then i really don't care anymore  |  then I really do not care anymore\n",
      "and thank god that i just don't care  |  and thank god that it just do not create\n",
      "did you really think i'd do you wrong  |  did you really think I 'd do your wrong\n",
      "don't you know the times i've tried  |  do not you know the times live tried\n",
      "i don't wanna do this anymore  |  I dont wanna do this anymore\n",
      "all i wanna do is get by by the beach  |  all I wanna do is get by by the bench\n",
      "'cause i know that  |  ' case I know that\n",
      "i know you don't understand  |  I know you do not understand\n",
      "but that don't make you a man  |  but that do not make you a man\n",
      "don't need your money money  |  do not need your money money\n",
      "til they hit the floor  |  until they hit the floor\n",
      "i know we'll get him yet  |  I know will get him yet\n",
      "he don't know our faces but  |  he does not know our faces but\n",
      "where i come from  |  were I come from\n",
      "if you no go hit and run  |  if you do go hit and run\n",
      "if you no go break my heart  |  if you do go break my heart\n",
      "didn't take a second to notice  |  didnt take a second to notice\n",
      "'cause love can find a way to make your feet run heavy  |  because love can find a way to make your feet run heavy\n",
      "so i'm praying that you're feeling the same  |  so I 'm praying that you feeling the same\n",
      "something to get the thought of you and i off my mind  |  something to get the thought of you and it off my mind\n",
      "so tell me honey oh when you're just a step away from falling apart  |  so tell me honey oh when you 're just a step away form falling apart\n",
      "and when i get to thinking can't sleep at night  |  and when I got to thinking is not sleep at night\n",
      "no i don't feel right  |  no I do not feel right\n",
      "say you want me too  |  say you want me to\n",
      "but i'm not scared there's nothing to lose now that i've found you  |  but I 'm not scared there 's nothing to love now that I 've found you\n",
      "all of the guys tell me lies but you don't  |  all of the guys tell me lies but you do not\n",
      "hey 'cause i believe in you  |  hey ' because i believe in you\n",
      "if i just believe it there's nothing to it hey  |  if I just believe it there 's nothing to it they\n",
      "i can fly i can fly i can fly  |  I can fly I can fly the can fly\n",
      "everything you do everything i like  |  everything you do everything is like\n",
      "flowers in my hair roses on the vine  |  flowers in my hair roses on the view\n",
      "my my apple of my eye  |  by my apple of my eye\n",
      "you're so high  |  your so high\n",
      "i want you boy i want you boy  |  I want you boy i want you enjoy\n",
      "caught you boy i caught you boy  |  caught you boy and caught you boy\n",
      "i wish i may i wish i might  |  I wish I may i wish it might\n",
      "have my one true love tonight  |  have my once true love tonight\n",
      "baby don't be scared come on honey smile  |  baby do not be scared come on honey smoke\n",
      "but i don't wanna go just yet  |  but I do not wanna go just yet\n",
      "'cause i'm not really over it  |  because I 'm not really over it\n",
      "i know i should leave but  |  I know I should live but\n",
      "i don't wanna go just yet  |  I do not wanna go just yet\n",
      "but it's all i've got all i've got  |  but it 's all ever got all i 've got\n",
      "'cause i know i'm better off alone better off alone  |  because i know I 'm better off alone better off alone\n",
      "ooh ooh  |  oh both\n",
      "ooh ooh ooh  |  oh on both\n",
      "i can't even front girl  |  I can not even front girl\n",
      "see 'cause i may be young but i know  |  see ' case i may be young but i know\n",
      "i'm not about to walk away  |  am not about to walk away\n",
      "from this me and you moment don't you understand  |  from this me and you moment do not you understand\n",
      "you got me and bad way girl got me in a bad way girl  |  you got me and bad was girl got me in a bad play girl\n",
      "but i'm gonna play your game like it hey yeah  |  but i 'm gone you play your game like it they yeah\n",
      "in a bad hey  |  in a bad day\n",
      "in a bad yeah  |  in a bad year\n",
      "you got me in a bad way girl in a bad bad way  |  you get me in a bad way girl in a bad bad way\n",
      "oh and life ain't always what you think it ought to be no  |  oh and life against always what you think it ought to be no\n",
      "and don't say you're over me  |  and do not say you 're over me\n",
      "when we both know that you ain't  |  when we both know that you want\n",
      "don't say you're over me  |  do not say you 're over me\n",
      "dance me all around the moon  |  done me all around the moon\n",
      "lie lie lie lie lie lie lie lie lie  |  the one one one one one one one one\n",
      "when they all know that you ain't  |  when they all know that you want\n",
      "when they all know that you're lying  |  when they all know that you lying\n",
      "lie you lie  |  like you lie\n",
      "say you'll never ever leave from beside me  |  say you never ever leave from beside me\n",
      "and i'm down for you always  |  and move down for you always\n",
      "'cause i've been going off and they don't know when it's stopping  |  ' cause i 've been going off and they do not know when it 's stopping\n",
      "i know you special girl 'cause i know too many  |  I know you special girl because I know too many\n",
      "now let me see you  |  now let me free you\n",
      "you don't know that i don't even care  |  you dont know that i do not even care\n",
      "i'm just being real my shit look  |  I 'm just being real my sight look\n",
      "with the pain and anger can't see a way out  |  with the pain and anger is not see a way out\n",
      "people do you hear me just gimme the sign  |  people do you hear me just give the sign\n",
      "i want it all yeah  |  I want it all year\n",
      "i want it all hey  |  I want it all they\n",
      "i cant fall back  |  I can not fall back\n",
      "what about em why the basement  |  what about him why the basement\n",
      "and ive got an aching head  |  and I we got an acting head\n",
      "went face to face with all our fears  |  went face to face with all our frames\n",
      "hand in my hand because im yours i cant  |  hand in my hand because the my yours and can at\n",
      "bob the builder broke my heart  |  but the builder broke my heart\n",
      "so he can play prince charming  |  so he can play prints charming\n",
      "just sitting in a cloud oh wow  |  just sitting in a cloud of wow\n",
      "what im demanding is fucking up all the budgets  |  what I be demanding is fucking up all the budgets\n",
      "im done cause you lied with my guys like nah  |  I am done because you lied with my guys like nah\n",
      "but im here right now right now  |  but I am here right now right now\n",
      "i wont judge she finesse  |  I want judge the finesse\n",
      "but with you girl im losing control yo  |  but with you girl i be losing control to\n",
      "im smart as fuck  |  I am smart as fuck\n",
      "you be like oh my god  |  you be like of my old\n",
      "if my eyes are brown or blue  |  if my eyes are born or blue\n",
      "im probably the only one yeah  |  I am probably the only one year\n",
      "high like the moon rock with me baby  |  high like the moon rock with the baby\n",
      "on a yacht baby we would sail  |  on a yacht bank we would call\n",
      "but id rather work on this with you  |  but I the rather work on this with you\n",
      "blurring all the lines you intoxicate me  |  blurring all the lies you intoxicate me\n",
      "emotion unlocking  |  emotion acknowledging\n",
      "ill run my hands through your hair  |  will ruin my hands through your hair\n",
      "yeah i know its what they want  |  yeah i know is what they want\n",
      "im filled with flaws and attitude  |  I am filled with flaws and attitude\n",
      "and then she asks me do you feel alright  |  and then she asks me do you feel bright\n",
      "ill be damned  |  will be damned\n",
      "lets pop them bottles so big  |  lets post them bottles so big\n",
      "well i have called you darlin and ill say it again again  |  well I have called you drill and will say it again again\n",
      "wont you give yourself to me  |  do it you give yourself to me\n",
      "they be talking like im the dumbest  |  they be talking like and be the dumbest\n",
      "nothing you cant do  |  nothing you can not do\n",
      "man now we stepping out like whoa oh god  |  man now are stepping out like what oh god\n",
      "when were out of touch  |  we were out of touch\n",
      "smooth like butter hate us love us  |  smooth like butter have us life us\n",
      "ill be your soldier  |  will be your soldier\n",
      "so honey hold my hand you like making me wait for it  |  so honey good my hand you like making me wait for it\n",
      "im just a con about to fade to black  |  I am just a con about to fade to black\n",
      "makin you fall like that  |  making you fall like that\n",
      "cause with you girl im losing control oh  |  cause with your girl and the losing control of\n",
      "never let you go oh  |  never let you go on\n",
      "plus she good at charming cobras  |  plus the good at charming groups\n",
      "lotta parts were missing  |  little parts were missing\n",
      "its like everything you say is a sweet revelation  |  is like everything you say is a sweet revelation\n",
      "and i want you do you want me do you want me too  |  and I want you do you what me do you want me to\n",
      "i took my chick up to the north yeah badass bitch  |  I took my chick up to the north year badass both\n",
      "hate to leave her call it torture  |  hate to leave here call it torture\n",
      "you had my back when the gang used to slide  |  you had my back when the gag used to slide\n",
      "but i will take my chances  |  that I will take my chances\n",
      "you done gave it away ya had it til you took it back  |  you do gave it away you had it until you took it back\n",
      "sneaking in la when the lights are low  |  sneaking in it when the lights are low\n",
      "hot like summer  |  hot life summer\n",
      "yeah im makin you sweat like that  |  yeah i be making you sweat like that\n",
      "fresh boy pull up and we lay low  |  fresh boys pull up and we lay low\n",
      "girl you was down and you told me you roll like my rollie  |  girl you went down and you told me you roll like my rollie\n",
      "and ill be right here with you til the end of time  |  and will be right here with you until the end of time\n",
      "so if you need perfect im not built for you one two three  |  so if you need perfect i be not built for you only to three\n",
      "you on a runway track from the good  |  you on a runway back from the good\n",
      "i got my peaches out in georgia oh yeah shit  |  I got my peaches out in georgia oh yeah shut\n",
      "girl i think you the plug you the one with the best  |  girl i think you are plug you the once with the best\n",
      "let go on the wheel its the bullet lane  |  let go on the wheel its the bullet lame\n",
      "she feel like the ocean  |  she feels like the ocean\n",
      "i played it hard and fast cause i had everything  |  I played it hard and fast because I had everything\n",
      "now im seeing red not thinking straight  |  now I am sending red not thinking straight\n",
      "but i still cant forget if i wanted to  |  but I still can not forget if I wanted to\n",
      "just one hit of you i knew ill never ever ever be the same  |  just one hit of you and knew will never ever ever be the same\n",
      "just one hit of you i knew ill never be the same  |  just one hit of you I knew will never be the same\n",
      "know that i got that heat  |  know that I got that hard\n",
      "lets go  |  let go\n",
      "lets go get it oh oh  |  lets go get it on oh\n",
      "and brushes her long blonde hair  |  and bushes her long blonde hair\n",
      "i cant even talk still stuttering  |  I can not even talk still stuttering\n",
      "well i will call you darlin and everything will be okay  |  well I will call you darling and everything will be okay\n",
      "party it up so big  |  part it up so big\n",
      "done bein distracted  |  done being distracted\n",
      "i pipe up she take that  |  I pipe up she takes that\n",
      "its you babe  |  its you be\n",
      "no matter what i do  |  no matter what it do\n",
      "just cant make it all alone  |  just can it make it all alone\n",
      "look at me now im falling  |  look at me now i be falling\n",
      "so put your loving hand out darlin  |  so put your loving hand out darling\n",
      "so now i cant stop thinking about you  |  so now I cannot stop thinking about you\n",
      "if our love was a fairy tale  |  if our love was a fairy table\n",
      "taking all the shots like kobe  |  taking all the shots like kboe\n",
      "its the texture of your skin  |  is the texture of your skin\n",
      "oh she the bae im her boo  |  oh she the base i get her boy\n",
      "its business and im a commodity  |  its business and i be a commodity\n",
      "i tried to leave you would stall  |  I tried to leave you would sell\n",
      "ask me whats my best side i stand back and point at you  |  ask me was my best side i stand back and point at you\n",
      "dollars lot of stock in me  |  dollars lots of stock in me\n",
      "been two years our memories are blurred  |  been two years or memories are blurred\n",
      "but im for ya  |  but I am for you\n",
      "i got that superstar glow so ooh  |  I got just sluperstar glow so ooh\n",
      "girl go to work for me  |  girls go to work for me\n",
      "said that im just nuts and bolts  |  said that i be just nuts and bohlts\n",
      "but i planted that seed just let me grow  |  but I planted that seed just kept me grow\n",
      "im running out of time  |  I am running out of time\n",
      "bout to set it off  |  about to set it off\n",
      "im flawed by design and you loved to remind me  |  I am followed by design and you loved to remind me\n",
      "ill melt your heart into two  |  will melt your heart into two\n",
      "you gave me your love im addicted like drugs  |  you gave me your love and be addicted like drugs\n",
      "you know that i wont stop until i make you mine  |  you know that I do not stop until I make you mine\n",
      "a couple of things i cant spell without u  |  a couple of things I cant spell without you\n",
      "cool shade stunner  |  cool shade stynner\n",
      "i feel like im chosen  |  I feel like I am chosen\n",
      "im the first to say that im not perfect  |  I am the first to say that i am not perfect\n",
      "but i know what they want from me  |  but it know what they want from me\n",
      "just like nicotine heroin morphine  |  just like nicotine heroin morohine\n",
      "never really gave enough  |  never really have enough\n",
      "we both know its a cruel world  |  we both know its a cell world\n",
      "ill be your platinum ill be your silver ill be your gold  |  will be your platinum will be your soldier will be your gold\n",
      "straight up i got ya  |  straight up i got you\n",
      "all of them times that you talked but you lied  |  all of them times that you talked but you liked\n",
      "some just rather say goodbye bye  |  some just rather say goodbye by\n",
      "when she looking so sweet  |  when she looking to sweet\n",
      "yeah any time i feed you get me no  |  yeah any time I feel you get me no\n",
      "the one i need is right in my arms oh  |  the one I need is right in my arms of\n",
      "ill beat you there  |  will beat you there\n",
      "thinking bout a way to get you off my mind  |  thinking about a way to get you off my mind\n",
      "looking for their barbie  |  looking for their babies\n",
      "she gotcha boy doing crazy things that i never thought id ever do no  |  she gorcha boy doing crazy things that I never thought I d ever do no\n",
      "off of one touch i could overdose  |  off of one touch I could overdosfe\n",
      "so if you need perfect im not built for you yeah  |  so if you need perfect and the not bullet for you yeah\n",
      "im so in my head  |  I am so in my head\n",
      "i feel like i could die walking up to the room oh yeah  |  I feel like I could do walking up to the room of yeah\n",
      "cause i know that i am yours and you are mine  |  case I know that i am yours and you are like\n",
      "they tryna get involved  |  they turn get involved\n",
      "but hey now hey now you know girl know girl  |  but hey know hey now you know girl know girl\n",
      "wont even stand the devils dance  |  do it even stand the devils dance\n",
      "and im a sucker for the way that you move babe  |  and I m a sucker for the way that you move babies\n",
      "im here right now right now  |  I am here right now right now\n",
      "oh my darling you are wonderful tonight  |  oh my daring you are wonderful tonight\n",
      "got the aura of the mafia  |  got the area of the mafia\n",
      "but i cant stand these nights alone  |  but i can not stand these nights alone\n",
      "you left your diary at my house  |  you left your dairy at my house\n",
      "give it all oh  |  give it all of\n",
      "she be acting bougie  |  she be acting bpugie\n",
      "and how was i supposed to know i miss you so  |  and how was it supposed to know I miss you so\n",
      "let me show you cause talk is cheap  |  let me show you case talk is cheap\n",
      "ive got your photograph  |  I I got your photograph\n",
      "rollin up to party got the right vibe  |  rolling up to party got the right vibe\n",
      "so if you need perfect im not built for you one two three ooh  |  so if you need perfect i be not bright for you home to three on\n",
      "give my last hello hope its worth it  |  give my last hello hope is worth it\n",
      "ice on my wrist im the nice guy  |  like on my wrist i m the nice guy\n"
     ]
    }
   ],
   "source": [
    "for i in range(len(clean_test_prep)):\n",
    "    if clean_test_prep[i] != elmo_correct_prep[i]:\n",
    "        print(clean_test[i], ' | ', elmo_correct[i])"
   ]
  },
  {
   "attachments": {},
   "cell_type": "markdown",
   "metadata": {},
   "source": [
    "### Fine-tuning SclstmChecker"
   ]
  },
  {
   "cell_type": "code",
   "execution_count": 12,
   "metadata": {},
   "outputs": [
    {
     "name": "stdout",
     "output_type": "stream",
     "text": [
      "loading vocab from path:e:\\nlp\\nlp-env\\neuspell\\neuspell\\../data/checkpoints/elmoscrnn-probwordnoise\\vocab.pkl\n",
      "initializing model\n",
      "Number of parameters in the model: 209906438\n",
      "Loading model params from checkpoint dir: e:\\nlp\\nlp-env\\neuspell\\neuspell\\../data/checkpoints/elmoscrnn-probwordnoise\n",
      "new model loaded: <class 'neuspell.corrector_elmosclstm.ElmosclstmChecker'>\n",
      "loading vocab from path:e:\\nlp\\nlp-env\\neuspell\\neuspell\\../data/checkpoints/elmoscrnn-probwordnoise\\vocab.pkl\n",
      "initializing model\n",
      "Number of parameters in the model: 209906438\n",
      "Loading model params from checkpoint dir: e:\\nlp\\nlp-env\\neuspell\\neuspell\\../data/checkpoints/elmoscrnn-probwordnoise\n"
     ]
    },
    {
     "name": "stderr",
     "output_type": "stream",
     "text": [
      "7309it [00:00, 811868.85it/s]\n",
      "7309it [00:00, 1828145.26it/s]\n"
     ]
    },
    {
     "name": "stdout",
     "output_type": "stream",
     "text": [
      "loaded tuples of (corr,incorr) examples from ../dataset/train\n",
      "len of train and test data:  5848 1461\n",
      "CHECKPOINT_PATH: e:\\nlp\\nlp-env\\neuspell\\neuspell\\../data/checkpoints/elmoscrnn-probwordnoise\\new_models\\elmo-base-cased-1\n",
      "Training model params from scratch\n",
      "In epoch: 0\n",
      "train_data size: 5848\n",
      "Percent: [----------------------------->] 100% || batch_time: 1.8574 || batch_loss: 0.0289 || avg_batch_loss: 0.2516 || batch_acc: 0.8835 || avg_batch_acc: 0.8835 \n",
      "Epoch 0 train_loss: 0.25164507261268754\n",
      "valid_data size: 1461\n",
      "Percent: [----------------------------->] 100% || batch_time: 1.6337 || batch_loss: 0.0423 || avg_batch_loss: 0.0786 || batch_acc: 0.9800 || avg_batch_acc: 0.9773 \n",
      "Epoch 0 valid_loss: 0.07855986807819294\n",
      "Model saved at e:\\nlp\\nlp-env\\neuspell\\neuspell\\../data/checkpoints/elmoscrnn-probwordnoise\\new_models\\elmo-base-cased-1\\model.pth.tar in epoch 0\n",
      "In epoch: 1\n",
      "train_data size: 5848\n",
      "Percent: [----------------------------->] 100% || batch_time: 2.0445 || batch_loss: 0.0225 || avg_batch_loss: 0.0878 || batch_acc: 0.9735 || avg_batch_acc: 0.9735 \n",
      "Epoch 1 train_loss: 0.08781397055396861\n",
      "valid_data size: 1461\n",
      "Percent: [----------------------------->] 100% || batch_time: 1.5584 || batch_loss: 0.0348 || avg_batch_loss: 0.0618 || batch_acc: 0.9800 || avg_batch_acc: 0.9829 \n",
      "Epoch 1 valid_loss: 0.06182758749017249\n",
      "Model saved at e:\\nlp\\nlp-env\\neuspell\\neuspell\\../data/checkpoints/elmoscrnn-probwordnoise\\new_models\\elmo-base-cased-1\\model.pth.tar in epoch 1\n",
      "In epoch: 2\n",
      "train_data size: 5848\n",
      "Percent: [----------------------------->] 100% || batch_time: 1.5954 || batch_loss: 0.0165 || avg_batch_loss: 0.0503 || batch_acc: 0.9910 || avg_batch_acc: 0.9910 \n",
      "Epoch 2 train_loss: 0.05028126003218133\n",
      "valid_data size: 1461\n",
      "Percent: [----------------------------->] 100% || batch_time: 1.6591 || batch_loss: 0.0206 || avg_batch_loss: 0.0593 || batch_acc: 0.9933 || avg_batch_acc: 0.9839 \n",
      "Epoch 2 valid_loss: 0.059271735179683434\n",
      "Model saved at e:\\nlp\\nlp-env\\neuspell\\neuspell\\../data/checkpoints/elmoscrnn-probwordnoise\\new_models\\elmo-base-cased-1\\model.pth.tar in epoch 2\n",
      "Model and logs saved at e:\\nlp\\nlp-env\\neuspell\\neuspell\\../data/checkpoints/elmoscrnn-probwordnoise\\new_models\\elmo-base-cased-1\\model.pth.tar\n"
     ]
    }
   ],
   "source": [
    "# create AclstmChecker\n",
    "elmo_checker_new = SclstmChecker()\n",
    "# add elmo at input\n",
    "elmo_checker_new = elmo_checker_new.add_(\"elmo\", at=\"input\")  # \"elmo\" or \"bert\", \"input\" or \"output\"\n",
    "# load pretrained model\n",
    "elmo_checker_new.from_pretrained()\n",
    "# fine-tune on training data\n",
    "elmo_checker_new.finetune(clean_file=clean_file, corrupt_file=noisy_file, data_dir=train_data_path)"
   ]
  },
  {
   "attachments": {},
   "cell_type": "markdown",
   "metadata": {},
   "source": [
    "### Evaluate on testing set after fine-tuning"
   ]
  },
  {
   "cell_type": "code",
   "execution_count": 41,
   "metadata": {},
   "outputs": [
    {
     "name": "stdout",
     "output_type": "stream",
     "text": [
      "../dataset/test clean_en_lyrics.txt noisy_en_lyrics.txt\n"
     ]
    },
    {
     "name": "stderr",
     "output_type": "stream",
     "text": [
      "930it [00:00, 465200.09it/s]\n",
      "930it [00:00, 930289.22it/s]\n"
     ]
    },
    {
     "name": "stdout",
     "output_type": "stream",
     "text": [
      "loaded tuples of (corr,incorr) examples from ../dataset/test\n",
      "data size: 930\n"
     ]
    },
    {
     "name": "stderr",
     "output_type": "stream",
     "text": [
      "233it [02:06,  1.85it/s]"
     ]
    },
    {
     "name": "stdout",
     "output_type": "stream",
     "text": [
      "\n",
      "Epoch None valid_loss: 0.06675239470649322\n",
      "total inference time for this data is: 126.218415 secs\n",
      "###############################################\n",
      "total token count: 6250\n",
      "corr2corr:4939, corr2incorr:24, incorr2corr:1131, incorr2incorr:156\n",
      "accuracy is 0.9712\n",
      "word correction rate is 0.8787878787878788\n",
      "precision is 0.9951642151924239\n",
      "recall is 0.9693817468105986\n",
      "f1 score is 0.9821037979717637\n",
      "###############################################\n"
     ]
    },
    {
     "name": "stderr",
     "output_type": "stream",
     "text": [
      "\n"
     ]
    }
   ],
   "source": [
    "elmo_checker_new.evaluate(clean_file=clean_file, corrupt_file=noisy_file, data_dir=test_data_path)"
   ]
  },
  {
   "attachments": {},
   "cell_type": "markdown",
   "metadata": {},
   "source": [
    "### Result analysis"
   ]
  },
  {
   "cell_type": "code",
   "execution_count": 42,
   "metadata": {},
   "outputs": [
    {
     "data": {
      "text/plain": [
       "['tell her that she beautiful every day i remind her',\n",
       " 'i get lost in her eyes like dust from the skies',\n",
       " \"did i say that out loud i 'm so crazy about mine\",\n",
       " 'but we do not have the same soul',\n",
       " 'tell me that you love me baby say it again',\n",
       " \"repeat it over and over until it 's in my brain\",\n",
       " 'you need to send your location i can not think',\n",
       " 'did i say that out loud',\n",
       " \"i 'm so crazy about mine\",\n",
       " 'when i look back']"
      ]
     },
     "execution_count": 42,
     "metadata": {},
     "output_type": "execute_result"
    }
   ],
   "source": [
    "elmo_correct_new = elmo_checker_new.correct_strings(noisy_test)\n",
    "elmo_correct_new[:10]"
   ]
  },
  {
   "cell_type": "code",
   "execution_count": 43,
   "metadata": {},
   "outputs": [
    {
     "name": "stdout",
     "output_type": "stream",
     "text": [
      "len data: 930\n",
      "correct data after bert: 720\n"
     ]
    }
   ],
   "source": [
    "clean_test_prep = [i.replace(' ', '').strip().lower() for i in clean_test]\n",
    "elmo_correct_new_prep = [i.replace(' ', '').strip().lower() for i in elmo_correct_new]\n",
    "\n",
    "print('len data:', len(clean_test_prep))\n",
    "print('correct data after bert:', sum(a == b for a, b in zip(elmo_correct_new_prep, clean_test_prep)))"
   ]
  },
  {
   "cell_type": "code",
   "execution_count": 44,
   "metadata": {},
   "outputs": [
    {
     "name": "stdout",
     "output_type": "stream",
     "text": [
      "tell her that she beautiful every day i remind her  |  tell her that she beautiful every day i remind her\n",
      "but we don't have the same soul  |  but we do not have the same soul\n",
      "you need to send your location i can't think  |  you need to send your location i can not think\n",
      "i guess i'll be fine  |  i guess il'l be fine\n",
      "don't you dare say  |  do not you dare say\n",
      "if you don't really care  |  if you do not really care\n",
      "but lately i can't see  |  but lately i cna't see\n",
      "can't you see it  |  can not you see it\n",
      "don't you see it  |  do not you see it\n",
      "baby don't you dare say  |  baby do not you dare say\n",
      "maybe i'll take my glasses off  |  maybe iw'll take my glasses off\n",
      "don't just say it  |  dn't just say it\n",
      "baby if you care then don't you dare say  |  baby if you care then do not you dare say\n",
      "yeah don't you dare say  |  yeah dom't you dare say\n",
      "if don't really care see  |  if do't really care side\n",
      "if you're not coming home to me  |  if yuo're not coming home to me\n",
      "but i've got things to say  |  but i'ce got things to say\n",
      "don't know what they mean they're special just for you  |  do not know what they mean tey're special just for you\n",
      "you believe me don't you baby  |  you believe me do'nt you baby\n",
      "i ain't afraid of a little pain  |  i am not afraid of a little pain\n",
      "you could put it on a swing  |  you could put it on a song\n",
      "take that shirt off baby put it on me  |  take that shit off baby put it on me\n",
      "i don't know why it is that i wanna stay  |  i do not know why it is that i wanna stay\n",
      "i don't know what it is that  |  i dno't know what it is that\n",
      "but i'm not gonna do what i hear me say oh  |  but i'pm not gonna do what i hear me say oh\n",
      "i'm just gonna walk i'm gonna walk away  |  i 'm just gone na walk i 'm gonna walk away\n",
      "you ain't no king  |  you aink't no king\n",
      "but one day i woke up like  |  but one day i wake up like\n",
      "you can't feel it and you're tired  |  you can not feel it and you'ere tired\n",
      "don't even know what you're good for  |  dom't even know what you 're good for\n",
      "i'm your favorite girl  |  ic'm your favorite girl\n",
      "ahh ahh  |  ah ah\n",
      "yeah they're saying i'm insane  |  yeah they'e saying i 'm insane\n",
      "i'm not who i used to be  |  i 'm not whom i used to be\n",
      "i am you can won't tell no one about it  |  i am you can do not tell no one about it\n",
      "it's gonna be a ball it's gonna be a ball  |  it 's gone na be a ball it 's gone na be a ball\n",
      "it's gonna be a ball  |  it 's gone na be a ball\n",
      "get drunk get drunk get drunk get drunk  |  got drunk get drunk get drunk get drunk\n",
      "for and for shut up shut up  |  four and from shut up shut up\n",
      "were not in your right mind  |  where not in your right mind\n",
      "you're on the run  |  you'rde on the run\n",
      "i know you're sick boy  |  i know yo'ure sick boy\n",
      "if they don't think we're good together  |  if they dqon't think we'te good together\n",
      "so i don't have to say  |  so i do't have to say\n",
      "god knows i loved  |  good knows i loved\n",
      "i've got nothing much to live for  |  i'vce got nothing much to live for\n",
      "me and god we don't get along  |  me and good we do not get along\n",
      "so now i sing  |  so now i sang\n",
      "i don't really wanna know what's good for me  |  i do not really wanna know wha'ts good for me\n",
      "you tell me life isn't that hard  |  you tell me life is'nt that hard\n",
      "you said that you didn't mind  |  you said that you did not mind\n",
      "you're broken and i'm pissed  |  yoi're broken and i 'm pissed\n",
      "it can't be true  |  it cna't be true\n",
      "let go of my hand  |  left go of my hand\n",
      "it's like magic babe isn't life wonderful  |  it 's like mahic babe is n't life wonderful\n",
      "but she doesn't make a sound  |  but she doens't make a sound\n",
      "got a monkey on his shoulder  |  got a money on his shoulder\n",
      "i heard one thing now i'm hearing another  |  i heard one thing now iz'm hearing another\n",
      "looking into his eyes i think he's already hurt  |  looking into his eyes i think he'ls already hurt\n",
      "for all the things you've done  |  for all the things yoxu've done\n",
      "i can't wait no more no  |  i cna't wait no more no\n",
      "isn't it funny that when you're truly in love  |  in't it funny that when you 're truly in love\n",
      "and i can't wait no more oh no  |  and i can not wait no more oh no\n",
      "you're my woman and i'm your man  |  your'e my woman and i 'm your man\n",
      "i can't even go for a ride  |  i cna't even go for a ride\n",
      "ever thought that they could do that for me  |  every thought that they could do that for me\n",
      "'cause baby you got me you got me open yes you do  |  'cause baby you got me you got me open eyes you do\n",
      "i can't wait no more  |  i can not wait no more\n",
      "don't you want to  |  do not you want to\n",
      "let's let's make love  |  let'ks let 's make love\n",
      "out outta here alive  |  out out here alive\n",
      "we're gonna party like we're  |  we 're gone na party like we 're\n",
      "i said i'll serve you up  |  i said i'lxl serve you up\n",
      "i wish i could eat your cancer when you turn black  |  i wish i could eat your cancer when you turn blank\n",
      "tell me now if you're trying to ride with me  |  tell me now if yo're trying to ride with me\n",
      "now i can't see you the same as i used to  |  now i can not see you the same as i used to\n",
      "all i know is that we can't fall back now  |  all i know is that we can not fall back now\n",
      "i don't know just where i'm going  |  i do not know just where i 'm going\n",
      "and i guess that i just don't know  |  and i guess that i just dn't know\n",
      "and you can't help me not you guys  |  and you can not help me not you guys\n",
      "and i guess i just don't know  |  and i guess i just dno't know\n",
      "oh and i guess that i just don't know  |  oh and i guess that i just dno't know\n",
      "i really don't care anymore  |  i really do not care anymore\n",
      "then i really don't care anymore  |  then i really do not care anymore\n",
      "and thank god that i just don't care  |  and thank god that i just do not care\n",
      "don't you know the times i've tried  |  do not you know the times iw've tried\n",
      "i don't wanna do this anymore  |  i dpn't wanna do this anymore\n",
      "all i wanna do is get by by the beach  |  all i wanna do is get by by the bench\n",
      "i know you don't understand  |  i know you do not understand\n",
      "but that don't make you a man  |  but that do not make you a man\n",
      "don't need your money money  |  do not need your money money\n",
      "til they hit the floor  |  till they hit the floor\n",
      "i know we'll get him yet  |  i know w'ell get him yet\n",
      "he don't know our faces but  |  he do not know our faces but\n",
      "didn't take a second to notice  |  didnr't take a second to notice\n",
      "so i'm praying that you're feeling the same  |  so i 'm praying that yo're feeling the same\n",
      "and when i get to thinking can't sleep at night  |  and when i got to thinking can n't sleep at night\n",
      "no i don't feel right  |  no i do not feel right\n",
      "but i'm not scared there's nothing to lose now that i've found you  |  but i 'm not scared there 's nothing to love now that i 've found you\n",
      "it's no wonder every man in town  |  it 's no under every man in town\n",
      "all of the guys tell me lies but you don't  |  all of the guys tell me lies but you do not\n",
      "hey 'cause i believe in you  |  hey ' icause i believe in you\n",
      "flowers in my hair roses on the vine  |  flowers in my hair roses on the view\n",
      "you're so high  |  yo'ure so high\n",
      "baby don't be scared come on honey smile  |  baby do not be scared come on honey smile\n",
      "but i don't wanna go just yet  |  but i do not wanna go just yet\n",
      "i don't wanna go just yet  |  i do not wanna go just yet\n",
      "but it's all i've got all i've got  |  but it 's all ir've got all i 've got\n",
      "i can't even front girl  |  i can not even front girl\n",
      "i'm not about to walk away  |  i'mm not about to walk away\n",
      "from this me and you moment don't you understand  |  from this me and you moment do not you understand\n",
      "you got me and bad way girl got me in a bad way girl  |  you got me and bad way girl got me in a band play girl\n",
      "but i'm gonna play your game like it hey yeah  |  but i 'm gone na play your game like it hey yeah\n",
      "oh and life ain't always what you think it ought to be no  |  oh and life ain'zt always what you think it ought to be no\n",
      "and don't say you're over me  |  and do not say you 're over me\n",
      "when we both know that you ain't  |  when we both know that you ai'nt\n",
      "don't say you're over me  |  do not say you 're over me\n",
      "lie lie lie lie lie lie lie lie lie  |  love lie lie lie lie lie lie lie lie\n",
      "and pick me up at eight  |  and pick me up at night\n",
      "when they all know that you ain't  |  when they all know that you an't\n",
      "when they all know that you're lying  |  when they all know that youe're lying\n",
      "lie you lie  |  like you lie\n",
      "say you'll never ever leave from beside me  |  say you'lvl never ever leave from beside me\n",
      "and i'm down for you always  |  and i'vm down for you always\n",
      "'cause i've been going off and they don't know when it's stopping  |  ' cause i 've been going off and they do not know when it 's stopping\n",
      "you don't know that i don't even care  |  you dono't know that i do not even care\n",
      "i'm just being real my shit look  |  i 'm just being real my sight look\n",
      "with the pain and anger can't see a way out  |  with the pain and anger can not see a way out\n",
      "i cant fall back  |  i can not fall back\n",
      "and ive got an aching head  |  and i i got an acting head\n",
      "went face to face with all our fears  |  went face to face with all our frames\n",
      "hand in my hand because im yours i cant  |  hand in my hand because i m yours i can not\n",
      "bob the builder broke my heart  |  but the builder broke my heart\n",
      "what im demanding is fucking up all the budgets  |  what i am demanding is fucking up all the budgets\n",
      "im done cause you lied with my guys like nah  |  i am done cause you lied with my guys like nah\n",
      "i wont judge she finesse  |  i want judge she finesse\n",
      "im smart as fuck  |  i am smart as fuck\n",
      "you be like oh my god  |  you be like oh my old\n",
      "if my eyes are brown or blue  |  if my eyes are born or blue\n",
      "on a yacht baby we would sail  |  on a yacht baby we would soul\n",
      "blurring all the lines you intoxicate me  |  blurring all the lies you intoxicate me\n",
      "emotion unlocking  |  emotion unfolding\n",
      "yeah i know its what they want  |  yeah i know is what they want\n",
      "im filled with flaws and attitude  |  i am filled with flaws and attitude\n",
      "well i have called you darlin and ill say it again again  |  well i have called you drlin and ill say it again again\n",
      "wont you give yourself to me  |  we not you give yourself to me\n",
      "nothing you cant do  |  nothing you can not do\n",
      "makin you fall like that  |  make you fall like that\n",
      "and i say yes i feel wonderful tonight  |  and i say ykes i feel wonderful tonight\n",
      "plus she good at charming cobras  |  plus she good at charming corbas\n",
      "lotta parts were missing  |  little parts were missing\n",
      "its like everything you say is a sweet revelation  |  is like everything you say is a sweet revelation\n",
      "and i want you do you want me do you want me too  |  and i want you do you what me do you want me too\n",
      "i took my chick up to the north yeah badass bitch  |  i took my chick up to the north yeah badass both\n",
      "you done gave it away ya had it til you took it back  |  you done gave it away ya had it till you took it back\n",
      "yeah im makin you sweat like that  |  yeah i m make you sweet like that\n",
      "and ill be right here with you til the end of time  |  and ill be right here with you till the end of time\n",
      "girl i think you the plug you the one with the best  |  girl i think you the plug you the once with the best\n",
      "let go on the wheel its the bullet lane  |  let go on the wheel its the bullet lame\n",
      "but i still cant forget if i wanted to  |  but i still can not forget if i wanted to\n",
      "just one hit of you i knew ill never ever ever be the same  |  just one hit of you i knew ilnl never ever ever be the same\n",
      "know that i got that heat  |  know that i got that heart\n",
      "lets go  |  let go\n",
      "and brushes her long blonde hair  |  and bushes her long blonde hair\n",
      "i cant even talk still stuttering  |  i can not even talk still stuttering\n",
      "well i will call you darlin and everything will be okay  |  well i will call you darling and everything will be okay\n",
      "party it up so big  |  pray it up so big\n",
      "done bein distracted  |  done been distracted\n",
      "just cant make it all alone  |  just can not make it all alone\n",
      "so put your loving hand out darlin  |  so put your loving hand out darling\n",
      "so now i cant stop thinking about you  |  so now i cannot stop thinking about you\n",
      "if our love was a fairy tale  |  if our love was a fairy table\n",
      "taking all the shots like kobe  |  taking all the shots like kboe\n",
      "its the texture of your skin  |  is the texture of your skin\n",
      "oh she the bae im her boo  |  oh she the base i m her book\n",
      "i tried to leave you would stall  |  i tried to leave you would sell\n",
      "ask me whats my best side i stand back and point at you  |  ask me was my best side i stand back and point at you\n",
      "said that im just nuts and bolts  |  said that i m just nuts and bohlts\n",
      "but i planted that seed just let me grow  |  but i planted that seed just kept me grow\n",
      "im running out of time  |  i am running out of time\n",
      "bout to set it off  |  but to set it off\n",
      "im flawed by design and you loved to remind me  |  i am flawed by design and you loved to remind me\n",
      "you know that i wont stop until i make you mine  |  you know that i do not stop until i make you mine\n",
      "a couple of things i cant spell without u  |  a couple of things i can spell without u\n",
      "cool shade stunner  |  cool shade stynner\n",
      "hotter sweeter cooler butter  |  hotter sweeter cooler better\n",
      "im the first to say that im not perfect  |  i am the first to say that i m not perfect\n",
      "but i know what they want from me  |  but i know what they went from me\n",
      "we both know its a cruel world  |  we both know ivts a cruel world\n",
      "i can size you up  |  i can seize you up\n",
      "then she came through and topped me off  |  then she came through and stopped me off\n",
      "yeah any time i feed you get me no  |  yeah any time i feel you get me no\n",
      "thinking bout a way to get you off my mind  |  thinking but a way to get you off my mind\n",
      "but you wont see me break call you up in three days  |  but you want see me break call you up in three days\n",
      "she gotcha boy doing crazy things that i never thought id ever do no  |  she gorcha boy doing crazy things that i never thought i d ever do no\n",
      "im so in my head  |  i am so in my head\n",
      "they tryna get involved  |  they truna get involved\n",
      "wont even stand the devils dance  |  we not even stand the devils dance\n",
      "im here right now right now  |  i am here right now right now\n",
      "oh my darling you are wonderful tonight  |  oh my daring you are wonderful tonight\n",
      "got the aura of the mafia  |  got the area of the mafia\n",
      "but i cant stand these nights alone  |  but i can not stand these nights alone\n",
      "you left your diary at my house  |  you left your dairy at my house\n",
      "only then can i begin to live again  |  only then can i begin to love again\n",
      "she be acting bougie  |  she be acting bpugie\n",
      "ive got your photograph  |  i i got your photograph\n",
      "rollin up to party got the right vibe  |  rolling up to party got the right vibe\n",
      "give my last hello hope its worth it  |  give my last hello hope is worth it\n",
      "its green where you water it  |  igts green where you water it\n",
      "ice on my wrist im the nice guy  |  ice on my writ i m the nice guy\n"
     ]
    }
   ],
   "source": [
    "for i in range(len(clean_test_prep)):\n",
    "    if clean_test_prep[i] != elmo_correct_new_prep[i]:\n",
    "        print(clean_test[i], ' | ', elmo_correct_new[i])"
   ]
  },
  {
   "cell_type": "markdown",
   "metadata": {},
   "source": []
  }
 ],
 "metadata": {
  "kernelspec": {
   "display_name": "Python 3",
   "language": "python",
   "name": "python3"
  },
  "language_info": {
   "codemirror_mode": {
    "name": "ipython",
    "version": 3
   },
   "file_extension": ".py",
   "mimetype": "text/x-python",
   "name": "python",
   "nbconvert_exporter": "python",
   "pygments_lexer": "ipython3",
   "version": "3.9.16"
  },
  "orig_nbformat": 4
 },
 "nbformat": 4,
 "nbformat_minor": 2
}
