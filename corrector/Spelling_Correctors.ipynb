{
 "cells": [
  {
   "attachments": {},
   "cell_type": "markdown",
   "metadata": {},
   "source": [
    "# Correcting songs and fine-tuing"
   ]
  },
  {
   "attachments": {},
   "cell_type": "markdown",
   "metadata": {},
   "source": [
    "## Import modules"
   ]
  },
  {
   "cell_type": "code",
   "execution_count": 1,
   "metadata": {},
   "outputs": [
    {
     "name": "stdout",
     "output_type": "stream",
     "text": [
      "data folder is set to `e:\\nlp\\nlp-env\\neuspell\\neuspell\\../data` script\n",
      "available checkers: ['BertsclstmChecker', 'CnnlstmChecker', 'ElmosclstmChecker', 'NestedlstmChecker', 'SclstmChecker', 'SclstmbertChecker', 'SclstmelmoChecker', 'BertChecker']\n"
     ]
    }
   ],
   "source": [
    "import os\n",
    "from neuspell import available_checkers, BertChecker, SclstmChecker\n",
    "\n",
    "print(f\"available checkers: {available_checkers()}\")"
   ]
  },
  {
   "attachments": {},
   "cell_type": "markdown",
   "metadata": {},
   "source": [
    "## Define data path"
   ]
  },
  {
   "cell_type": "code",
   "execution_count": 2,
   "metadata": {},
   "outputs": [],
   "source": [
    "clean_file = 'clean_en_lyrics.txt'\n",
    "noisy_file = 'noisy_en_lyrics.txt'\n",
    "\n",
    "train_data_path = '../dataset/train'\n",
    "clean_train_path = os.path.join(train_data_path, clean_file)\n",
    "noisy_train_path = os.path.join(train_data_path, noisy_file)\n",
    "\n",
    "test_data_path = '../dataset/test'\n",
    "clean_test_path = os.path.join(test_data_path, clean_file)\n",
    "noisy_test_path = os.path.join(test_data_path, noisy_file)"
   ]
  },
  {
   "attachments": {},
   "cell_type": "markdown",
   "metadata": {},
   "source": [
    "## Load training data"
   ]
  },
  {
   "cell_type": "code",
   "execution_count": 3,
   "metadata": {},
   "outputs": [
    {
     "data": {
      "text/plain": [
       "['well show me the way',\n",
       " \"'cause nothin' from nothin' leaves nothin'\",\n",
       " \"she said look, what's your game baby\",\n",
       " 'savage love, did somebody, did somebody break your heart',\n",
       " \"told you i'll be here forever\",\n",
       " 'oh baby, we found love right where we are maybe',\n",
       " 'all i know is we said, \"hello\"',\n",
       " \"another saturday night and i ain't got nobody\",\n",
       " 'if your schemes like your dreams',\n",
       " 'you fell, i caught you']"
      ]
     },
     "execution_count": 3,
     "metadata": {},
     "output_type": "execute_result"
    }
   ],
   "source": [
    "with open(clean_train_path) as f:\n",
    "    clean_train = f.read().splitlines()\n",
    "\n",
    "clean_train[:10]"
   ]
  },
  {
   "cell_type": "code",
   "execution_count": 4,
   "metadata": {},
   "outputs": [
    {
     "data": {
      "text/plain": [
       "['well show me the way',\n",
       " \"'caue nothvin' from nothin' leaves nothin'\",\n",
       " \"sye said look, wha's yocur gmae baby\",\n",
       " 'svage live, did somebodvy, did somebody beak your heart',\n",
       " \"tlod you i'll be helre forever\",\n",
       " 'oh baby, we found love riaght where we ahre mabe',\n",
       " 'all i know is we saiid, \"ello\"',\n",
       " \"another saturfay ngiht and i ain't got nobody\",\n",
       " 'if your schemes lkie your dreas',\n",
       " 'you fell, i caught you']"
      ]
     },
     "execution_count": 4,
     "metadata": {},
     "output_type": "execute_result"
    }
   ],
   "source": [
    "with open(noisy_train_path) as f:\n",
    "    noisy_train = f.read().splitlines()\n",
    "\n",
    "noisy_train[:10]"
   ]
  },
  {
   "cell_type": "code",
   "execution_count": 5,
   "metadata": {},
   "outputs": [
    {
     "data": {
      "text/plain": [
       "['\\ufefftell her that she beautiful every day i remind her',\n",
       " 'i get lost in her eyes like dust from the skies',\n",
       " \"did i say that out loud i'm so crazy about mine\",\n",
       " \"but we don't have the same soul\",\n",
       " 'tell me that you love me baby say it again',\n",
       " \"repeat it over and over until it's in my brain\",\n",
       " \"you need to send your location i can't think\",\n",
       " 'did i say that out loud',\n",
       " \"i'm so crazy about mine\",\n",
       " 'when i look back']"
      ]
     },
     "execution_count": 5,
     "metadata": {},
     "output_type": "execute_result"
    }
   ],
   "source": [
    "with open(clean_test_path) as f:\n",
    "    clean_test = f.read().splitlines()\n",
    "\n",
    "clean_test[:10]"
   ]
  },
  {
   "cell_type": "code",
   "execution_count": 6,
   "metadata": {},
   "outputs": [
    {
     "data": {
      "text/plain": [
       "['tell her that she beautiful evrey day i remind her',\n",
       " 'i get lost in her eeys like dust from the skies',\n",
       " \"did i say that out loud i'm so crazy abput mine\",\n",
       " \"but we don't have tye smae soul\",\n",
       " 'tekl me taht you llve me baby say it agatin',\n",
       " \"repet it over anfd ovdr unitl it's in my brain\",\n",
       " \"you need to send your location i can't thik\",\n",
       " 'did i say that out loud',\n",
       " \"i'm so crzy about mine\",\n",
       " 'when i look bqck']"
      ]
     },
     "execution_count": 6,
     "metadata": {},
     "output_type": "execute_result"
    }
   ],
   "source": [
    "with open(noisy_test_path) as f:\n",
    "    noisy_test = f.read().splitlines()\n",
    "\n",
    "noisy_test[:10]"
   ]
  },
  {
   "attachments": {},
   "cell_type": "markdown",
   "metadata": {},
   "source": [
    "## BERTChecker"
   ]
  },
  {
   "attachments": {},
   "cell_type": "markdown",
   "metadata": {},
   "source": [
    "### Load pretrained model"
   ]
  },
  {
   "cell_type": "code",
   "execution_count": 7,
   "metadata": {},
   "outputs": [
    {
     "name": "stdout",
     "output_type": "stream",
     "text": [
      "loading vocab from path:e:\\nlp\\nlp-env\\neuspell\\neuspell\\../data/checkpoints/subwordbert-probwordnoise\\vocab.pkl\n",
      "initializing model\n",
      "Number of parameters in the model: 185211810\n",
      "Loading model params from checkpoint dir: e:\\nlp\\nlp-env\\neuspell\\neuspell\\../data/checkpoints/subwordbert-probwordnoise\n"
     ]
    }
   ],
   "source": [
    "# create BertChecker\n",
    "bert_checker = BertChecker()\n",
    "# use pretrained model\n",
    "bert_checker.from_pretrained()"
   ]
  },
  {
   "attachments": {},
   "cell_type": "markdown",
   "metadata": {},
   "source": [
    "### Evaluate pretrained model on testing set"
   ]
  },
  {
   "cell_type": "code",
   "execution_count": 8,
   "metadata": {},
   "outputs": [
    {
     "name": "stdout",
     "output_type": "stream",
     "text": [
      "../dataset/test clean_en_lyrics.txt noisy_en_lyrics.txt\n"
     ]
    },
    {
     "name": "stderr",
     "output_type": "stream",
     "text": [
      "1046it [00:00, 1046075.82it/s]\n",
      "1046it [00:00, 1046325.30it/s]\n"
     ]
    },
    {
     "name": "stdout",
     "output_type": "stream",
     "text": [
      "loaded tuples of (corr,incorr) examples from ../dataset/test\n",
      "###############################################\n",
      "data size: 1046\n"
     ]
    },
    {
     "name": "stderr",
     "output_type": "stream",
     "text": [
      "262it [01:02,  4.18it/s]"
     ]
    },
    {
     "name": "stdout",
     "output_type": "stream",
     "text": [
      "\n",
      "Epoch None valid_loss: 0.7659597544334386\n",
      "total inference time for this data is: 62.650257 secs\n",
      "###############################################\n",
      "\n",
      "\n",
      "total token count: 7477\n",
      "_corr2corr:5462, _corr2incorr:528, _incorr2corr:1225, _incorr2incorr:262\n",
      "accuracy is 0.8943426507957737\n",
      "word correction rate is 0.8238063214525891\n",
      "precision is 0.9118530884808014\n",
      "recall is 0.9542278127183788\n",
      "f1 score is 0.9325593307153833\n",
      "###############################################\n"
     ]
    },
    {
     "name": "stderr",
     "output_type": "stream",
     "text": [
      "\n"
     ]
    }
   ],
   "source": [
    "bert_checker.evaluate(clean_file=clean_file, corrupt_file=noisy_file, data_dir=test_data_path)"
   ]
  },
  {
   "attachments": {},
   "cell_type": "markdown",
   "metadata": {},
   "source": [
    "### Example of wrong outputs "
   ]
  },
  {
   "cell_type": "code",
   "execution_count": 9,
   "metadata": {},
   "outputs": [
    {
     "data": {
      "text/plain": [
       "['tell her that she beautiful every day i remind her',\n",
       " 'I get lost in her eyes like dust from the skies',\n",
       " \"did I say that out loud i ' m so crazy about mine\",\n",
       " \"but we don ' t have the same soul\",\n",
       " 'tell me that you love the baby say it again',\n",
       " \"repeat it over and over until it ' s in my brain\",\n",
       " \"you need to send your location I can ' t think\",\n",
       " 'did I say that out loud',\n",
       " \"I ' m so crazy about mine\",\n",
       " 'when i look back']"
      ]
     },
     "execution_count": 9,
     "metadata": {},
     "output_type": "execute_result"
    }
   ],
   "source": [
    "bert_correct = bert_checker.correct_strings(noisy_test)\n",
    "bert_correct[:10]"
   ]
  },
  {
   "cell_type": "code",
   "execution_count": 10,
   "metadata": {},
   "outputs": [
    {
     "name": "stdout",
     "output_type": "stream",
     "text": [
      "len data: 1046\n",
      "Number of correct data after bert: 695\n"
     ]
    }
   ],
   "source": [
    "clean_test_prep = [i.replace(' ', '').strip().lower() for i in clean_test]\n",
    "bert_correct_prep = [i.replace(' ', '').strip().lower() for i in bert_correct]\n",
    "\n",
    "print('len data:', len(clean_test_prep))\n",
    "print('Number of correct data after bert:', sum(a == b for a, b in zip(bert_correct_prep, clean_test_prep)))"
   ]
  },
  {
   "cell_type": "code",
   "execution_count": 11,
   "metadata": {},
   "outputs": [
    {
     "name": "stdout",
     "output_type": "stream",
     "text": [
      "tell her that she beautiful every day i remind her  |  tell her that she beautiful every day i remind her\n",
      "tell me that you love me baby say it again  |  tell me that you love the baby say it again\n",
      "and if i do will you be there with me father sister brother  |  and if I do will you be there with my father sister brother\n",
      "will the baby be alright  |  will the baby be brought\n",
      "will i have one of mine  |  will i have one of mainly\n",
      "your spirit can sit and watch tv by my side  |  your spirit can cut and watch to by my side\n",
      "but lately i can't see  |  but latterly I can ' t see\n",
      "baby if you care  |  baby if your care\n",
      "if don't really care see  |  if don ' t really care so\n",
      "don't know what they mean they're special just for you  |  don ' t know what they mean they special just for you\n",
      "i like it down like it down way low  |  I like it does like it down way low\n",
      "i ain't afraid of a little pain  |  I ain ' t aware of a little pain\n",
      "hey i could take a big bat  |  hey i could take a big skate\n",
      "i could fuck him in the rain  |  I could fuck him in the room\n",
      "i could fuck him every day  |  I could pick him every day\n",
      "just wait until you get a taste  |  just wait until your get a state\n",
      "take that shirt off baby put it on me  |  take that shirt off badly put it on me\n",
      "oh baby baby baby baby baby  |  of baby baby baby baby baby\n",
      "i don't know why it is that i wanna stay  |  I dont know why it is that I wanna stay\n",
      "matter of fact it need interest  |  matter of fact it needed interest\n",
      "fuck you think is in more shit  |  fuck you think is in more sight\n",
      "you ain't no king  |  you ain ' t no song\n",
      "what i do i do best  |  what I do and do best\n",
      "don't even know what you're good for  |  do ' nt even know what your good for\n",
      "to me but babe  |  to me by baby\n",
      "need you baby more more more more  |  need your baby more more more more\n",
      "i need you baby more more more more  |  I need your baby more more more more\n",
      "i i i've never ever been this far away from home  |  I if iv ' t never ever given this far away from home\n",
      "i'm not who i used to be  |  I ' m not who is used to be\n",
      "i'm leaving them  |  I ' m learning them\n",
      "i am you can won't tell no one about it  |  I am you cban must tell no one about it\n",
      "it's gonna be a ball it's gonna be a ball  |  it ' s gonna be a ball if ' is gonna be s ball\n",
      "it's not looking good now oh  |  it ' s not looking good now on\n",
      "for and for shut up shut up  |  for and four sit up shut up\n",
      "out of the black out of the black  |  amount of the black out of the black\n",
      "like my part was i  |  like my part was it\n",
      "he said show me what you got girl  |  he afraid show me that you got girls\n",
      "drop it like it's hot girl  |  drop it like it ' s hot girls\n",
      "you're so fun  |  youre son fun\n",
      "and this kind of love's forever  |  and this kind of loves forever\n",
      "dance around like i'm insane  |  dance sound like i ' m insane\n",
      "i feel free when i see no one  |  I feel fear when i see no open\n",
      "god knows i died  |  old knows I died\n",
      "and god knows i tried  |  and god knows the tired\n",
      "god knows i tried  |  god knows the crime\n",
      "light up my life  |  lit up my life\n",
      "me and god we don't get along  |  me and ghod we don ' t get along\n",
      "you're broken and i'm pissed  |  your ' re broken and I ' m pissed\n",
      "open you're eyes and what do you see  |  open your ' re eyes and what do you see\n",
      "it's so hard sometimes with a star  |  it ' s so hard sometimes with a scare\n",
      "it's so sweet pouring you a drink  |  it ' s so sweet poring you a drink\n",
      "my babe my babe stay on my brain yeah  |  my maybe my babe stayed on my brain yeah\n",
      "you are my babe  |  you are my base\n",
      "so far away from the bed  |  so far away from the old\n",
      "honey it's almost nine  |  honey it ' s almost nice\n",
      "do you want me or do you not  |  do you want me or do your nlt\n",
      "i'm already hurt  |  I ' m already sorry\n",
      "with you  |  with your\n",
      "and i can't wait no more oh no  |  find I can ' t wait no more or no\n",
      "but you got to understand  |  but you get to understand\n",
      "ever thought that they could do that for me  |  even thought that they could do that for me\n",
      "every man gets his wish you told me this  |  every man gets his wish you told me that\n",
      "you said i'd never make it  |  you said he ' d never make it\n",
      "out outta here alive  |  out outta our alive\n",
      "hey  |  they\n",
      "ah tell me what the ah ah ah  |  ah tell me that the ah ah ah\n",
      "used to talk shit now i wonder what they must think  |  used to talk shit now and wonder what they must think\n",
      "do too do too  |  do to do too\n",
      "know you get know you get know you get  |  know you not know you get known you get\n",
      "and you can't help me not you guys  |  and you can ' t help me need you guys\n",
      "i really don't care anymore  |  I really do ' nt care anymore\n",
      "all that time without a word  |  all that time without a woman\n",
      "my baby blue  |  my baby bike\n",
      "i would show  |  I would snow\n",
      "take good care baby let me know  |  this good care baby let me know\n",
      "let it grow  |  let it go\n",
      "all i wanna do is get by by the beach  |  all the wanna do is get by by the beach\n",
      "til they hit the floor  |  until three hit the floor\n",
      "and i get off when i point the gun  |  and i get off when i point the gin\n",
      "he don't know our faces but  |  we don ' t know our faces but\n",
      "if i need you now i can let you go  |  if i need your now i can let you go\n",
      "if you no go hit and run  |  if you do go hit and run\n",
      "if you no go break my heart  |  if you do go break my heart\n",
      "'cause love can find a way to make your feet run heavy  |  ' cause life can find a way to make your feet run heavy\n",
      "so tell me honey oh when you're just a step away from falling apart  |  so tell me honesty of when you ' re just a step away from falling apart\n",
      "maybe i spend more time in hollywood than i should  |  maybe i spend more time in holywood than i should\n",
      "say you want me too  |  say you want me to\n",
      "it's no wonder every man in town  |  I ' s no wonder every man in town\n",
      "what you been up to my baby  |  that you been up to my baby\n",
      "all of the guys tell me lies but you don't  |  all of these guys tell me lies but you don ' t\n",
      "as i whisper in your ear  |  as the whisper in your ear\n",
      "hey 'cause i believe in you  |  every ' cause I believe in you\n",
      "if i just believe it there's nothing to it hey  |  if I just believe it there ' s nothing to it they\n",
      "i believe i can fly i can fly  |  I believe I can say I can fly\n",
      "i can fly i can fly  |  I can fly and can fly\n",
      "i can fly i can fly i can fly  |  I can fly i can for i can fly\n",
      "everything you do everything i like  |  everything you do everything is like\n",
      "flowers in my hair roses on the vine  |  flowers in my hair rows on the right\n",
      "my my apple of my eye  |  by my apple of my eye\n",
      "i'm wild as can be and i want  |  I ' m weird as can be and i want\n",
      "i want you boy i want you boy  |  I want you boy and want you boy\n",
      "caught you boy i caught you boy  |  caught your boy and caught yoga boy\n",
      "but i love the way we kiss love the way we fight  |  but i love the way we kissed love the way we fight\n",
      "cause the way you put your hands on me  |  because the way you put your hands on me\n",
      "baby don't be scared come on honey smile  |  baby don ' t be scared come on honey blonde\n",
      "i want you i want you  |  I want you and want you\n",
      "i caught you i caught you  |  I caught you and caught you\n",
      "i caught you boy i caught you boy  |  I caught you boy and caught you boy\n",
      "just five more minutes and i'll go  |  just five more minutes and didn ' ll go\n",
      "see 'cause i may be young but i know  |  sre ' cause i may be young but i know\n",
      "from this me and you moment don't you understand  |  film this me and you moment don ' t you understand\n",
      "you got me and bad way girl got me in a bad way girl  |  you get me and bad way girl got me in a bad way girl\n",
      "has come here show  |  has come here so\n",
      "you had me on the worse  |  you hated me on the worries\n",
      "in a bad hey  |  in a bad happy\n",
      "in a bad yeah  |  in a bad year\n",
      "in a bad bad way that's right girl  |  in a bad bad way that ' s right girls\n",
      "you got me in a bad way girl you got me in a bad way girl  |  you got me in a bad gray girl you got me in a bad way go\n",
      "sink me in the river at dawn  |  sick me in the river at dawn\n",
      "i'm as green as the ring on my little cold finger  |  I ' m as green as the roof on my little cold finger\n",
      "when we both know that you lie  |  when we both know that you like\n",
      "lie lie lie lie lie lie lie lie lie  |  lies lies lie like lie lie lie lie lie\n",
      "when you lie down right next to me  |  when you lay down right next to me\n",
      "lie you lie  |  like you lie\n",
      "this shit got me in my feelings  |  this sight get me in my feelings\n",
      "say you'll never ever leave from beside me  |  say you ' ll never ever leave form besides me\n",
      "look the new me is really still the real me  |  like the new me is really still the real me\n",
      "'cause i've been going off and they don't know when it's stopping  |  ' cause it ' t been going off and they don ' t know when i ' is stopping\n",
      "i know you special girl 'cause i know too many  |  I know you special girls ' cause i know too many\n",
      "now let me see you now let me see you  |  now let me see you now let me are you\n",
      "i'm just being real my shit look  |  I ' m just being real my shit like\n",
      "i want it all give it all i want it all  |  I want it all give it all and want it all\n",
      "i want it all yeah  |  I want it all year\n",
      "i want it all yes i want it all  |  I want it all yes and want it all\n",
      "i want it all hey  |  I want it all they\n",
      "i'm a man with a one track mind  |  I ' m a man with a high track mind\n",
      "so i'm living it all yes i'm living it all  |  so i ' am living it all yces i ' m living it all\n",
      "hear the cry of youth hear the cry of youth hear the cry of youth  |  how the cry of youth hear the cry of youth hear the cry of youth\n",
      "i want it all i want it all and i want it now  |  I that it all i want it all and I want it now\n",
      "so any time i bleed you let me go  |  so any time I need you let me go\n",
      "ill make it feel like a vacay turn the bed into an ocean  |  will make it feel like a vacancy turns the bed into an ocean\n",
      "what about em why the basement  |  what about and were the basement\n",
      "and she down to break the rules  |  and she donned to break the rules\n",
      "and ive got an aching head  |  and he got an acting head\n",
      "im on my knees while im beggin  |  im on my knees while im begin\n",
      "hand in my hand because im yours i cant  |  hand in my hand because in yours i cant\n",
      "gon pop like trouble  |  go poop like trouble\n",
      "looking for a way that i can see your face  |  looking for a way that i can free your food\n",
      "itd be so beautiful if that came true  |  might be so beautiful if that came true\n",
      "just sitting in a cloud oh wow  |  just sitting in a cloud of snow\n",
      "what im demanding is fucking up all the budgets  |  what is demanding is fucking up all the budgets\n",
      "im done cause you lied with my guys like nah  |  im done cause you lued with the guys like nah\n",
      "but im here right now right now  |  but him here right now right now\n",
      "argue lets talk  |  large lets talk\n",
      "im sending pic after picture imma get you fired  |  if sending pic after picture inmates get you fired\n",
      "we gon make you rock and you say yeah  |  we can make you rock and you say yeah\n",
      "cause i dont wanna live in a broken home  |  cause i dont want live in a broken home\n",
      "i wont judge she finesse  |  I must judge take finesse\n",
      "but with you girl im losing control yo  |  but with you girl im losing control you\n",
      "im smart as fuck  |  if smart as flick\n",
      "you be like oh my god  |  you be like of my good\n",
      "suddenly im a fiend and youre all i need  |  suddenly im a fiend and your ale i need\n",
      "to the joy you bring  |  to the joy you braving\n",
      "im probably the only one yeah  |  im probably the only one year\n",
      "cause with them girls before i wasnt feeling so gone  |  came with the girls before i wasnt feeling so gone\n",
      "high like the moon rock with me baby  |  high like the moon rock with the baby\n",
      "im fightin hard  |  im fighting hard\n",
      "but id rather work on this with you  |  but me rather work on this with you\n",
      "youre my sunshine in the rain when its pouring  |  your eye sunshine in the rain when its pouring\n",
      "blurring all the lines you intoxicate me  |  barring all the lines you intoxicated me\n",
      "late night watching television  |  there night watching television\n",
      "i thought that i needed you in my life  |  I thought that I briefed you in my life\n",
      "i need to know your lips  |  I need to know your loos\n",
      "ill run my hands through your hair  |  will run my hands through your hair\n",
      "cause im beggin  |  cause him begin\n",
      "cause baby youre the boss at home  |  cause baby your the bonus at home\n",
      "hold on wait a minute  |  hold on at a minute\n",
      "ill be damned  |  will be damned\n",
      "lets pop them bottles so big  |  lets pop the bottles so big\n",
      "i left my girl im in mallorca  |  I left my girl in in mallorca\n",
      "well i have called you darlin and ill say it again again  |  well i have called you darling and ill say it again again\n",
      "im a diy pioneer  |  im a day pioneer\n",
      "and youre the first to say you want the best thing  |  and your the first to say you want the best thing\n",
      "wont you give yourself to me  |  want you give yourself to me\n",
      "they be talking like im the dumbest  |  they be talking like if the dumbest\n",
      "nothing you cant do  |  nothing you can do\n",
      "man now we stepping out like whoa oh god  |  man now is stepping out like whoa oh god\n",
      "when were out of touch  |  we were out of touch\n",
      "ride or die she gon go  |  ride or die she got go\n",
      "ill be your soldier  |  will be your soldier\n",
      "this ground of mine keeps shaking  |  this ground of mime keeps shaking\n",
      "now she just a groupie  |  now she just a group\n",
      "im just a con about to fade to black  |  im just a con about to idea to black\n",
      "imma buy her no celine  |  imam buy her no decline\n",
      "makin you fall like that  |  mean you fall like that\n",
      "cause with you girl im losing control oh  |  cause with your girl is losing control of\n",
      "never let you go oh  |  never let you go on\n",
      "could holla at me  |  could hold at me\n",
      "plus she good at charming cobras  |  plnus are good at charming colors\n",
      "im sittin pretty impatient but i know you gotta  |  im sitting pretty impatient but i know you gotta\n",
      "heres your perfect  |  hetes your perfect\n",
      "who gave you eyes like that  |  who gave your eyes like that\n",
      "and i want you do you want me do you want me too  |  and I want you do you want me do you want me to\n",
      "oh youre the best part oh  |  oh your the best part of\n",
      "side step right left to my beat  |  side step right left to my back\n",
      "i took my chick up to the north yeah badass bitch  |  I took my chick up to the nroth year badass bitch\n",
      "yall aint fooling me at all  |  all paint fooling me at all\n",
      "you done gave it away ya had it til you took it back  |  you do gave it awamy you had it until you took it back\n",
      "put in them hours imma make it harder  |  point in the hours inmates make it harder\n",
      "sneaking in la when the lights are low  |  sneaking in it when the lights are low\n",
      "yeah im makin you sweat like that  |  yeah im making you sweat like that\n",
      "fresh boy pull up and we lay low  |  fresh baby pull up and we lay low\n",
      "girl you was down and you told me you roll like my rollie  |  girl you was down and you told me you felt like my rollie\n",
      "put in work like my timesheet  |  put in work like my timesheets\n",
      "why the feel for the need to replace me  |  why they feel for the need to replace me\n",
      "so i give her the car keys  |  so I give her the car kids\n",
      "and ill be right here with you til the end of time  |  and will be right there with you until the end of time\n",
      "so if you need perfect im not built for you one two three  |  so if you need perfect if not built for you one two three\n",
      "we dont need nobody i just need your body  |  we dont need nobody and just need your body\n",
      "passes my way: rihanna or beyonce  |  passes my way : rihvanna or believe\n",
      "different ass and bigger boobs  |  different as and bigger boobs\n",
      "now you gon tell me you done with my time  |  now you gonna tell me you done with my time\n",
      "i got my peaches out in georgia oh yeah shit  |  I got my patches out in georgia of yeah shit\n",
      "you aint sure yet  |  you want sure yet\n",
      "its way too soon i know this isnt love  |  its way too soon i know this isnt like\n",
      "youre the best part oh  |  your the best part of\n",
      "girl i think you the plug you the one with the best  |  girl i think you the plug to the one with the finest\n",
      "ill be your hova  |  ill be you have\n",
      "she feel like the ocean  |  she feels like the ocean\n",
      "cause youre my iron man  |  cause sorry my irjon man\n",
      "hot like summer aint no bummer  |  front like summer cup no bummer\n",
      "now im seeing red not thinking straight  |  now is seeing red not thinking straight\n",
      "but i still cant forget if i wanted to  |  but I still cannot forget if I wanted to\n",
      "just one hit of you i knew ill never ever ever be the same  |  just one hit if you I knew will never ever ever be the same\n",
      "youre the coffee that i need in the morning  |  your the coffee that is knew in the morning\n",
      "just one hit of you i knew ill never be the same  |  just one hit of you i knew will never be the same\n",
      "youre to blame  |  yours to blame\n",
      "lets go get it oh oh  |  lets go get it on oh\n",
      "so dont stress dont stress dont cry dont cry  |  so dont stresses dont stress dont cry down very\n",
      "well i will call you darlin and everything will be okay  |  well i will call you darling and everything will be okay\n",
      "but i keep walkin on  |  but i keep walking on\n",
      "was hangin over me  |  was hanging over me\n",
      "need someone who falls apart  |  needs someone who falls apart\n",
      "done bein distracted  |  done being distracted\n",
      "its you babe  |  its you baby\n",
      "what we doin what we chasin  |  what we explain what we chasing\n",
      "i get my light right from the source yeah yeah thats it  |  I got my light right from the soccer year yeah thats it\n",
      "it aint nothing personal  |  it meant nothing personal\n",
      "pop pop would be turning in his grave  |  pop pop would be turning in hissy grave\n",
      "so put your loving hand out darlin  |  so put your loving hand out dazzling\n",
      "ridin high when i was king  |  riding high when I was king\n",
      "im holdin on  |  im holding on\n",
      "breakin into your heart like that  |  breaking into your heart like that\n",
      "if our love was a fairy tale  |  if our love was a fairy little\n",
      "youre in my blood youre in my veins youre in my head im sayin  |  used in my blood used in my veinas your in my head is saying\n",
      "taking all the shots like kobe  |  talking all the shoes like combo\n",
      "cause i know you wanna ask  |  case i know you wanna ask\n",
      "and baby youre my winner  |  and baby yours the winner\n",
      "oh she the bae im her boo  |  oh she the be in her boo\n",
      "its business and im a commodity  |  its business and is a commodity\n",
      "but the grass aint always greener on the other side  |  but the gas paint always greener on the other side\n",
      "girl im beggin  |  girl is begin\n",
      "i tried to leave you would stall  |  if tired to leave you would stall\n",
      "ask me whats my best side i stand back and point at you  |  ask me what my best side i stand back and point at you\n",
      "dollars lot of stock in me  |  dollars lots of stock in me\n",
      "yippee kiyay ah yeah  |  yippee kiyay and yeah\n",
      "put your hand in mine  |  put your hand in mind\n",
      "but im for ya  |  but it for ya\n",
      "in your hulk outerwear  |  in your hulk outerwar\n",
      "girl go to work for me  |  girls go to work for me\n",
      "but easy come and easy go and it would end  |  but easy come and easy go and it will end\n",
      "said that im just nuts and bolts  |  said that is just nuts and boys\n",
      "keep browsin halls  |  keep browsing halls\n",
      "and ill hurt you and youll hurt me and well say things we cant repeat  |  and will hurt you and you hurt me and will say things we can repeat\n",
      "nothin but sheets in between us aint no getting off early  |  nothing but sheets in between us want to getting off early\n",
      "bout to set it off  |  about to suit it off\n",
      "i aint wearin na nada  |  I paint wearing an idea\n",
      "he said one day youll leave this world behind  |  he said one day would leave this world behind\n",
      "you gave me your love im addicted like drugs  |  you gave me your love if addicted like drugs\n",
      "a couple of things i cant spell without u  |  a couple of things i can spell without you\n",
      "cool shade stunner  |  cool side stunned\n",
      "i aint worried bout nothin  |  I paint worried about nothing\n",
      "dont think you wanna know just where ive been oh  |  dont think you wanna know just where live bemen on\n",
      "im the first to say that im not perfect  |  im the first to say that is not perfect\n",
      "all i wanna be yeah all i ever wanna be yeah yeah yeah yeah  |  all i wanna be yeah all i never wamna be yeah yeah yeah yeah\n",
      "but i know what they want from me  |  but I know what they want for me\n",
      "yeah i owe it all to my mother  |  year and off it all to my mother\n",
      "ill be your platinum ill be your silver ill be your gold  |  will be your platinum will be your silver will be your gold\n",
      "im beggin beggin you  |  im begins beggin know\n",
      "all of them times that you talked but you lied  |  all of them times that you talked but you loved\n",
      "some just rather say goodbye bye  |  some just rather say goodbye by\n",
      "i can size you up  |  I can seize you up\n",
      "when she looking so sweet  |  when she looked so sweet\n",
      "likes to drink and smoke some doja  |  likes to drink and some some doja\n",
      "i used to wanna be  |  I used to watch be\n",
      "the one i need is right in my arms oh  |  the one I need is right in my arms on\n",
      "i cant pretend i cant ignore youre right for me  |  I cant pretend i cant ignore your right to me\n",
      "ill beat you there  |  will what you there\n",
      "keep rockin dawns  |  keep rocking dawns\n",
      "feeling all the highs feeling all the pain  |  feeling all the high feeling all the pain\n",
      "thinking bout a way to get you off my mind  |  thinking about a way to get you off my mind\n",
      "but you wont see me break call you up in three days  |  but you wont see the break call you up in three days\n",
      "looking for their barbie  |  looking for their babrie\n",
      "she gotcha boy doing crazy things that i never thought id ever do no  |  she gotcha boy doing crazy things that i never thought and ever do no\n",
      "so if you need perfect im not built for you yeah  |  so if you need perfect if not built for you yeah\n",
      "used to tell me skys the limit now the skys our point of view view  |  used to tell me skys the limit now the skys or point of view view\n",
      "im so in my head  |  if so in my head\n",
      "i feel like i could die walking up to the room oh yeah  |  I feel like I could file looking up to the room oh yeah\n",
      "they tryna get involved  |  they still get involved\n",
      "where you go ill follow  |  would you go ill follow\n",
      "aint no other  |  albeit no other\n",
      "whos pulling strings im just pointing out all the puppets  |  whos pulling strings is just pointing out all the puppets\n",
      "but hey now hey now you know girl know girl  |  but hey now hey now you know girl no girl\n",
      "some just tryin to get by  |  some just trying to get by\n",
      "can you make it clap no hands for me  |  can you make it call no hands for me\n",
      "guess i gotta play the goalie  |  guess i gotta play some goalie\n",
      "wont even stand the devils dance  |  wont even stand the devices distance\n",
      "dont need no usher  |  dont need no user\n",
      "and im a sucker for the way that you move babe  |  and is a sucker for the way that your move baby\n",
      "got the aura of the mafia  |  get the aura of the mafia\n",
      "you could be my destinys child on the scene girl  |  you could be my detainees child on the scene girl\n",
      "sipping on your lips hanging on by a thread baby  |  sipping on your lips hanging on by a third baby\n",
      "when theres a boss in me  |  when theres a loss in me\n",
      "but she aint the only one no  |  but she said the only one no\n",
      "we gon make you bounce and you say yeah  |  we dont make you bounce and you say yeah\n",
      "give it all oh  |  gave it all of\n",
      "now we are on top of the world cause thats just how we do do it  |  now we are on top of the world case that just how we do do it\n",
      "living like theres only me  |  living like theirs only me\n",
      "left her baggage for rimowa  |  left her baggage four times\n",
      "i dont know if this makes sense but youre my hallelujah  |  I dont know if this makes sense but yours my hallelujah\n",
      "so i know we got issues baby true true true  |  so i know we got issues baby tissue true true\n",
      "so them other girls can go they dont make me feel so good  |  so the other girls can go they dont make me feel so good\n",
      "remember them times that we fall  |  remember the times that we fall\n",
      "she be acting bougie  |  she be acting boguie\n",
      "and how was i supposed to know i miss you so  |  and how was i supposed to know the miss you so\n",
      "but howd we get in this position  |  but how we get in this position\n",
      "everybodys tryna be a billionaire  |  everybody tend be a billionaire\n",
      "ive got your photograph  |  give got your photograph\n",
      "cool i dropped out i dont really take test  |  cool and dropped out and not really take test\n",
      "rollin up to party got the right vibe  |  rollin up to patty got the right vibe\n",
      "so if you need perfect im not built for you one two three ooh  |  so if you need perfect if not built for you one to three ooh\n",
      "give my last hello hope its worth it  |  given my last help hope its worth it\n",
      "i get my weed from california thats that shit  |  I get my weed from california that that sight\n",
      "you planning to get on one knee  |  your planning to get on one knee\n",
      "oh did i say too much  |  oh did i baby too much\n",
      "ice on my wrist im the nice guy  |  is on my wrist if the nice guy\n",
      "the way i breathe you in in  |  the way i breathe you in it\n",
      "all the playas get movin when the bass low  |  all like players get moving when the bases low\n",
      "i think i left my conscience on your front door step  |  I think I left my conscience on your front major step\n",
      "got a chick i call her catia  |  got a chick and call her catia\n",
      "how i tried how i tried to be great for you  |  how I tried how i tired to be great for you\n"
     ]
    }
   ],
   "source": [
    "for i in range(len(clean_test_prep)):\n",
    "    if clean_test_prep[i] != bert_correct_prep[i]:\n",
    "        print(clean_test[i], ' | ', bert_correct[i])"
   ]
  },
  {
   "attachments": {},
   "cell_type": "markdown",
   "metadata": {},
   "source": [
    "### Fine-tuning BertChecker"
   ]
  },
  {
   "cell_type": "code",
   "execution_count": 12,
   "metadata": {},
   "outputs": [
    {
     "name": "stdout",
     "output_type": "stream",
     "text": [
      "loading vocab from path:e:\\nlp\\nlp-env\\neuspell\\neuspell\\../data/checkpoints/subwordbert-probwordnoise\\vocab.pkl\n",
      "initializing model\n",
      "Number of parameters in the model: 185211810\n",
      "Loading model params from checkpoint dir: e:\\nlp\\nlp-env\\neuspell\\neuspell\\../data/checkpoints/subwordbert-probwordnoise\n"
     ]
    },
    {
     "name": "stderr",
     "output_type": "stream",
     "text": [
      "7309it [00:00, 664257.93it/s]\n",
      "7309it [00:00, 1218206.55it/s]\n"
     ]
    },
    {
     "name": "stdout",
     "output_type": "stream",
     "text": [
      "loaded tuples of (corr,incorr) examples from ../dataset/train\n",
      "len of train and test data:  5848 1461\n",
      "CHECKPOINT_PATH: e:\\nlp\\nlp-env\\neuspell\\neuspell\\../data/checkpoints/subwordbert-probwordnoise\\new_models\\bert-base-cased-2\n",
      "Training model params\n",
      "In epoch: 0\n",
      "train_data size: 5848\n",
      "Percent: [>                             ] 1% || batch_time: 3.7478 || batch_loss: 0.3949 || avg_batch_loss: 0.3523 || batch_acc: 0.9381 || avg_batch_acc: 0.9381 "
     ]
    },
    {
     "name": "stderr",
     "output_type": "stream",
     "text": [
      "e:\\NLP\\nlp-env\\lib\\site-packages\\pytorch_pretrained_bert\\optimization.py:275: UserWarning: This overload of add_ is deprecated:\n",
      "\tadd_(Number alpha, Tensor other)\n",
      "Consider using one of the following signatures instead:\n",
      "\tadd_(Tensor other, *, Number alpha) (Triggered internally at  ..\\torch\\csrc\\utils\\python_arg_parser.cpp:882.)\n",
      "  next_m.mul_(beta1).add_(1 - beta1, grad)\n"
     ]
    },
    {
     "name": "stdout",
     "output_type": "stream",
     "text": [
      "Percent: [----------------------------->] 100% || batch_time: 2.9423 || batch_loss: 0.1038 || avg_batch_loss: 0.1967 || batch_acc: 0.9381 || avg_batch_acc: 0.9381 \n",
      "Epoch 0 train_loss: 0.196699008597201\n",
      "valid_data size: 1461\n",
      "Percent: [----------------------------->] 100% || batch_time: 1.5124 || batch_loss: 0.0387 || avg_batch_loss: 0.1091 || batch_acc: 0.9944 || avg_batch_acc: 0.9761 \n",
      "Epoch 0 valid_loss: 0.10908372323636127\n",
      "validation accuracy improved from -1.0000 to 44.9012\n",
      "Model saved at e:\\nlp\\nlp-env\\neuspell\\neuspell\\../data/checkpoints/subwordbert-probwordnoise\\new_models\\bert-base-cased-2\\pytorch_model.bin in epoch 0\n",
      "In epoch: 1\n",
      "train_data size: 5848\n",
      "Percent: [----------------------------->] 100% || batch_time: 3.5188 || batch_loss: 0.0074 || avg_batch_loss: 0.0167 || batch_acc: 0.9856 || avg_batch_acc: 0.9856 "
     ]
    },
    {
     "name": "stderr",
     "output_type": "stream",
     "text": [
      "Training beyond specified 't_total'. Learning rate multiplier set to 0.0. Please set 't_total' of WarmupLinearSchedule correctly.\n"
     ]
    },
    {
     "name": "stdout",
     "output_type": "stream",
     "text": [
      "Percent: [----------------------------->] 100% || batch_time: 3.3414 || batch_loss: 0.0012 || avg_batch_loss: 0.0167 || batch_acc: 0.9856 || avg_batch_acc: 0.9856 \n",
      "Epoch 1 train_loss: 0.016688930290026584\n",
      "valid_data size: 1461\n",
      "Percent: [----------------------------->] 100% || batch_time: 1.5868 || batch_loss: 0.0353 || avg_batch_loss: 0.0971 || batch_acc: 0.9944 || avg_batch_acc: 0.9790 \n",
      "Epoch 1 valid_loss: 0.09710691681982059\n",
      "validation accuracy improved from 44.9012 to 45.0326\n",
      "Model saved at e:\\nlp\\nlp-env\\neuspell\\neuspell\\../data/checkpoints/subwordbert-probwordnoise\\new_models\\bert-base-cased-2\\pytorch_model.bin in epoch 1\n",
      "In epoch: 2\n",
      "train_data size: 5848\n",
      "Percent: [>                             ] 1% || batch_time: 4.1288 || batch_loss: 0.0049 || avg_batch_loss: 0.0091 || batch_acc: 1.0000 || avg_batch_acc: 1.0000 "
     ]
    },
    {
     "name": "stderr",
     "output_type": "stream",
     "text": [
      "Training beyond specified 't_total'. Learning rate multiplier set to 0.0. Please set 't_total' of WarmupLinearSchedule correctly.\n"
     ]
    },
    {
     "name": "stdout",
     "output_type": "stream",
     "text": [
      "Percent: [>                             ] 2% || batch_time: 2.6186 || batch_loss: 0.0095 || avg_batch_loss: 0.0105 || batch_acc: 1.0000 || avg_batch_acc: 1.0000 "
     ]
    },
    {
     "name": "stderr",
     "output_type": "stream",
     "text": [
      "Training beyond specified 't_total'. Learning rate multiplier set to 0.0. Please set 't_total' of WarmupLinearSchedule correctly.\n"
     ]
    },
    {
     "name": "stdout",
     "output_type": "stream",
     "text": [
      "Percent: [>                             ] 3% || batch_time: 4.5000 || batch_loss: 0.0008 || avg_batch_loss: 0.0083 || batch_acc: 1.0000 || avg_batch_acc: 1.0000 "
     ]
    },
    {
     "name": "stderr",
     "output_type": "stream",
     "text": [
      "Training beyond specified 't_total'. Learning rate multiplier set to 0.0. Please set 't_total' of WarmupLinearSchedule correctly.\n"
     ]
    },
    {
     "name": "stdout",
     "output_type": "stream",
     "text": [
      "Percent: [>                             ] 4% || batch_time: 2.6866 || batch_loss: 0.0021 || avg_batch_loss: 0.0067 || batch_acc: 1.0000 || avg_batch_acc: 1.0000 "
     ]
    },
    {
     "name": "stderr",
     "output_type": "stream",
     "text": [
      "Training beyond specified 't_total'. Learning rate multiplier set to 0.0. Please set 't_total' of WarmupLinearSchedule correctly.\n"
     ]
    },
    {
     "name": "stdout",
     "output_type": "stream",
     "text": [
      "Percent: [->                            ] 5% || batch_time: 3.8559 || batch_loss: 0.0003 || avg_batch_loss: 0.0057 || batch_acc: 1.0000 || avg_batch_acc: 1.0000 "
     ]
    },
    {
     "name": "stderr",
     "output_type": "stream",
     "text": [
      "Training beyond specified 't_total'. Learning rate multiplier set to 0.0. Please set 't_total' of WarmupLinearSchedule correctly.\n"
     ]
    },
    {
     "name": "stdout",
     "output_type": "stream",
     "text": [
      "Percent: [->                            ] 6% || batch_time: 3.5864 || batch_loss: 0.0003 || avg_batch_loss: 0.0050 || batch_acc: 1.0000 || avg_batch_acc: 1.0000 "
     ]
    },
    {
     "name": "stderr",
     "output_type": "stream",
     "text": [
      "Training beyond specified 't_total'. Learning rate multiplier set to 0.0. Please set 't_total' of WarmupLinearSchedule correctly.\n"
     ]
    },
    {
     "name": "stdout",
     "output_type": "stream",
     "text": [
      "Percent: [->                            ] 7% || batch_time: 4.1980 || batch_loss: 0.0073 || avg_batch_loss: 0.0047 || batch_acc: 1.0000 || avg_batch_acc: 1.0000 "
     ]
    },
    {
     "name": "stderr",
     "output_type": "stream",
     "text": [
      "Training beyond specified 't_total'. Learning rate multiplier set to 0.0. Please set 't_total' of WarmupLinearSchedule correctly.\n"
     ]
    },
    {
     "name": "stdout",
     "output_type": "stream",
     "text": [
      "Percent: [-->                           ] 8% || batch_time: 2.6735 || batch_loss: 0.0083 || avg_batch_loss: 0.0046 || batch_acc: 1.0000 || avg_batch_acc: 1.0000 "
     ]
    },
    {
     "name": "stderr",
     "output_type": "stream",
     "text": [
      "Training beyond specified 't_total'. Learning rate multiplier set to 0.0. Please set 't_total' of WarmupLinearSchedule correctly.\n"
     ]
    },
    {
     "name": "stdout",
     "output_type": "stream",
     "text": [
      "Percent: [-->                           ] 10% || batch_time: 3.2987 || batch_loss: 0.0015 || avg_batch_loss: 0.0044 || batch_acc: 1.0000 || avg_batch_acc: 1.0000 "
     ]
    },
    {
     "name": "stderr",
     "output_type": "stream",
     "text": [
      "Training beyond specified 't_total'. Learning rate multiplier set to 0.0. Please set 't_total' of WarmupLinearSchedule correctly.\n"
     ]
    },
    {
     "name": "stdout",
     "output_type": "stream",
     "text": [
      "Percent: [-->                           ] 11% || batch_time: 3.7477 || batch_loss: 0.0052 || avg_batch_loss: 0.0042 || batch_acc: 1.0000 || avg_batch_acc: 1.0000 "
     ]
    },
    {
     "name": "stderr",
     "output_type": "stream",
     "text": [
      "Training beyond specified 't_total'. Learning rate multiplier set to 0.0. Please set 't_total' of WarmupLinearSchedule correctly.\n"
     ]
    },
    {
     "name": "stdout",
     "output_type": "stream",
     "text": [
      "Percent: [--->                          ] 12% || batch_time: 3.5520 || batch_loss: 0.0012 || avg_batch_loss: 0.0045 || batch_acc: 1.0000 || avg_batch_acc: 1.0000 "
     ]
    },
    {
     "name": "stderr",
     "output_type": "stream",
     "text": [
      "Training beyond specified 't_total'. Learning rate multiplier set to 0.0. Please set 't_total' of WarmupLinearSchedule correctly.\n"
     ]
    },
    {
     "name": "stdout",
     "output_type": "stream",
     "text": [
      "Percent: [--->                          ] 13% || batch_time: 3.5983 || batch_loss: 0.0022 || avg_batch_loss: 0.0044 || batch_acc: 1.0000 || avg_batch_acc: 1.0000 "
     ]
    },
    {
     "name": "stderr",
     "output_type": "stream",
     "text": [
      "Training beyond specified 't_total'. Learning rate multiplier set to 0.0. Please set 't_total' of WarmupLinearSchedule correctly.\n"
     ]
    },
    {
     "name": "stdout",
     "output_type": "stream",
     "text": [
      "Percent: [--->                          ] 14% || batch_time: 2.2926 || batch_loss: 0.0102 || avg_batch_loss: 0.0043 || batch_acc: 1.0000 || avg_batch_acc: 1.0000 "
     ]
    },
    {
     "name": "stderr",
     "output_type": "stream",
     "text": [
      "Training beyond specified 't_total'. Learning rate multiplier set to 0.0. Please set 't_total' of WarmupLinearSchedule correctly.\n"
     ]
    },
    {
     "name": "stdout",
     "output_type": "stream",
     "text": [
      "Percent: [---->                         ] 15% || batch_time: 3.9968 || batch_loss: 0.0018 || avg_batch_loss: 0.0044 || batch_acc: 1.0000 || avg_batch_acc: 1.0000 "
     ]
    },
    {
     "name": "stderr",
     "output_type": "stream",
     "text": [
      "Training beyond specified 't_total'. Learning rate multiplier set to 0.0. Please set 't_total' of WarmupLinearSchedule correctly.\n"
     ]
    },
    {
     "name": "stdout",
     "output_type": "stream",
     "text": [
      "Percent: [---->                         ] 16% || batch_time: 3.7989 || batch_loss: 0.0020 || avg_batch_loss: 0.0044 || batch_acc: 1.0000 || avg_batch_acc: 1.0000 "
     ]
    },
    {
     "name": "stderr",
     "output_type": "stream",
     "text": [
      "Training beyond specified 't_total'. Learning rate multiplier set to 0.0. Please set 't_total' of WarmupLinearSchedule correctly.\n"
     ]
    },
    {
     "name": "stdout",
     "output_type": "stream",
     "text": [
      "Percent: [---->                         ] 17% || batch_time: 3.1157 || batch_loss: 0.0033 || avg_batch_loss: 0.0042 || batch_acc: 1.0000 || avg_batch_acc: 1.0000 "
     ]
    },
    {
     "name": "stderr",
     "output_type": "stream",
     "text": [
      "Training beyond specified 't_total'. Learning rate multiplier set to 0.0. Please set 't_total' of WarmupLinearSchedule correctly.\n"
     ]
    },
    {
     "name": "stdout",
     "output_type": "stream",
     "text": [
      "Percent: [---->                         ] 18% || batch_time: 4.1949 || batch_loss: 0.0023 || avg_batch_loss: 0.0042 || batch_acc: 1.0000 || avg_batch_acc: 1.0000 "
     ]
    },
    {
     "name": "stderr",
     "output_type": "stream",
     "text": [
      "Training beyond specified 't_total'. Learning rate multiplier set to 0.0. Please set 't_total' of WarmupLinearSchedule correctly.\n"
     ]
    },
    {
     "name": "stdout",
     "output_type": "stream",
     "text": [
      "Percent: [----->                        ] 19% || batch_time: 4.0574 || batch_loss: 0.0102 || avg_batch_loss: 0.0043 || batch_acc: 1.0000 || avg_batch_acc: 1.0000 "
     ]
    },
    {
     "name": "stderr",
     "output_type": "stream",
     "text": [
      "Training beyond specified 't_total'. Learning rate multiplier set to 0.0. Please set 't_total' of WarmupLinearSchedule correctly.\n"
     ]
    },
    {
     "name": "stdout",
     "output_type": "stream",
     "text": [
      "Percent: [----->                        ] 20% || batch_time: 3.3445 || batch_loss: 0.0032 || avg_batch_loss: 0.0043 || batch_acc: 1.0000 || avg_batch_acc: 1.0000 "
     ]
    },
    {
     "name": "stderr",
     "output_type": "stream",
     "text": [
      "Training beyond specified 't_total'. Learning rate multiplier set to 0.0. Please set 't_total' of WarmupLinearSchedule correctly.\n"
     ]
    },
    {
     "name": "stdout",
     "output_type": "stream",
     "text": [
      "Percent: [----->                        ] 22% || batch_time: 4.3300 || batch_loss: 0.0024 || avg_batch_loss: 0.0042 || batch_acc: 1.0000 || avg_batch_acc: 1.0000 "
     ]
    },
    {
     "name": "stderr",
     "output_type": "stream",
     "text": [
      "Training beyond specified 't_total'. Learning rate multiplier set to 0.0. Please set 't_total' of WarmupLinearSchedule correctly.\n"
     ]
    },
    {
     "name": "stdout",
     "output_type": "stream",
     "text": [
      "Percent: [------>                       ] 23% || batch_time: 5.2617 || batch_loss: 0.0005 || avg_batch_loss: 0.0041 || batch_acc: 1.0000 || avg_batch_acc: 1.0000 "
     ]
    },
    {
     "name": "stderr",
     "output_type": "stream",
     "text": [
      "Training beyond specified 't_total'. Learning rate multiplier set to 0.0. Please set 't_total' of WarmupLinearSchedule correctly.\n"
     ]
    },
    {
     "name": "stdout",
     "output_type": "stream",
     "text": [
      "Percent: [------>                       ] 24% || batch_time: 2.4075 || batch_loss: 0.0005 || avg_batch_loss: 0.0041 || batch_acc: 1.0000 || avg_batch_acc: 1.0000 "
     ]
    },
    {
     "name": "stderr",
     "output_type": "stream",
     "text": [
      "Training beyond specified 't_total'. Learning rate multiplier set to 0.0. Please set 't_total' of WarmupLinearSchedule correctly.\n"
     ]
    },
    {
     "name": "stdout",
     "output_type": "stream",
     "text": [
      "Percent: [------>                       ] 25% || batch_time: 3.1812 || batch_loss: 0.0009 || avg_batch_loss: 0.0040 || batch_acc: 1.0000 || avg_batch_acc: 1.0000 "
     ]
    },
    {
     "name": "stderr",
     "output_type": "stream",
     "text": [
      "Training beyond specified 't_total'. Learning rate multiplier set to 0.0. Please set 't_total' of WarmupLinearSchedule correctly.\n"
     ]
    },
    {
     "name": "stdout",
     "output_type": "stream",
     "text": [
      "Percent: [------->                      ] 26% || batch_time: 4.0028 || batch_loss: 0.0057 || avg_batch_loss: 0.0048 || batch_acc: 1.0000 || avg_batch_acc: 1.0000 "
     ]
    },
    {
     "name": "stderr",
     "output_type": "stream",
     "text": [
      "Training beyond specified 't_total'. Learning rate multiplier set to 0.0. Please set 't_total' of WarmupLinearSchedule correctly.\n"
     ]
    },
    {
     "name": "stdout",
     "output_type": "stream",
     "text": [
      "Percent: [------->                      ] 27% || batch_time: 2.8716 || batch_loss: 0.0045 || avg_batch_loss: 0.0049 || batch_acc: 1.0000 || avg_batch_acc: 1.0000 "
     ]
    },
    {
     "name": "stderr",
     "output_type": "stream",
     "text": [
      "Training beyond specified 't_total'. Learning rate multiplier set to 0.0. Please set 't_total' of WarmupLinearSchedule correctly.\n"
     ]
    },
    {
     "name": "stdout",
     "output_type": "stream",
     "text": [
      "Percent: [------->                      ] 28% || batch_time: 2.7476 || batch_loss: 0.0006 || avg_batch_loss: 0.0048 || batch_acc: 1.0000 || avg_batch_acc: 1.0000 "
     ]
    },
    {
     "name": "stderr",
     "output_type": "stream",
     "text": [
      "Training beyond specified 't_total'. Learning rate multiplier set to 0.0. Please set 't_total' of WarmupLinearSchedule correctly.\n"
     ]
    },
    {
     "name": "stdout",
     "output_type": "stream",
     "text": [
      "Percent: [-------->                     ] 29% || batch_time: 3.0897 || batch_loss: 0.0083 || avg_batch_loss: 0.0052 || batch_acc: 1.0000 || avg_batch_acc: 1.0000 "
     ]
    },
    {
     "name": "stderr",
     "output_type": "stream",
     "text": [
      "Training beyond specified 't_total'. Learning rate multiplier set to 0.0. Please set 't_total' of WarmupLinearSchedule correctly.\n"
     ]
    },
    {
     "name": "stdout",
     "output_type": "stream",
     "text": [
      "Percent: [-------->                     ] 30% || batch_time: 3.6668 || batch_loss: 0.0093 || avg_batch_loss: 0.0061 || batch_acc: 1.0000 || avg_batch_acc: 1.0000 "
     ]
    },
    {
     "name": "stderr",
     "output_type": "stream",
     "text": [
      "Training beyond specified 't_total'. Learning rate multiplier set to 0.0. Please set 't_total' of WarmupLinearSchedule correctly.\n"
     ]
    },
    {
     "name": "stdout",
     "output_type": "stream",
     "text": [
      "Percent: [-------->                     ] 31% || batch_time: 4.4170 || batch_loss: 0.0060 || avg_batch_loss: 0.0063 || batch_acc: 1.0000 || avg_batch_acc: 1.0000 "
     ]
    },
    {
     "name": "stderr",
     "output_type": "stream",
     "text": [
      "Training beyond specified 't_total'. Learning rate multiplier set to 0.0. Please set 't_total' of WarmupLinearSchedule correctly.\n"
     ]
    },
    {
     "name": "stdout",
     "output_type": "stream",
     "text": [
      "Percent: [--------->                    ] 33% || batch_time: 3.2407 || batch_loss: 0.0025 || avg_batch_loss: 0.0061 || batch_acc: 1.0000 || avg_batch_acc: 1.0000 "
     ]
    },
    {
     "name": "stderr",
     "output_type": "stream",
     "text": [
      "Training beyond specified 't_total'. Learning rate multiplier set to 0.0. Please set 't_total' of WarmupLinearSchedule correctly.\n"
     ]
    },
    {
     "name": "stdout",
     "output_type": "stream",
     "text": [
      "Percent: [--------->                    ] 34% || batch_time: 4.1244 || batch_loss: 0.0110 || avg_batch_loss: 0.0061 || batch_acc: 1.0000 || avg_batch_acc: 1.0000 "
     ]
    },
    {
     "name": "stderr",
     "output_type": "stream",
     "text": [
      "Training beyond specified 't_total'. Learning rate multiplier set to 0.0. Please set 't_total' of WarmupLinearSchedule correctly.\n"
     ]
    },
    {
     "name": "stdout",
     "output_type": "stream",
     "text": [
      "Percent: [--------->                    ] 35% || batch_time: 3.0647 || batch_loss: 0.0009 || avg_batch_loss: 0.0059 || batch_acc: 1.0000 || avg_batch_acc: 1.0000 "
     ]
    },
    {
     "name": "stderr",
     "output_type": "stream",
     "text": [
      "Training beyond specified 't_total'. Learning rate multiplier set to 0.0. Please set 't_total' of WarmupLinearSchedule correctly.\n"
     ]
    },
    {
     "name": "stdout",
     "output_type": "stream",
     "text": [
      "Percent: [---------->                   ] 36% || batch_time: 3.9106 || batch_loss: 0.0319 || avg_batch_loss: 0.0060 || batch_acc: 1.0000 || avg_batch_acc: 1.0000 "
     ]
    },
    {
     "name": "stderr",
     "output_type": "stream",
     "text": [
      "Training beyond specified 't_total'. Learning rate multiplier set to 0.0. Please set 't_total' of WarmupLinearSchedule correctly.\n"
     ]
    },
    {
     "name": "stdout",
     "output_type": "stream",
     "text": [
      "Percent: [---------->                   ] 37% || batch_time: 2.8879 || batch_loss: 0.0058 || avg_batch_loss: 0.0061 || batch_acc: 1.0000 || avg_batch_acc: 1.0000 "
     ]
    },
    {
     "name": "stderr",
     "output_type": "stream",
     "text": [
      "Training beyond specified 't_total'. Learning rate multiplier set to 0.0. Please set 't_total' of WarmupLinearSchedule correctly.\n"
     ]
    },
    {
     "name": "stdout",
     "output_type": "stream",
     "text": [
      "Percent: [---------->                   ] 38% || batch_time: 4.5518 || batch_loss: 0.0094 || avg_batch_loss: 0.0061 || batch_acc: 1.0000 || avg_batch_acc: 1.0000 "
     ]
    },
    {
     "name": "stderr",
     "output_type": "stream",
     "text": [
      "Training beyond specified 't_total'. Learning rate multiplier set to 0.0. Please set 't_total' of WarmupLinearSchedule correctly.\n"
     ]
    },
    {
     "name": "stdout",
     "output_type": "stream",
     "text": [
      "Percent: [----------->                  ] 39% || batch_time: 3.3087 || batch_loss: 0.0009 || avg_batch_loss: 0.0063 || batch_acc: 1.0000 || avg_batch_acc: 1.0000 "
     ]
    },
    {
     "name": "stderr",
     "output_type": "stream",
     "text": [
      "Training beyond specified 't_total'. Learning rate multiplier set to 0.0. Please set 't_total' of WarmupLinearSchedule correctly.\n"
     ]
    },
    {
     "name": "stdout",
     "output_type": "stream",
     "text": [
      "Percent: [----------->                  ] 40% || batch_time: 3.3528 || batch_loss: 0.0312 || avg_batch_loss: 0.0064 || batch_acc: 1.0000 || avg_batch_acc: 1.0000 "
     ]
    },
    {
     "name": "stderr",
     "output_type": "stream",
     "text": [
      "Training beyond specified 't_total'. Learning rate multiplier set to 0.0. Please set 't_total' of WarmupLinearSchedule correctly.\n"
     ]
    },
    {
     "name": "stdout",
     "output_type": "stream",
     "text": [
      "Percent: [----------->                  ] 41% || batch_time: 3.7638 || batch_loss: 0.0028 || avg_batch_loss: 0.0063 || batch_acc: 1.0000 || avg_batch_acc: 1.0000 "
     ]
    },
    {
     "name": "stderr",
     "output_type": "stream",
     "text": [
      "Training beyond specified 't_total'. Learning rate multiplier set to 0.0. Please set 't_total' of WarmupLinearSchedule correctly.\n"
     ]
    },
    {
     "name": "stdout",
     "output_type": "stream",
     "text": [
      "Percent: [------------>                 ] 42% || batch_time: 4.5980 || batch_loss: 0.0025 || avg_batch_loss: 0.0063 || batch_acc: 1.0000 || avg_batch_acc: 1.0000 "
     ]
    },
    {
     "name": "stderr",
     "output_type": "stream",
     "text": [
      "Training beyond specified 't_total'. Learning rate multiplier set to 0.0. Please set 't_total' of WarmupLinearSchedule correctly.\n"
     ]
    },
    {
     "name": "stdout",
     "output_type": "stream",
     "text": [
      "Percent: [------------>                 ] 43% || batch_time: 3.3107 || batch_loss: 0.0094 || avg_batch_loss: 0.0062 || batch_acc: 1.0000 || avg_batch_acc: 1.0000 "
     ]
    },
    {
     "name": "stderr",
     "output_type": "stream",
     "text": [
      "Training beyond specified 't_total'. Learning rate multiplier set to 0.0. Please set 't_total' of WarmupLinearSchedule correctly.\n"
     ]
    },
    {
     "name": "stdout",
     "output_type": "stream",
     "text": [
      "Percent: [------------>                 ] 45% || batch_time: 4.1769 || batch_loss: 0.0038 || avg_batch_loss: 0.0065 || batch_acc: 1.0000 || avg_batch_acc: 1.0000 "
     ]
    },
    {
     "name": "stderr",
     "output_type": "stream",
     "text": [
      "Training beyond specified 't_total'. Learning rate multiplier set to 0.0. Please set 't_total' of WarmupLinearSchedule correctly.\n"
     ]
    },
    {
     "name": "stdout",
     "output_type": "stream",
     "text": [
      "Percent: [------------->                ] 46% || batch_time: 4.2515 || batch_loss: 0.0320 || avg_batch_loss: 0.0067 || batch_acc: 1.0000 || avg_batch_acc: 1.0000 "
     ]
    },
    {
     "name": "stderr",
     "output_type": "stream",
     "text": [
      "Training beyond specified 't_total'. Learning rate multiplier set to 0.0. Please set 't_total' of WarmupLinearSchedule correctly.\n"
     ]
    },
    {
     "name": "stdout",
     "output_type": "stream",
     "text": [
      "Percent: [------------->                ] 47% || batch_time: 2.8646 || batch_loss: 0.0006 || avg_batch_loss: 0.0068 || batch_acc: 1.0000 || avg_batch_acc: 1.0000 "
     ]
    },
    {
     "name": "stderr",
     "output_type": "stream",
     "text": [
      "Training beyond specified 't_total'. Learning rate multiplier set to 0.0. Please set 't_total' of WarmupLinearSchedule correctly.\n"
     ]
    },
    {
     "name": "stdout",
     "output_type": "stream",
     "text": [
      "Percent: [------------->                ] 48% || batch_time: 3.4798 || batch_loss: 0.0501 || avg_batch_loss: 0.0070 || batch_acc: 1.0000 || avg_batch_acc: 1.0000 "
     ]
    },
    {
     "name": "stderr",
     "output_type": "stream",
     "text": [
      "Training beyond specified 't_total'. Learning rate multiplier set to 0.0. Please set 't_total' of WarmupLinearSchedule correctly.\n"
     ]
    },
    {
     "name": "stdout",
     "output_type": "stream",
     "text": [
      "Percent: [-------------->               ] 49% || batch_time: 4.0573 || batch_loss: 0.0035 || avg_batch_loss: 0.0070 || batch_acc: 1.0000 || avg_batch_acc: 1.0000 "
     ]
    },
    {
     "name": "stderr",
     "output_type": "stream",
     "text": [
      "Training beyond specified 't_total'. Learning rate multiplier set to 0.0. Please set 't_total' of WarmupLinearSchedule correctly.\n"
     ]
    },
    {
     "name": "stdout",
     "output_type": "stream",
     "text": [
      "Percent: [-------------->               ] 50% || batch_time: 2.8987 || batch_loss: 0.0005 || avg_batch_loss: 0.0068 || batch_acc: 1.0000 || avg_batch_acc: 1.0000 "
     ]
    },
    {
     "name": "stderr",
     "output_type": "stream",
     "text": [
      "Training beyond specified 't_total'. Learning rate multiplier set to 0.0. Please set 't_total' of WarmupLinearSchedule correctly.\n"
     ]
    },
    {
     "name": "stdout",
     "output_type": "stream",
     "text": [
      "Percent: [-------------->               ] 51% || batch_time: 3.3313 || batch_loss: 0.0036 || avg_batch_loss: 0.0067 || batch_acc: 1.0000 || avg_batch_acc: 1.0000 "
     ]
    },
    {
     "name": "stderr",
     "output_type": "stream",
     "text": [
      "Training beyond specified 't_total'. Learning rate multiplier set to 0.0. Please set 't_total' of WarmupLinearSchedule correctly.\n"
     ]
    },
    {
     "name": "stdout",
     "output_type": "stream",
     "text": [
      "Percent: [--------------->              ] 52% || batch_time: 2.9497 || batch_loss: 0.0040 || avg_batch_loss: 0.0066 || batch_acc: 1.0000 || avg_batch_acc: 1.0000 "
     ]
    },
    {
     "name": "stderr",
     "output_type": "stream",
     "text": [
      "Training beyond specified 't_total'. Learning rate multiplier set to 0.0. Please set 't_total' of WarmupLinearSchedule correctly.\n"
     ]
    },
    {
     "name": "stdout",
     "output_type": "stream",
     "text": [
      "Percent: [--------------->              ] 53% || batch_time: 3.7742 || batch_loss: 0.0046 || avg_batch_loss: 0.0065 || batch_acc: 1.0000 || avg_batch_acc: 1.0000 "
     ]
    },
    {
     "name": "stderr",
     "output_type": "stream",
     "text": [
      "Training beyond specified 't_total'. Learning rate multiplier set to 0.0. Please set 't_total' of WarmupLinearSchedule correctly.\n"
     ]
    },
    {
     "name": "stdout",
     "output_type": "stream",
     "text": [
      "Percent: [--------------->              ] 54% || batch_time: 4.0149 || batch_loss: 0.0009 || avg_batch_loss: 0.0065 || batch_acc: 1.0000 || avg_batch_acc: 1.0000 "
     ]
    },
    {
     "name": "stderr",
     "output_type": "stream",
     "text": [
      "Training beyond specified 't_total'. Learning rate multiplier set to 0.0. Please set 't_total' of WarmupLinearSchedule correctly.\n"
     ]
    },
    {
     "name": "stdout",
     "output_type": "stream",
     "text": [
      "Percent: [---------------->             ] 55% || batch_time: 4.0781 || batch_loss: 0.0009 || avg_batch_loss: 0.0067 || batch_acc: 1.0000 || avg_batch_acc: 1.0000 "
     ]
    },
    {
     "name": "stderr",
     "output_type": "stream",
     "text": [
      "Training beyond specified 't_total'. Learning rate multiplier set to 0.0. Please set 't_total' of WarmupLinearSchedule correctly.\n"
     ]
    },
    {
     "name": "stdout",
     "output_type": "stream",
     "text": [
      "Percent: [---------------->             ] 57% || batch_time: 3.0198 || batch_loss: 0.0031 || avg_batch_loss: 0.0066 || batch_acc: 1.0000 || avg_batch_acc: 1.0000 "
     ]
    },
    {
     "name": "stderr",
     "output_type": "stream",
     "text": [
      "Training beyond specified 't_total'. Learning rate multiplier set to 0.0. Please set 't_total' of WarmupLinearSchedule correctly.\n"
     ]
    },
    {
     "name": "stdout",
     "output_type": "stream",
     "text": [
      "Percent: [---------------->             ] 58% || batch_time: 3.9797 || batch_loss: 0.0012 || avg_batch_loss: 0.0065 || batch_acc: 1.0000 || avg_batch_acc: 1.0000 "
     ]
    },
    {
     "name": "stderr",
     "output_type": "stream",
     "text": [
      "Training beyond specified 't_total'. Learning rate multiplier set to 0.0. Please set 't_total' of WarmupLinearSchedule correctly.\n"
     ]
    },
    {
     "name": "stdout",
     "output_type": "stream",
     "text": [
      "Percent: [----------------->            ] 59% || batch_time: 3.2879 || batch_loss: 0.0158 || avg_batch_loss: 0.0065 || batch_acc: 1.0000 || avg_batch_acc: 1.0000 "
     ]
    },
    {
     "name": "stderr",
     "output_type": "stream",
     "text": [
      "Training beyond specified 't_total'. Learning rate multiplier set to 0.0. Please set 't_total' of WarmupLinearSchedule correctly.\n"
     ]
    },
    {
     "name": "stdout",
     "output_type": "stream",
     "text": [
      "Percent: [----------------->            ] 60% || batch_time: 3.6559 || batch_loss: 0.0055 || avg_batch_loss: 0.0066 || batch_acc: 1.0000 || avg_batch_acc: 1.0000 "
     ]
    },
    {
     "name": "stderr",
     "output_type": "stream",
     "text": [
      "Training beyond specified 't_total'. Learning rate multiplier set to 0.0. Please set 't_total' of WarmupLinearSchedule correctly.\n"
     ]
    },
    {
     "name": "stdout",
     "output_type": "stream",
     "text": [
      "Percent: [----------------->            ] 61% || batch_time: 4.4521 || batch_loss: 0.0041 || avg_batch_loss: 0.0065 || batch_acc: 1.0000 || avg_batch_acc: 1.0000 "
     ]
    },
    {
     "name": "stderr",
     "output_type": "stream",
     "text": [
      "Training beyond specified 't_total'. Learning rate multiplier set to 0.0. Please set 't_total' of WarmupLinearSchedule correctly.\n"
     ]
    },
    {
     "name": "stdout",
     "output_type": "stream",
     "text": [
      "Percent: [------------------>           ] 62% || batch_time: 2.9078 || batch_loss: 0.0024 || avg_batch_loss: 0.0067 || batch_acc: 1.0000 || avg_batch_acc: 1.0000 "
     ]
    },
    {
     "name": "stderr",
     "output_type": "stream",
     "text": [
      "Training beyond specified 't_total'. Learning rate multiplier set to 0.0. Please set 't_total' of WarmupLinearSchedule correctly.\n"
     ]
    },
    {
     "name": "stdout",
     "output_type": "stream",
     "text": [
      "Percent: [------------------>           ] 63% || batch_time: 3.3982 || batch_loss: 0.0029 || avg_batch_loss: 0.0066 || batch_acc: 1.0000 || avg_batch_acc: 1.0000 "
     ]
    },
    {
     "name": "stderr",
     "output_type": "stream",
     "text": [
      "Training beyond specified 't_total'. Learning rate multiplier set to 0.0. Please set 't_total' of WarmupLinearSchedule correctly.\n"
     ]
    },
    {
     "name": "stdout",
     "output_type": "stream",
     "text": [
      "Percent: [------------------>           ] 64% || batch_time: 3.1650 || batch_loss: 0.0009 || avg_batch_loss: 0.0065 || batch_acc: 1.0000 || avg_batch_acc: 1.0000 "
     ]
    },
    {
     "name": "stderr",
     "output_type": "stream",
     "text": [
      "Training beyond specified 't_total'. Learning rate multiplier set to 0.0. Please set 't_total' of WarmupLinearSchedule correctly.\n"
     ]
    },
    {
     "name": "stdout",
     "output_type": "stream",
     "text": [
      "Percent: [------------------->          ] 65% || batch_time: 4.1505 || batch_loss: 0.1416 || avg_batch_loss: 0.0071 || batch_acc: 1.0000 || avg_batch_acc: 1.0000 "
     ]
    },
    {
     "name": "stderr",
     "output_type": "stream",
     "text": [
      "Training beyond specified 't_total'. Learning rate multiplier set to 0.0. Please set 't_total' of WarmupLinearSchedule correctly.\n"
     ]
    },
    {
     "name": "stdout",
     "output_type": "stream",
     "text": [
      "Percent: [------------------->          ] 66% || batch_time: 4.1074 || batch_loss: 0.0006 || avg_batch_loss: 0.0071 || batch_acc: 1.0000 || avg_batch_acc: 1.0000 "
     ]
    },
    {
     "name": "stderr",
     "output_type": "stream",
     "text": [
      "Training beyond specified 't_total'. Learning rate multiplier set to 0.0. Please set 't_total' of WarmupLinearSchedule correctly.\n"
     ]
    },
    {
     "name": "stdout",
     "output_type": "stream",
     "text": [
      "Percent: [------------------->          ] 67% || batch_time: 3.8299 || batch_loss: 0.0027 || avg_batch_loss: 0.0070 || batch_acc: 1.0000 || avg_batch_acc: 1.0000 "
     ]
    },
    {
     "name": "stderr",
     "output_type": "stream",
     "text": [
      "Training beyond specified 't_total'. Learning rate multiplier set to 0.0. Please set 't_total' of WarmupLinearSchedule correctly.\n"
     ]
    },
    {
     "name": "stdout",
     "output_type": "stream",
     "text": [
      "Percent: [-------------------->         ] 69% || batch_time: 3.9074 || batch_loss: 0.0140 || avg_batch_loss: 0.0070 || batch_acc: 1.0000 || avg_batch_acc: 1.0000 "
     ]
    },
    {
     "name": "stderr",
     "output_type": "stream",
     "text": [
      "Training beyond specified 't_total'. Learning rate multiplier set to 0.0. Please set 't_total' of WarmupLinearSchedule correctly.\n"
     ]
    },
    {
     "name": "stdout",
     "output_type": "stream",
     "text": [
      "Percent: [-------------------->         ] 70% || batch_time: 4.3230 || batch_loss: 0.0023 || avg_batch_loss: 0.0069 || batch_acc: 1.0000 || avg_batch_acc: 1.0000 "
     ]
    },
    {
     "name": "stderr",
     "output_type": "stream",
     "text": [
      "Training beyond specified 't_total'. Learning rate multiplier set to 0.0. Please set 't_total' of WarmupLinearSchedule correctly.\n"
     ]
    },
    {
     "name": "stdout",
     "output_type": "stream",
     "text": [
      "Percent: [-------------------->         ] 71% || batch_time: 3.9829 || batch_loss: 0.0028 || avg_batch_loss: 0.0070 || batch_acc: 1.0000 || avg_batch_acc: 1.0000 "
     ]
    },
    {
     "name": "stderr",
     "output_type": "stream",
     "text": [
      "Training beyond specified 't_total'. Learning rate multiplier set to 0.0. Please set 't_total' of WarmupLinearSchedule correctly.\n"
     ]
    },
    {
     "name": "stdout",
     "output_type": "stream",
     "text": [
      "Percent: [--------------------->        ] 72% || batch_time: 3.3037 || batch_loss: 0.0006 || avg_batch_loss: 0.0070 || batch_acc: 1.0000 || avg_batch_acc: 1.0000 "
     ]
    },
    {
     "name": "stderr",
     "output_type": "stream",
     "text": [
      "Training beyond specified 't_total'. Learning rate multiplier set to 0.0. Please set 't_total' of WarmupLinearSchedule correctly.\n"
     ]
    },
    {
     "name": "stdout",
     "output_type": "stream",
     "text": [
      "Percent: [--------------------->        ] 73% || batch_time: 3.8769 || batch_loss: 0.0003 || avg_batch_loss: 0.0069 || batch_acc: 1.0000 || avg_batch_acc: 1.0000 "
     ]
    },
    {
     "name": "stderr",
     "output_type": "stream",
     "text": [
      "Training beyond specified 't_total'. Learning rate multiplier set to 0.0. Please set 't_total' of WarmupLinearSchedule correctly.\n"
     ]
    },
    {
     "name": "stdout",
     "output_type": "stream",
     "text": [
      "Percent: [--------------------->        ] 74% || batch_time: 3.4382 || batch_loss: 0.0004 || avg_batch_loss: 0.0069 || batch_acc: 1.0000 || avg_batch_acc: 1.0000 "
     ]
    },
    {
     "name": "stderr",
     "output_type": "stream",
     "text": [
      "Training beyond specified 't_total'. Learning rate multiplier set to 0.0. Please set 't_total' of WarmupLinearSchedule correctly.\n"
     ]
    },
    {
     "name": "stdout",
     "output_type": "stream",
     "text": [
      "Percent: [---------------------->       ] 75% || batch_time: 3.2508 || batch_loss: 0.0309 || avg_batch_loss: 0.0070 || batch_acc: 1.0000 || avg_batch_acc: 1.0000 "
     ]
    },
    {
     "name": "stderr",
     "output_type": "stream",
     "text": [
      "Training beyond specified 't_total'. Learning rate multiplier set to 0.0. Please set 't_total' of WarmupLinearSchedule correctly.\n"
     ]
    },
    {
     "name": "stdout",
     "output_type": "stream",
     "text": [
      "Percent: [---------------------->       ] 76% || batch_time: 4.1364 || batch_loss: 0.0011 || avg_batch_loss: 0.0069 || batch_acc: 1.0000 || avg_batch_acc: 1.0000 "
     ]
    },
    {
     "name": "stderr",
     "output_type": "stream",
     "text": [
      "Training beyond specified 't_total'. Learning rate multiplier set to 0.0. Please set 't_total' of WarmupLinearSchedule correctly.\n"
     ]
    },
    {
     "name": "stdout",
     "output_type": "stream",
     "text": [
      "Percent: [---------------------->       ] 77% || batch_time: 3.5897 || batch_loss: 0.0004 || avg_batch_loss: 0.0072 || batch_acc: 1.0000 || avg_batch_acc: 1.0000 "
     ]
    },
    {
     "name": "stderr",
     "output_type": "stream",
     "text": [
      "Training beyond specified 't_total'. Learning rate multiplier set to 0.0. Please set 't_total' of WarmupLinearSchedule correctly.\n"
     ]
    },
    {
     "name": "stdout",
     "output_type": "stream",
     "text": [
      "Percent: [----------------------->      ] 78% || batch_time: 3.8417 || batch_loss: 0.0003 || avg_batch_loss: 0.0071 || batch_acc: 1.0000 || avg_batch_acc: 1.0000 "
     ]
    },
    {
     "name": "stderr",
     "output_type": "stream",
     "text": [
      "Training beyond specified 't_total'. Learning rate multiplier set to 0.0. Please set 't_total' of WarmupLinearSchedule correctly.\n"
     ]
    },
    {
     "name": "stdout",
     "output_type": "stream",
     "text": [
      "Percent: [----------------------->      ] 80% || batch_time: 3.3348 || batch_loss: 0.0104 || avg_batch_loss: 0.0072 || batch_acc: 1.0000 || avg_batch_acc: 1.0000 "
     ]
    },
    {
     "name": "stderr",
     "output_type": "stream",
     "text": [
      "Training beyond specified 't_total'. Learning rate multiplier set to 0.0. Please set 't_total' of WarmupLinearSchedule correctly.\n"
     ]
    },
    {
     "name": "stdout",
     "output_type": "stream",
     "text": [
      "Percent: [----------------------->      ] 81% || batch_time: 3.5809 || batch_loss: 0.0065 || avg_batch_loss: 0.0071 || batch_acc: 1.0000 || avg_batch_acc: 1.0000 "
     ]
    },
    {
     "name": "stderr",
     "output_type": "stream",
     "text": [
      "Training beyond specified 't_total'. Learning rate multiplier set to 0.0. Please set 't_total' of WarmupLinearSchedule correctly.\n"
     ]
    },
    {
     "name": "stdout",
     "output_type": "stream",
     "text": [
      "Percent: [------------------------>     ] 82% || batch_time: 3.1507 || batch_loss: 0.0042 || avg_batch_loss: 0.0071 || batch_acc: 1.0000 || avg_batch_acc: 1.0000 "
     ]
    },
    {
     "name": "stderr",
     "output_type": "stream",
     "text": [
      "Training beyond specified 't_total'. Learning rate multiplier set to 0.0. Please set 't_total' of WarmupLinearSchedule correctly.\n"
     ]
    },
    {
     "name": "stdout",
     "output_type": "stream",
     "text": [
      "Percent: [------------------------>     ] 83% || batch_time: 3.7748 || batch_loss: 0.0045 || avg_batch_loss: 0.0072 || batch_acc: 1.0000 || avg_batch_acc: 1.0000 "
     ]
    },
    {
     "name": "stderr",
     "output_type": "stream",
     "text": [
      "Training beyond specified 't_total'. Learning rate multiplier set to 0.0. Please set 't_total' of WarmupLinearSchedule correctly.\n"
     ]
    },
    {
     "name": "stdout",
     "output_type": "stream",
     "text": [
      "Percent: [------------------------>     ] 84% || batch_time: 3.1967 || batch_loss: 0.0026 || avg_batch_loss: 0.0072 || batch_acc: 1.0000 || avg_batch_acc: 1.0000 "
     ]
    },
    {
     "name": "stderr",
     "output_type": "stream",
     "text": [
      "Training beyond specified 't_total'. Learning rate multiplier set to 0.0. Please set 't_total' of WarmupLinearSchedule correctly.\n"
     ]
    },
    {
     "name": "stdout",
     "output_type": "stream",
     "text": [
      "Percent: [------------------------>     ] 85% || batch_time: 2.3362 || batch_loss: 0.0024 || avg_batch_loss: 0.0071 || batch_acc: 1.0000 || avg_batch_acc: 1.0000 "
     ]
    },
    {
     "name": "stderr",
     "output_type": "stream",
     "text": [
      "Training beyond specified 't_total'. Learning rate multiplier set to 0.0. Please set 't_total' of WarmupLinearSchedule correctly.\n"
     ]
    },
    {
     "name": "stdout",
     "output_type": "stream",
     "text": [
      "Percent: [------------------------->    ] 86% || batch_time: 5.1466 || batch_loss: 0.0016 || avg_batch_loss: 0.0071 || batch_acc: 1.0000 || avg_batch_acc: 1.0000 "
     ]
    },
    {
     "name": "stderr",
     "output_type": "stream",
     "text": [
      "Training beyond specified 't_total'. Learning rate multiplier set to 0.0. Please set 't_total' of WarmupLinearSchedule correctly.\n"
     ]
    },
    {
     "name": "stdout",
     "output_type": "stream",
     "text": [
      "Percent: [------------------------->    ] 87% || batch_time: 3.1572 || batch_loss: 0.0014 || avg_batch_loss: 0.0070 || batch_acc: 1.0000 || avg_batch_acc: 1.0000 "
     ]
    },
    {
     "name": "stderr",
     "output_type": "stream",
     "text": [
      "Training beyond specified 't_total'. Learning rate multiplier set to 0.0. Please set 't_total' of WarmupLinearSchedule correctly.\n"
     ]
    },
    {
     "name": "stdout",
     "output_type": "stream",
     "text": [
      "Percent: [------------------------->    ] 88% || batch_time: 3.6597 || batch_loss: 0.0037 || avg_batch_loss: 0.0070 || batch_acc: 1.0000 || avg_batch_acc: 1.0000 "
     ]
    },
    {
     "name": "stderr",
     "output_type": "stream",
     "text": [
      "Training beyond specified 't_total'. Learning rate multiplier set to 0.0. Please set 't_total' of WarmupLinearSchedule correctly.\n"
     ]
    },
    {
     "name": "stdout",
     "output_type": "stream",
     "text": [
      "Percent: [-------------------------->   ] 89% || batch_time: 3.3758 || batch_loss: 0.0003 || avg_batch_loss: 0.0070 || batch_acc: 1.0000 || avg_batch_acc: 1.0000 "
     ]
    },
    {
     "name": "stderr",
     "output_type": "stream",
     "text": [
      "Training beyond specified 't_total'. Learning rate multiplier set to 0.0. Please set 't_total' of WarmupLinearSchedule correctly.\n"
     ]
    },
    {
     "name": "stdout",
     "output_type": "stream",
     "text": [
      "Percent: [-------------------------->   ] 90% || batch_time: 3.5408 || batch_loss: 0.0308 || avg_batch_loss: 0.0071 || batch_acc: 1.0000 || avg_batch_acc: 1.0000 "
     ]
    },
    {
     "name": "stderr",
     "output_type": "stream",
     "text": [
      "Training beyond specified 't_total'. Learning rate multiplier set to 0.0. Please set 't_total' of WarmupLinearSchedule correctly.\n"
     ]
    },
    {
     "name": "stdout",
     "output_type": "stream",
     "text": [
      "Percent: [-------------------------->   ] 92% || batch_time: 3.2297 || batch_loss: 0.0029 || avg_batch_loss: 0.0071 || batch_acc: 1.0000 || avg_batch_acc: 1.0000 "
     ]
    },
    {
     "name": "stderr",
     "output_type": "stream",
     "text": [
      "Training beyond specified 't_total'. Learning rate multiplier set to 0.0. Please set 't_total' of WarmupLinearSchedule correctly.\n"
     ]
    },
    {
     "name": "stdout",
     "output_type": "stream",
     "text": [
      "Percent: [--------------------------->  ] 93% || batch_time: 3.9320 || batch_loss: 0.0208 || avg_batch_loss: 0.0071 || batch_acc: 1.0000 || avg_batch_acc: 1.0000 "
     ]
    },
    {
     "name": "stderr",
     "output_type": "stream",
     "text": [
      "Training beyond specified 't_total'. Learning rate multiplier set to 0.0. Please set 't_total' of WarmupLinearSchedule correctly.\n"
     ]
    },
    {
     "name": "stdout",
     "output_type": "stream",
     "text": [
      "Percent: [--------------------------->  ] 94% || batch_time: 3.4041 || batch_loss: 0.0011 || avg_batch_loss: 0.0071 || batch_acc: 1.0000 || avg_batch_acc: 1.0000 "
     ]
    },
    {
     "name": "stderr",
     "output_type": "stream",
     "text": [
      "Training beyond specified 't_total'. Learning rate multiplier set to 0.0. Please set 't_total' of WarmupLinearSchedule correctly.\n"
     ]
    },
    {
     "name": "stdout",
     "output_type": "stream",
     "text": [
      "Percent: [--------------------------->  ] 95% || batch_time: 3.2597 || batch_loss: 0.0010 || avg_batch_loss: 0.0071 || batch_acc: 1.0000 || avg_batch_acc: 1.0000 "
     ]
    },
    {
     "name": "stderr",
     "output_type": "stream",
     "text": [
      "Training beyond specified 't_total'. Learning rate multiplier set to 0.0. Please set 't_total' of WarmupLinearSchedule correctly.\n"
     ]
    },
    {
     "name": "stdout",
     "output_type": "stream",
     "text": [
      "Percent: [----------------------------> ] 96% || batch_time: 5.0861 || batch_loss: 0.0007 || avg_batch_loss: 0.0070 || batch_acc: 1.0000 || avg_batch_acc: 1.0000 "
     ]
    },
    {
     "name": "stderr",
     "output_type": "stream",
     "text": [
      "Training beyond specified 't_total'. Learning rate multiplier set to 0.0. Please set 't_total' of WarmupLinearSchedule correctly.\n"
     ]
    },
    {
     "name": "stdout",
     "output_type": "stream",
     "text": [
      "Percent: [----------------------------> ] 97% || batch_time: 3.4748 || batch_loss: 0.0032 || avg_batch_loss: 0.0070 || batch_acc: 1.0000 || avg_batch_acc: 1.0000 "
     ]
    },
    {
     "name": "stderr",
     "output_type": "stream",
     "text": [
      "Training beyond specified 't_total'. Learning rate multiplier set to 0.0. Please set 't_total' of WarmupLinearSchedule correctly.\n"
     ]
    },
    {
     "name": "stdout",
     "output_type": "stream",
     "text": [
      "Percent: [----------------------------> ] 98% || batch_time: 3.1527 || batch_loss: 0.0188 || avg_batch_loss: 0.0070 || batch_acc: 1.0000 || avg_batch_acc: 1.0000 "
     ]
    },
    {
     "name": "stderr",
     "output_type": "stream",
     "text": [
      "Training beyond specified 't_total'. Learning rate multiplier set to 0.0. Please set 't_total' of WarmupLinearSchedule correctly.\n"
     ]
    },
    {
     "name": "stdout",
     "output_type": "stream",
     "text": [
      "Percent: [----------------------------->] 99% || batch_time: 3.3257 || batch_loss: 0.0018 || avg_batch_loss: 0.0070 || batch_acc: 1.0000 || avg_batch_acc: 1.0000 "
     ]
    },
    {
     "name": "stderr",
     "output_type": "stream",
     "text": [
      "Training beyond specified 't_total'. Learning rate multiplier set to 0.0. Please set 't_total' of WarmupLinearSchedule correctly.\n"
     ]
    },
    {
     "name": "stdout",
     "output_type": "stream",
     "text": [
      "Percent: [----------------------------->] 100% || batch_time: 2.7056 || batch_loss: 0.0008 || avg_batch_loss: 0.0069 || batch_acc: 1.0000 || avg_batch_acc: 1.0000 "
     ]
    },
    {
     "name": "stderr",
     "output_type": "stream",
     "text": [
      "Training beyond specified 't_total'. Learning rate multiplier set to 0.0. Please set 't_total' of WarmupLinearSchedule correctly.\n"
     ]
    },
    {
     "name": "stdout",
     "output_type": "stream",
     "text": [
      "Percent: [----------------------------->] 100% || batch_time: 2.6521 || batch_loss: 0.0002 || avg_batch_loss: 0.0069 || batch_acc: 1.0000 || avg_batch_acc: 1.0000 \n",
      "Epoch 2 train_loss: 0.006928394167203567\n",
      "valid_data size: 1461\n",
      "Percent: [----------------------------->] 100% || batch_time: 1.6624 || batch_loss: 0.0353 || avg_batch_loss: 0.0971 || batch_acc: 0.9944 || avg_batch_acc: 0.9790 \n",
      "Epoch 2 valid_loss: 0.09710691681982059\n",
      "validation accuracy improved from 45.0326 to 45.0326\n",
      "Model saved at e:\\nlp\\nlp-env\\neuspell\\neuspell\\../data/checkpoints/subwordbert-probwordnoise\\new_models\\bert-base-cased-2\\pytorch_model.bin in epoch 2\n",
      "Model and logs saved at e:\\nlp\\nlp-env\\neuspell\\neuspell\\../data/checkpoints/subwordbert-probwordnoise\\new_models\\bert-base-cased-2\n"
     ]
    }
   ],
   "source": [
    "# create new BertChecker\n",
    "bert_checker_new = BertChecker()\n",
    "# load pretrained model\n",
    "bert_checker_new.from_pretrained()\n",
    "# fine-tune on training data\n",
    "bert_checker_new.finetune(clean_file=clean_file, corrupt_file=noisy_file, data_dir=train_data_path)"
   ]
  },
  {
   "attachments": {},
   "cell_type": "markdown",
   "metadata": {},
   "source": [
    "### Evaluate on testing set after fine-tuning"
   ]
  },
  {
   "cell_type": "code",
   "execution_count": 13,
   "metadata": {},
   "outputs": [
    {
     "name": "stdout",
     "output_type": "stream",
     "text": [
      "../dataset/test clean_en_lyrics.txt noisy_en_lyrics.txt\n"
     ]
    },
    {
     "name": "stderr",
     "output_type": "stream",
     "text": [
      "1046it [00:00, 522664.04it/s]\n",
      "1046it [00:00, 1046574.90it/s]\n"
     ]
    },
    {
     "name": "stdout",
     "output_type": "stream",
     "text": [
      "loaded tuples of (corr,incorr) examples from ../dataset/test\n",
      "###############################################\n",
      "data size: 1046\n"
     ]
    },
    {
     "name": "stderr",
     "output_type": "stream",
     "text": [
      "262it [01:01,  4.23it/s]"
     ]
    },
    {
     "name": "stdout",
     "output_type": "stream",
     "text": [
      "\n",
      "Epoch None valid_loss: 0.1617238586094562\n",
      "total inference time for this data is: 62.013959 secs\n",
      "###############################################\n",
      "\n",
      "\n",
      "total token count: 7477\n",
      "_corr2corr:5871, _corr2incorr:119, _incorr2corr:1351, _incorr2incorr:136\n",
      "accuracy is 0.9658954125986359\n",
      "word correction rate is 0.9085406859448554\n",
      "precision is 0.9801335559265443\n",
      "recall is 0.9773597469618778\n",
      "f1 score is 0.9787446861715429\n",
      "###############################################\n"
     ]
    },
    {
     "name": "stderr",
     "output_type": "stream",
     "text": [
      "\n"
     ]
    }
   ],
   "source": [
    "bert_checker_new.evaluate(clean_file=clean_file, corrupt_file=noisy_file, data_dir=test_data_path)"
   ]
  },
  {
   "attachments": {},
   "cell_type": "markdown",
   "metadata": {},
   "source": [
    "### Result analysis"
   ]
  },
  {
   "cell_type": "code",
   "execution_count": 14,
   "metadata": {},
   "outputs": [
    {
     "data": {
      "text/plain": [
       "['tell her that she beautiful every day i remind her',\n",
       " 'i get lost in her eyes like dust from the skies',\n",
       " \"did i say that out loud i ' m so crazy about mine\",\n",
       " \"but we don ' t have the same soul\",\n",
       " 'tell me that you love me baby say it again',\n",
       " \"repeat it over and over until it ' s in my brain\",\n",
       " \"you need to send your location i can ' t think\",\n",
       " 'did i say that out loud',\n",
       " \"i ' m so crazy about mine\",\n",
       " 'when i look back']"
      ]
     },
     "execution_count": 14,
     "metadata": {},
     "output_type": "execute_result"
    }
   ],
   "source": [
    "bert_correct_new = bert_checker_new.correct_strings(noisy_test)\n",
    "bert_correct_new[:10]"
   ]
  },
  {
   "cell_type": "code",
   "execution_count": 15,
   "metadata": {},
   "outputs": [
    {
     "name": "stdout",
     "output_type": "stream",
     "text": [
      "len data: 1046\n",
      "correct data after bert: 834\n"
     ]
    }
   ],
   "source": [
    "clean_test_prep = [i.replace(' ', '').strip().lower() for i in clean_test]\n",
    "bert_correct_new_prep = [i.replace(' ', '').strip().lower() for i in bert_correct_new]\n",
    "\n",
    "print('len data:', len(clean_test_prep))\n",
    "print('correct data after bert:', sum(a == b for a, b in zip(bert_correct_new_prep, clean_test_prep)))"
   ]
  },
  {
   "cell_type": "code",
   "execution_count": 16,
   "metadata": {},
   "outputs": [
    {
     "name": "stdout",
     "output_type": "stream",
     "text": [
      "tell her that she beautiful every day i remind her  |  tell her that she beautiful every day i remind her\n",
      "don't know what they mean they're special just for you  |  don ' t know what they mean there special just for you\n",
      "turn it up hot loving you is free  |  turn it up how loving you is free\n",
      "hey i could take a big bat  |  hey i could take a big beat\n",
      "i don't know why it is that i wanna stay  |  i dont know why it is that i wanna stay\n",
      "fuck you think is in more shit  |  fuck you think is in more sight\n",
      "don't even know what you're good for  |  don ' t even know what your good for\n",
      "i i i've never ever been this far away from home  |  i i i ' ve never ever given this far away from home\n",
      "yeah my feet came off the ground  |  yeah my feet chime off the ground\n",
      "i am you can won't tell no one about it  |  i am you can wont tell no one about it\n",
      "for and for shut up shut up  |  for and for sit up shut up\n",
      "he said show me what you got girl  |  he sraid show me what you got girl\n",
      "you're so fun  |  youre so fun\n",
      "and this kind of love's forever  |  and this kind of loves forever\n",
      "god knows i died  |  old knows i died\n",
      "god knows i tried  |  god knows i trimed\n",
      "light up my life  |  let up my life\n",
      "me and god we don't get along  |  me and good we don ' t get along\n",
      "so far away from the bed  |  so far away from the bird\n",
      "and i can't wait no more oh no  |  find i can ' t wait no more oh no\n",
      "oh girl come and shut the door go on shut it  |  oh girl come and let the door go on shut it\n",
      "every man gets his wish you told me this  |  every man gets his with you told me this\n",
      "out outta here alive  |  out outta her alive\n",
      "he said i wanna buy you  |  he said i wanna by you\n",
      "tell me now if you're trying to ride with me  |  tell me now if you ' re trying to rise with me\n",
      "i would show  |  i would snow\n",
      "take good care baby let me know  |  the good care baby let me know\n",
      "and i get off when i point the gun  |  and i get off when i put the gun\n",
      "flowers in my hair roses on the vine  |  flowers in my hair roses on the vote\n",
      "i'm wild as can be and i want  |  i ' m world as can be and i want\n",
      "you had me on the worse  |  you hated me on the worries\n",
      "sink me in the river at dawn  |  shook me in the river at dawn\n",
      "when we both know that you lie  |  when we both know that you like\n",
      "lie lie lie lie lie lie lie lie lie  |  lie lie lie like lie lie lie lie lie\n",
      "when you lie down right next to me  |  when you lay down right next to me\n",
      "get into your truck  |  get into your track\n",
      "'cause i've been going off and they don't know when it's stopping  |  ' cause it ' ve been going off and they don ' t know when it ' s stopping\n",
      "i know you special girl 'cause i know too many  |  i know you special girls ' cause i know too many\n",
      "so i'm living it all yes i'm living it all  |  so i ' m living it all ages i ' m living it all\n",
      "hear the cry of youth hear the cry of youth hear the cry of youth  |  how the cry of you hear the cry of youth hear the cry of youth\n",
      "i cant fall back  |  i cannot fall back\n",
      "now theyre starting to call  |  now there starting to call\n",
      "what about em why the basement  |  what about me why the basement\n",
      "and ive got an aching head  |  and i got an aching head\n",
      "im on my knees while im beggin  |  im on my knees while i begin\n",
      "your kisses taste the sweetest with mine  |  your kisses taste the sweetest worth mine\n",
      "hand in my hand because im yours i cant  |  hand in my hand because if yours i cant\n",
      "gon pop like trouble  |  on people like trouble\n",
      "bob the builder broke my heart  |  boy the builder broke my heart\n",
      "looking for a way that i can see your face  |  looking for a way that i can free your fade\n",
      "itd be so beautiful if that came true  |  it be so beautiful if that came true\n",
      "what im demanding is fucking up all the budgets  |  what if demanding is fucking up all the budgets\n",
      "im done cause you lied with my guys like nah  |  i done cause you lied with my guys like nah\n",
      "youre thinking about the aisle  |  your thinking about the aisle\n",
      "but im here right now right now  |  but it here right now right now\n",
      "argue lets talk  |  are lets talk\n",
      "we gon make you rock and you say yeah  |  we gonna make you rock and you say yeah\n",
      "but with you girl im losing control yo  |  but with you girl i loving control you\n",
      "im smart as fuck  |  i smart as fuck\n",
      "you be like oh my god  |  you be like oh my good\n",
      "suddenly im a fiend and youre all i need  |  suddenly if a field and your all i need\n",
      "im fightin hard  |  i figthin hard\n",
      "but id rather work on this with you  |  but i rather work on this with you\n",
      "youre my sunshine in the rain when its pouring  |  were my sunshine in the rain when its pouring\n",
      "blurring all the lines you intoxicate me  |  barring all the lines you intoxicate me\n",
      "i thought that i needed you in my life  |  i thought that i need you in my life\n",
      "cause im beggin  |  cause it begin\n",
      "im filled with flaws and attitude  |  i filled with flaws and attitude\n",
      "cause baby youre the boss at home  |  cause baby used the boys at home\n",
      "lets pop them bottles so big  |  let pop them battles so big\n",
      "i left my girl im in mallorca  |  i left my girl in in mallorca\n",
      "well i have called you darlin and ill say it again again  |  well i have called you darling and ill say it again again\n",
      "im a diy pioneer  |  if a duy pioneer\n",
      "and youre the first to say you want the best thing  |  and you the first to say you want the best thing\n",
      "wont you give yourself to me  |  want you give yourself to me\n",
      "they be talking like im the dumbest  |  they be talking like if the dumbest\n",
      "nothing you cant do  |  nothing you cannot do\n",
      "when were out of touch  |  we were out of touch\n",
      "ride or die she gon go  |  ride or die she can go\n",
      "now she just a groupie  |  now she just a group\n",
      "im just a con about to fade to black  |  im just a con about to file to back\n",
      "imma buy her no celine  |  imma buy her no ceilne\n",
      "makin you fall like that  |  making you fall like that\n",
      "cause with you girl im losing control oh  |  cause with you girl if losing control oh\n",
      "could holla at me  |  could hold at me\n",
      "plus she good at charming cobras  |  plus she good at charming cross\n",
      "im sittin pretty impatient but i know you gotta  |  i sitting pretty impatient but i know you gotta\n",
      "heres your perfect  |  hates your perfect\n",
      "oh youre the best part oh  |  oh your the best part oh\n",
      "i took my chick up to the north yeah badass bitch  |  i took my check up to the north yeah badass bitch\n",
      "yall aint fooling me at all  |  all paint fooling me at all\n",
      "and its not that youre asking me for nothing  |  and its not that your asking me for nothing\n",
      "they dont look like ken at all  |  they not look like ken at all\n",
      "you done gave it away ya had it til you took it back  |  you done gave it awamy ya had it til you took it back\n",
      "yeah im makin you sweat like that  |  yeah i making you sweat like that\n",
      "girl you was down and you told me you roll like my rollie  |  girl you was down and you told me you fell like my rollie\n",
      "so i give her the car keys  |  so i give her the car kids\n",
      "so if you need perfect im not built for you one two three  |  so if you need perfect if not built for you one two three\n",
      "passes my way: rihanna or beyonce  |  passes my way : rihvanna or beynoce\n",
      "now you gon tell me you done with my time  |  now you gonna tell me you done with my time\n",
      "i got my peaches out in georgia oh yeah shit  |  i got my patches out in georgia oh yeah shit\n",
      "but my dreads too thick and thats alright  |  but my dreams too thick and thats alright\n",
      "you aint sure yet  |  you paint sure yet\n",
      "youre the best part oh  |  your the best part oh\n",
      "cause youre my iron man  |  cause your my iron man\n",
      "hot like summer aint no bummer  |  hurt like summer ain no bummer\n",
      "now im seeing red not thinking straight  |  now i seeing red not thinking straight\n",
      "but i still cant forget if i wanted to  |  but i still cannot forget if i wanted to\n",
      "just one hit of you i knew ill never ever ever be the same  |  just one hit of you i knew will never ever ever be the same\n",
      "youre the coffee that i need in the morning  |  your the coffee that i need in the morning\n",
      "just one hit of you i knew ill never be the same  |  just one hit of you i know will never be the same\n",
      "drink my troubles away one more glass of champagne  |  drunk my troubles away one more glass of champagne\n",
      "know that i got that heat  |  know that i got that heart\n",
      "youre to blame  |  your to blame\n",
      "lets go  |  let go\n",
      "lets go get it oh oh  |  lets go get it on oh\n",
      "i cant even talk still stuttering  |  i cast even talk still stuttering\n",
      "so dont stress dont stress dont cry dont cry  |  so dont stress dont stress dont cry down cry\n",
      "well i will call you darlin and everything will be okay  |  well i will call you darling and everything will be okay\n",
      "but i keep walkin on  |  but i keep walking on\n",
      "done bein distracted  |  done being distracted\n",
      "what we doin what we chasin  |  what we join what we chasin\n",
      "i get my light right from the source yeah yeah thats it  |  i got my light right from the source yeah yeah thats it\n",
      "look at me now im falling  |  look at me now i falling\n",
      "baby take a chance  |  baby tale a chance\n",
      "it aint nothing personal  |  it ain nothing personal\n",
      "pop pop would be turning in his grave  |  pop pop would be turning in hissy grave\n",
      "so put your loving hand out darlin  |  so put your loving hand out darzlin\n",
      "im holdin on  |  i holding on\n",
      "so now i cant stop thinking about you  |  so now i cannot stop thinking about you\n",
      "breakin into your heart like that  |  break into your heart like that\n",
      "if our love was a fairy tale  |  if our love was a fary tale\n",
      "youre in my blood youre in my veins youre in my head im sayin  |  you in my blood used in my veinas here in my head i saying\n",
      "taking all the shots like kobe  |  taking all the shoes like kobe\n",
      "and baby youre my winner  |  and baby were my winner\n",
      "oh she the bae im her boo  |  oh she the babe in her boo\n",
      "its business and im a commodity  |  its business and if a commodity\n",
      "but the grass aint always greener on the other side  |  but the glass isnt always greener on the other side\n",
      "girl im beggin  |  girl i begin\n",
      "ask me whats my best side i stand back and point at you  |  ask me thats my best side i stand back and point at you\n",
      "dollars lot of stock in me  |  dollars lots of stock in me\n",
      "yippee kiyay ah yeah  |  triple kiyay ah yeah\n",
      "but im for ya  |  but i for ya\n",
      "in your hulk outerwear  |  in your hulk outerwar\n",
      "said that im just nuts and bolts  |  said that it just nuts and boys\n",
      "keep browsin halls  |  keep brown halls\n",
      "and ill hurt you and youll hurt me and well say things we cant repeat  |  and ill hurt you and you hurt me and well say things we cannot repeat\n",
      "im running out of time  |  i running out of time\n",
      "nothin but sheets in between us aint no getting off early  |  nothing but sheets in between us ain no getting off early\n",
      "bout to set it off  |  about to set it off\n",
      "i aint wearin na nada  |  i dont wearin an nada\n",
      "lets make it global so big  |  lets make it good so big\n",
      "he said one day youll leave this world behind  |  he said one day you leave this world behind\n",
      "i just wanna see how beautiful you are  |  i just wanna see how beautiful you ate\n",
      "you gave me your love im addicted like drugs  |  you gave me your love if addicted like drugs\n",
      "a couple of things i cant spell without u  |  a couple of things i cannot spell without u\n",
      "cool shade stunner  |  cool some students\n",
      "i aint worried bout nothin  |  i ain worried bout nothing\n",
      "theres nothing like your touch  |  therets nothing like your touch\n",
      "dont think you wanna know just where ive been oh  |  dont think you wanna know just where ice blame oh\n",
      "is that you just dont realize how much i love you  |  is that you just doubt realize how much i love you\n",
      "im the first to say that im not perfect  |  if the first to say that if not perfect\n",
      "yeah i owe it all to my mother  |  yeah i owed it all to my mother\n",
      "girl youre so perfect i think that its working  |  girl were so perfect i think that its working\n",
      "ill be your platinum ill be your silver ill be your gold  |  ill be your platinum will be your silver will be your gold\n",
      "im beggin beggin you  |  i begin beggin you\n",
      "all of them times that you talked but you lied  |  all of them times that you talked but you loved\n",
      "i can size you up  |  i can seize you up\n",
      "i know youre always on the night shift  |  i know your always on the night shit\n",
      "likes to drink and smoke some doja  |  likes to drink and some some doja\n",
      "then she came through and topped me off  |  then she came through and stopped me off\n",
      "i cant pretend i cant ignore youre right for me  |  i cannot pretend i cannot ignore your right for me\n",
      "ill beat you there  |  ill but you there\n",
      "feeling all the highs feeling all the pain  |  feeling all the his feeling all the pain\n",
      "looking for their barbie  |  looking for their babrie\n",
      "she gotcha boy doing crazy things that i never thought id ever do no  |  she gotcha boy doing crazy things that i never thought i ever do no\n",
      "so if you need perfect im not built for you yeah  |  so if you need perfect if not built for you yeah\n",
      "used to tell me skys the limit now the skys our point of view view  |  used to tell me skis the limit now the skys our point of view view\n",
      "im so in my head  |  if so in my head\n",
      "i feel like i could die walking up to the room oh yeah  |  i feel like i could die waking up to the room oh yeah\n",
      "they tryna get involved  |  they then get involved\n",
      "yeah you used to ride like a taxi  |  yeah you used to rise like a txai\n",
      "aint no other  |  ain no other\n",
      "the shadow of my life  |  the show of my life\n",
      "whos pulling strings im just pointing out all the puppets  |  whose pulling strings is just pointing out all the puppets\n",
      "some just tryin to get by  |  some just trying to get by\n",
      "can you make it clap no hands for me  |  can you make it call no hands for me\n",
      "wont even stand the devils dance  |  want even stand the devil dance\n",
      "dont need no usher  |  dont need no usehr\n",
      "and im a sucker for the way that you move babe  |  and import a sucker for the way that you move babe\n",
      "im here right now right now  |  i here right now right now\n",
      "got the aura of the mafia  |  got the area of the mafia\n",
      "you could be my destinys child on the scene girl  |  you could be my detinys child on the scene girl\n",
      "sipping on your lips hanging on by a thread baby  |  sipping on your lips hanging on by a third baby\n",
      "when theres a boss in me  |  when there a boss in me\n",
      "but she aint the only one no  |  but she ain the only one no\n",
      "we gon make you bounce and you say yeah  |  we gonna make you bounce and you say yeah\n",
      "but i cant stand these nights alone  |  but i cannot stand these nights alone\n",
      "now we are on top of the world cause thats just how we do do it  |  now we are on top of the world cause that just how we do do it\n",
      "left her baggage for rimowa  |  left her baggage for rimlwa\n",
      "i dont know if this makes sense but youre my hallelujah  |  i dont know if this makes sense but your my hallelujah\n",
      "she be acting bougie  |  she be acting boguie\n",
      "but howd we get in this position  |  but how we get in this position\n",
      "everybodys tryna be a billionaire  |  everybody trna be a billionaire\n",
      "ive got your photograph  |  i got your photograph\n",
      "rollin up to party got the right vibe  |  rollin up to paty got the right vibe\n",
      "so if you need perfect im not built for you one two three ooh  |  so if you need perfect if not built for you one to three ooh\n",
      "give my last hello hope its worth it  |  give my last help hope its worth it\n",
      "i get my weed from california thats that shit  |  i get my weed from california that that shit\n",
      "ice on my wrist im the nice guy  |  ice on my wrist if the nice guy\n",
      "all the playas get movin when the bass low  |  all the players get mind when the basis low\n",
      "got a chick i call her catia  |  got a chick i can her catia\n"
     ]
    }
   ],
   "source": [
    "for i in range(len(clean_test_prep)):\n",
    "    if clean_test_prep[i] != bert_correct_new_prep[i]:\n",
    "        print(clean_test[i], ' | ', bert_correct_new[i])"
   ]
  },
  {
   "attachments": {},
   "cell_type": "markdown",
   "metadata": {},
   "source": [
    "## SC-LSTM plus ELMO (at input)"
   ]
  },
  {
   "attachments": {},
   "cell_type": "markdown",
   "metadata": {},
   "source": [
    "### Load pretrained model"
   ]
  },
  {
   "cell_type": "code",
   "execution_count": 7,
   "metadata": {},
   "outputs": [
    {
     "name": "stdout",
     "output_type": "stream",
     "text": [
      "loading vocab from path:e:\\nlp\\nlp-env\\neuspell\\neuspell\\../data/checkpoints/elmoscrnn-probwordnoise\\vocab.pkl\n",
      "initializing model\n",
      "Number of parameters in the model: 209906438\n",
      "Loading model params from checkpoint dir: e:\\nlp\\nlp-env\\neuspell\\neuspell\\../data/checkpoints/elmoscrnn-probwordnoise\n",
      "new model loaded: <class 'neuspell.corrector_elmosclstm.ElmosclstmChecker'>\n",
      "loading vocab from path:e:\\nlp\\nlp-env\\neuspell\\neuspell\\../data/checkpoints/elmoscrnn-probwordnoise\\vocab.pkl\n",
      "initializing model\n",
      "Number of parameters in the model: 209906438\n",
      "Loading model params from checkpoint dir: e:\\nlp\\nlp-env\\neuspell\\neuspell\\../data/checkpoints/elmoscrnn-probwordnoise\n"
     ]
    }
   ],
   "source": [
    "# create SclstmChecker\n",
    "elmo_checker = SclstmChecker()\n",
    "# add ELMO at input\n",
    "elmo_checker = elmo_checker.add_(\"elmo\", at=\"input\")  # \"elmo\" or \"bert\", \"input\" or \"output\"\n",
    "# load pretrained model\n",
    "elmo_checker.from_pretrained()"
   ]
  },
  {
   "attachments": {},
   "cell_type": "markdown",
   "metadata": {},
   "source": [
    "### Evaluate pretrained model on testing set"
   ]
  },
  {
   "cell_type": "code",
   "execution_count": 8,
   "metadata": {},
   "outputs": [
    {
     "name": "stdout",
     "output_type": "stream",
     "text": [
      "../dataset/test clean_en_lyrics.txt noisy_en_lyrics.txt\n"
     ]
    },
    {
     "name": "stderr",
     "output_type": "stream",
     "text": [
      "1046it [00:00, 522913.23it/s]\n",
      "1046it [00:00, 1047574.49it/s]\n",
      "e:\\NLP\\nlp-env\\lib\\site-packages\\torch\\nn\\modules\\container.py:435: UserWarning: Setting attributes on ParameterList is not supported.\n",
      "  warnings.warn(\"Setting attributes on ParameterList is not supported.\")\n"
     ]
    },
    {
     "name": "stdout",
     "output_type": "stream",
     "text": [
      "loaded tuples of (corr,incorr) examples from ../dataset/test\n",
      "data size: 1046\n"
     ]
    },
    {
     "name": "stderr",
     "output_type": "stream",
     "text": [
      "262it [02:18,  1.89it/s]"
     ]
    },
    {
     "name": "stdout",
     "output_type": "stream",
     "text": [
      "\n",
      "Epoch None valid_loss: 0.8036500722212532\n",
      "total inference time for this data is: 138.547093 secs\n",
      "###############################################\n",
      "total token count: 7071\n",
      "corr2corr:5150, corr2incorr:428, incorr2corr:1221, incorr2incorr:272\n",
      "accuracy is 0.9010041012586621\n",
      "word correction rate is 0.8178164768921634\n",
      "precision is 0.9232699892434565\n",
      "recall is 0.949834009590557\n",
      "f1 score is 0.9363636363636364\n",
      "###############################################\n"
     ]
    },
    {
     "name": "stderr",
     "output_type": "stream",
     "text": [
      "\n"
     ]
    }
   ],
   "source": [
    "elmo_checker.evaluate(clean_file=clean_file, corrupt_file=noisy_file, data_dir=test_data_path)"
   ]
  },
  {
   "attachments": {},
   "cell_type": "markdown",
   "metadata": {},
   "source": [
    "### Example of wrong outputs"
   ]
  },
  {
   "cell_type": "code",
   "execution_count": 9,
   "metadata": {},
   "outputs": [
    {
     "name": "stdout",
     "output_type": "stream",
     "text": [
      "creating spacy models ...\n",
      "spacy models initialized\n"
     ]
    },
    {
     "data": {
      "text/plain": [
       "['tell her that the beautiful every day i remind her',\n",
       " 'I get lost in her eyes like dust from the skies',\n",
       " \"did I say that out loud I 'm so crazy about mine\",\n",
       " 'but we do not have the same soul',\n",
       " 'tell me that you love me baby say it again',\n",
       " \"repeat it over and over until it 's in my brain\",\n",
       " 'you need to send your location i can not think',\n",
       " 'did I say that out loud',\n",
       " \"I 'm so crazy about mine\",\n",
       " 'when I look back']"
      ]
     },
     "execution_count": 9,
     "metadata": {},
     "output_type": "execute_result"
    }
   ],
   "source": [
    "# correct noisy data\n",
    "elmo_correct = elmo_checker.correct_strings(noisy_test)\n",
    "elmo_correct[:10]"
   ]
  },
  {
   "cell_type": "code",
   "execution_count": 10,
   "metadata": {},
   "outputs": [
    {
     "name": "stdout",
     "output_type": "stream",
     "text": [
      "len data: 1046\n",
      "correct data after bert: 597\n"
     ]
    }
   ],
   "source": [
    "clean_test_prep = [i.replace(' ', '').strip().lower() for i in clean_test]\n",
    "elmo_correct_prep = [i.replace(' ', '').strip().lower() for i in elmo_correct]\n",
    "\n",
    "print('len data:', len(clean_test_prep))\n",
    "print('correct data after bert:', sum(a == b for a, b in zip(elmo_correct_prep, clean_test_prep)))"
   ]
  },
  {
   "cell_type": "code",
   "execution_count": 11,
   "metadata": {},
   "outputs": [
    {
     "name": "stdout",
     "output_type": "stream",
     "text": [
      "tell her that she beautiful every day i remind her  |  tell her that the beautiful every day i remind her\n",
      "but we don't have the same soul  |  but we do not have the same soul\n",
      "you need to send your location i can't think  |  you need to send your location i can not think\n",
      "and if i do will you be there with me father sister brother  |  and if I do will you be there with my father sister brother\n",
      "will the baby be alright  |  will the baby be brought\n",
      "you said that i might  |  you said that it might\n",
      "i guess i'll be fine  |  the guess will be fine\n",
      "your spirit can sit and watch tv by my side  |  your spirit can cut and watch to by my side\n",
      "don't you dare say  |  do not you dare say\n",
      "if you don't really care  |  if you dont really care\n",
      "but lately i can't see  |  but literally i cannot see\n",
      "can't you see it  |  can not you see it\n",
      "don't you see it  |  do not you see it\n",
      "baby if you care  |  many if your care\n",
      "baby don't you dare say  |  baby dont you dare say\n",
      "don't just say it  |  do not just say it\n",
      "baby if you care then don't you dare say  |  baby if you care then not you dare say\n",
      "yeah don't you dare say  |  yeah do not you dare say\n",
      "if don't really care see  |  he do not really care see\n",
      "don't know what they mean they're special just for you  |  do not know what they mean they are special just for you\n",
      "turn it up hot loving you is free  |  turn it up not loving you is free\n",
      "i like it down like it down way low  |  I like it does like it down way low\n",
      "you believe me don't you baby  |  you believe me do not you baby\n",
      "you never been with no one as nasty as me  |  you never been with no one as necessary as me\n",
      "i ain't afraid of a little pain  |  I am not afraid of a little pain\n",
      "hey i could take a big bat  |  hey i could take a big basket\n",
      "i could fuck him every day  |  I could flick him every day\n",
      "skirt off fuck in the backseat  |  skirt off back in the backseat\n",
      "take that shirt off baby put it on me  |  take that shirt off babies put it on me\n",
      "and she said i better get walking  |  and one said I better get walking\n",
      "i catch a dollar in the wind and i  |  I catch a dollar in the wind and it\n",
      "i don't know why it is that i wanna stay  |  I do not know why it is that I wanna stay\n",
      "i don't know what it is that  |  I do not know what it is that\n",
      "but i'm not gonna do what i hear me say oh  |  but i 'm not gone you do what i hear me say oh\n",
      "i'm just gonna walk i'm gonna walk away  |  I 'm just on you walk i 'm gone you walk away\n",
      "i'm not gonna do what i hear me say  |  i'xm not gonna do what i hear me say\n",
      "matter of fact it need interest  |  matters of fact it needs interest\n",
      "fuck you think is in more shit  |  fuck you think is in more sight\n",
      "you ain't no king  |  you am not no long\n",
      "you can't feel it and you're tired  |  you cannot feel it and you 're tired\n",
      "what i do i do best  |  what I do is do best\n",
      "don't even know what you're good for  |  not even know what you are good for\n",
      "to me but babe  |  to me but baby\n",
      "ahh ahh  |  ah ah\n",
      "'cause i wanna go to space  |  because I wanna go to space\n",
      "i i i've never ever been this far away from home  |  I I have never ever even this far away from home\n",
      "it gets dark yeah it gets dark  |  it gets dark year it gets dark\n",
      "no not this time  |  no fact this time\n",
      "i'm not who i used to be  |  I 'm not what I used to be\n",
      "'cause i came out here to see  |  because I came out here to see\n",
      "i'm leaving them  |  I 'm leading them\n",
      "i am you can won't tell no one about it  |  I am you can do not tell no one about it\n",
      "it's gonna be a ball it's gonna be a ball  |  it 's gone you be a ball its gonna be a baljl\n",
      "it's gonna be a ball  |  it 's gone you be a ball\n",
      "come on get drunk get drunk  |  come to get drunk get drunk\n",
      "'cause they were caught up in the dance  |  because they were caught up in the dance\n",
      "out of the black out of the black  |  out of the back out of the black\n",
      "like my part was i  |  like my part was on\n",
      "crying tears of gold  |  crying terms of gold\n",
      "i know you're sick boy  |  I know your sick boy\n",
      "you're so fun  |  you are so fun\n",
      "we're a match mad in heaven  |  we 're a match made in heaven\n",
      "if they don't think we're good together  |  if they dont think we 're good together\n",
      "and this kind of love's forever  |  and this kind of loves forever\n",
      "i would make you stay  |  I would make you stage\n",
      "so i don't have to say  |  so I do not have to say\n",
      "put on that hotel california  |  put on that hotel cslifornia\n",
      "i feel free when i see no one  |  I feel fear when I see no one\n",
      "god knows i died  |  old knows i died\n",
      "god knows i loved  |  good knows I loved\n",
      "and god knows i tried  |  and god knows and tried\n",
      "god knows i tried  |  god knows the trimmed\n",
      "ever since i found my fame  |  every since I found my fame\n",
      "me and god we don't get along  |  me and how we do not get along\n",
      "fuck yeah give it to me  |  fuck yesterday give it to me\n",
      "i don't really wanna know what's good for me  |  I dont really wanna know what 's good for me\n",
      "you tell me life isn't that hard  |  you tell me life is not that hard\n",
      "you said that you didn't mind  |  you said that you did mind\n",
      "'cause love's hard to find  |  ' case love 's hard to find\n",
      "looking back see  |  looking back soon\n",
      "you're broken and i'm pissed  |  your broken and i 'm pissed\n",
      "it can't be true  |  it can not be true\n",
      "you're in the club living it up  |  you in the club living it up\n",
      "i know what you're thinking of  |  I know what your thinking of\n",
      "it's like magic babe isn't life wonderful  |  it 's like magic babe infant life wonderful\n",
      "my babe my babe stay on my brain yeah  |  my baby my baby stay on my brain year\n",
      "you are my babe  |  you are my baby\n",
      "but she doesn't make a sound  |  but she does not make a sound\n",
      "so far away from the bed  |  so far away from the old\n",
      "ooh  |  approach\n",
      "i'll pick you up if you're in town on the corner  |  I 'll pick you up if you in town on the corner\n",
      "i can't wait no more no  |  I can not wait no more no\n",
      "isn't it funny that when you're truly in love  |  is not it funny that when you 're truly in love\n",
      "and i can't wait no more oh no  |  and i can not wait no more of no\n",
      "let's make love  |  lets make love\n",
      "but you got to understand  |  but you get to understand\n",
      "i can't even go for a ride  |  I cannot even go for a ride\n",
      "ever thought that they could do that for me  |  every thought that they could do that for me\n",
      "'cause baby you got me you got me open yes you do  |  ' case baby you got me you got me open yes you do\n",
      "i can't wait no more  |  I cannot wait no more\n",
      "don't you want to  |  dont you want to\n",
      "come on come on and shut the door girl  |  come to come on and shut the door girl\n",
      "you wanna watch me while i watch tv  |  you wanna watch me while i watch to\n",
      "every man gets his wish you told me this  |  every man gets this wish you told me this\n",
      "you said i'd never make it  |  you said should never make it\n",
      "we're gonna party like we're  |  we 're on no party like where\n",
      "i wish i could eat your cancer when you turn black  |  I wish i could eat your cancer when you turn back\n",
      "hey  |  they\n",
      "ah tell me what the ah ah ah  |  and tell me that the ah ah ah\n",
      "now i can't see you the same as i used to  |  now i can not see you the same as i used to\n",
      "all i know is that we can't fall back now  |  all i know is that we can not fall back now\n",
      "do too do too  |  do to do too\n",
      "i don't know just where i'm going  |  I dont know just where I 'm going\n",
      "and i guess that i just don't know  |  and I guess that I just dont know\n",
      "and you can't help me not you guys  |  and you can not help me all you guys\n",
      "and i guess i just don't know  |  and I guess it just not know\n",
      "oh and i guess that i just don't know  |  oh and i guess that i just do not know\n",
      "i really don't care anymore  |  I really dont care anymore\n",
      "then i really don't care anymore  |  then I really dont care anymore\n",
      "and thank god that i just don't care  |  and thank god that I just dont care\n",
      "my baby blue  |  my baby bike\n",
      "i would show  |  I would snow\n",
      "don't you know the times i've tried  |  do not you know the time I 've tried\n",
      "take good care baby let me know  |  time good care baby let me know\n",
      "i don't wanna do this anymore  |  I do not wanna do this anymore\n",
      "i know you don't understand  |  I know you do not understand\n",
      "but that don't make you a man  |  but that do not make you a man\n",
      "because you got out of hand  |  because you get out of hand\n",
      "don't need your money money  |  do not need your money money\n",
      "til they hit the floor  |  until they hit the floor\n",
      "he don't know our faces but  |  he does not know our faces but\n",
      "if you no go hit and run  |  if you do go hit and run\n",
      "if you no go break my heart  |  if you do go break my heart\n",
      "you me number one thing i sing about  |  you be number one thing I sing about\n",
      "didn't take a second to notice  |  did not take a second to notice\n",
      "'cause love can find a way to make your feet run heavy  |  because life can find a way to make your feet run heavy\n",
      "something to get the thought of you and i off my mind  |  something to get the thought of you and it off my mind\n",
      "so tell me honey oh when you're just a step away from falling apart  |  so tell me honey of when you just a step away from falling apart\n",
      "and when i get to thinking can't sleep at night  |  and when I get to thinking can not sleep at night\n",
      "no i don't feel right  |  no I do not feel right\n",
      "oh and you know i would if i could  |  oh and you know i would if it could\n",
      "if we can pick it up then just tell me where and when  |  if we can pick it up then just take me where and when\n",
      "if we can pick it up just tell me where and when  |  if we can pick it up just well me where and when\n",
      "say you want me too  |  say you want me to\n",
      "it's no wonder every man in town  |  its no wonder every man in town\n",
      "dreaming away your life  |  dressing away your life\n",
      "all of the guys tell me lies but you don't  |  all of the guys tell me lies but you do not\n",
      "the california sun and the movie stars  |  the California son and the movie extras\n",
      "hey 'cause i believe in you  |  heavy because i believe in you\n",
      "if i just believe it there's nothing to it hey  |  if I just believe it there 's nothing to it they\n",
      "i can fly i can fly i can fly  |  I can fly I can for the can fly\n",
      "everything you do everything i like  |  everything you do everything is like\n",
      "flowers in my hair roses on the vine  |  flowers in my hair rows on the fire\n",
      "my my apple of my eye  |  by my apple of my eye\n",
      "you're so high  |  everyone so high\n",
      "i'm yours and i'm free and i'm fun  |  I 'm yours and i 'm free and i 'm fine\n",
      "i'm wild as can be and i want  |  I 'm world as can be and I want\n",
      "caught you boy i caught you boy  |  caught your boy and caught you boy\n",
      "every way i move every way you like  |  every way I love every way you like\n",
      "i'm so high  |  time so high\n",
      "cause the way you put your hands on me  |  because the way you put your hands on me\n",
      "baby don't be scared come on honey smile  |  baby do not be scared come on honey smile\n",
      "i caught you boy i caught you boy  |  I thought you boy i caught you boy\n",
      "but i don't wanna go just yet  |  but it do not wanna go just yet\n",
      "'cause i'm not really over it  |  because I 'm not really over it\n",
      "i don't wanna go just yet  |  I do not wanna go just yet\n",
      "just five more minutes and i'll go  |  just five more minutes and will go\n",
      "ooh ooh  |  oh both\n",
      "ooh ooh ooh  |  oh on both\n",
      "i can't even front girl  |  I cannot even front girl\n",
      "i want you to death  |  I want you to date\n",
      "see 'cause i may be young but i know  |  sure because i may be young but I know\n",
      "i'm not about to walk away  |  am not about to walk away\n",
      "from this me and you moment don't you understand  |  from this me and you moment do not you understand\n",
      "you got me and bad way girl got me in a bad way girl  |  you got me and bad way girl got me in a bad way feel\n",
      "but i'm gonna play your game like it hey yeah  |  but I 'm gone you play your game like it they yeah\n",
      "you had me on the worse  |  you hated me on the course\n",
      "in a bad hey  |  in a bad hype\n",
      "in a bad yeah  |  in a bad year\n",
      "sink me in the river at dawn  |  shook me in the river at dawn\n",
      "oh and life ain't always what you think it ought to be no  |  oh and life are not always what you think it ought to be no\n",
      "i'm as green as the ring on my little cold finger  |  I 'm as grown as the ring on my little cold finger\n",
      "and don't say you're over me  |  and do not say you 're over me\n",
      "when we both know that you ain't  |  when we both know that you want\n",
      "don't say you're over me  |  dont say you 're over me\n",
      "when we both know that you lie  |  when we both know that you like\n",
      "lie lie lie lie lie lie lie lie lie  |  one one one like one one one one one\n",
      "when they all know that you ain't  |  when they all know that you am not\n",
      "lie you lie  |  like you lie\n",
      "this shit got me in my feelings  |  those she got me in my feelings\n",
      "say you'll never ever leave from beside me  |  say you 'll never ever leave form beside me\n",
      "look the new me is really still the real me  |  look the new me is really still the real of\n",
      "i swear you gotta feel me before they try and kill me  |  I swear you got to feel me before they try and kill me\n",
      "'cause i've been going off and they don't know when it's stopping  |  because have been going off and they dont know when its stopping\n",
      "now let me see you now let me see you  |  now let me see you now let me are you\n",
      "you don't know that i don't even care  |  you dont know that i do not even care\n",
      "with the pain and anger can't see a way out  |  with the pain and anger cannot see a way out\n",
      "people do you hear me just gimme the sign  |  people do you hear me just imagine the sign\n",
      "i want it all yeah  |  I want it all year\n",
      "i want it all hey  |  I want it all they\n",
      "i'm a man with a one track mind  |  am a man with a the track mind\n",
      "so i'm living it all yes i'm living it all  |  so am living it all eyes am living it all\n",
      "hear the cry of youth hear the cry of youth hear the cry of youth  |  how the cry of youth here the cry of youth hear the cry of youth\n",
      "i want it all yeah yeah yeah  |  I want it all year each year\n",
      "i cant fall back  |  I can not fall back\n",
      "so any time i bleed you let me go  |  so any time I need you let me go\n",
      "ill make it feel like a vacay turn the bed into an ocean  |  will make it feel like a vacancy turn the bed into an ocean\n",
      "what about em why the basement  |  what about him why the basement\n",
      "and she down to break the rules  |  and she known to break the rules\n",
      "and ive got an aching head  |  and I we got an aching head\n",
      "im on my knees while im beggin  |  I am on my knees while i m betgin\n",
      "hand in my hand because im yours i cant  |  hand in my hand because it my yours i can at\n",
      "gon pop like trouble  |  gpn poop like trouble\n",
      "looking for a way that i can see your face  |  looking for a way that I can see your fade\n",
      "so he can play prince charming  |  so he can play prints charming\n",
      "if thats the kind of girl he wants  |  if that 's the kind of girl he wants\n",
      "itd be so beautiful if that came true  |  it 'd be so beautiful if that came true\n",
      "just sitting in a cloud oh wow  |  just sitting in a cloud of wow\n",
      "what im demanding is fucking up all the budgets  |  what and be demanding is fucking up all the budgets\n",
      "im done cause you lied with my guys like nah  |  I am done because you loved with my guys like nah\n",
      "girl youre so different apart from the rest  |  girl you are so different apart from the rest\n",
      "youre thinking about the aisle  |  you are thinking about the aisle\n",
      "but im here right now right now  |  just and be here right now right now\n",
      "argue lets talk  |  agree lets talk\n",
      "im sending pic after picture imma get you fired  |  I am sending pic after picture imma get you fired\n",
      "we gon make you rock and you say yeah  |  we go make you rock and you say yeah\n",
      "cause i dont wanna live in a broken home  |  cause it do not want live in a broken home\n",
      "i wont judge she finesse  |  I do not judge shake finesse\n",
      "but with you girl im losing control yo  |  but with you girl and the losing control to\n",
      "im smart as fuck  |  I am smart as back\n",
      "you be like oh my god  |  you be like of my good\n",
      "suddenly im a fiend and youre all i need  |  suddenly i get a friend and you are all i need\n",
      "thats walking around with me  |  that 's walking around with me\n",
      "some things dont work  |  some things do not work\n",
      "im probably the only one yeah  |  I am probably the only one year\n",
      "cause with them girls before i wasnt feeling so gone  |  case with them girls before I was not feeling so gone\n",
      "let her ride in a foreign with me  |  let her ride in a foreigner with me\n",
      "high like the moon rock with me baby  |  high like the moon rock with the baby\n",
      "im fightin hard  |  I am fighting hard\n",
      "but id rather work on this with you  |  but I do rather work on this with you\n",
      "youre my sunshine in the rain when its pouring  |  you are my sunshine in the rain when its pouring\n",
      "blurring all the lines you intoxicate me  |  barring all the lines you intoxicate me\n",
      "i need to know your lips  |  I need to know your laps\n",
      "ill run my hands through your hair  |  all run my hands through your hair\n",
      "cause im beggin  |  cause the be begin\n",
      "im filled with flaws and attitude  |  I am filled with flaws and attitude\n",
      "cause baby youre the boss at home  |  cause baby you are the boss at home\n",
      "ill be damned  |  will be damned\n",
      "lets pop them bottles so big  |  lets pop them battles so big\n",
      "i left my girl im in mallorca  |  I left my girl and m in mallorca\n",
      "i dont care who  |  I do not care who\n",
      "well i have called you darlin and ill say it again again  |  well I have called you dsrlin and will say it again again\n",
      "im a diy pioneer  |  I am a duty pioneer\n",
      "and youre the first to say you want the best thing  |  and you the first to say you want the next thing\n",
      "wont you give yourself to me  |  do not you give yourself to me\n",
      "they be talking like im the dumbest  |  they be talking like i be the dumbest\n",
      "nothing you cant do  |  nothing you can not do\n",
      "man now we stepping out like whoa oh god  |  maybe now we stepping out like what oh god\n",
      "when were out of touch  |  we were out of touch\n",
      "ride or die she gon go  |  ride or die she go go\n",
      "ill be your soldier  |  will be your soldier\n",
      "this ground of mine keeps shaking  |  this ground of time keeps shaking\n",
      "now she just a groupie  |  now she just a group\n",
      "im just a con about to fade to black  |  I am just a con about to fade to black\n",
      "imma buy her no celine  |  imma buy her no client\n",
      "makin you fall like that  |  making you fall like that\n",
      "cause with you girl im losing control oh  |  cause with you girl and be losing control of\n",
      "you dont get to pick and choose  |  you do not get to pick and choose\n",
      "never let you go oh  |  never let you go on\n",
      "could holla at me  |  could hold at me\n",
      "and it drives me insane  |  and it drives me inside\n",
      "plus she good at charming cobras  |  plans she good at charming cboras\n",
      "im sittin pretty impatient but i know you gotta  |  I am sitting pretty impatient but I know you got to\n",
      "heres your perfect  |  gets your perfect\n",
      "i say my darling you are wonderful tonight  |  I says my darling you are wonderful tonight\n",
      "and i want you do you want me do you want me too  |  and I want you do you want me do you want me to\n",
      "oh youre the best part oh  |  oh you are the best part of\n",
      "told me i need fixing  |  told me I need fine\n",
      "i dont know how to act  |  I do not know how to act\n",
      "side step right left to my beat  |  side step right left to my brat\n",
      "yall aint fooling me at all  |  why all am not fooling me at all\n",
      "and its not that youre asking me for nothing  |  and its not that you are asking me for nothing\n",
      "they dont look like ken at all  |  they dont look like keen at all\n",
      "you done gave it away ya had it til you took it back  |  you dont gave it away you had it until you took it back\n",
      "put in them hours imma make it harder  |  point in the hours imma make it harder\n",
      "sneaking in la when the lights are low  |  sneaking in it when the lights are low\n",
      "hot like summer  |  hot live summer\n",
      "yeah im makin you sweat like that  |  yeah i m making you sweat like that\n",
      "fresh boy pull up and we lay low  |  fresh body pulled up and we lay low\n",
      "girl you was down and you told me you roll like my rollie  |  girl you was down and you told me you really like my rollie\n",
      "and you know we dont stop  |  and you know we do not stop\n",
      "so i give her the car keys  |  so I give her the car kids\n",
      "and ill be right here with you til the end of time  |  and will be right here with you till the end of time\n",
      "so if you need perfect im not built for you one two three  |  so if you need perfect i be not built for you one two three\n",
      "we dont need nobody i just need your body  |  we do not need nobody and just need your body\n",
      "passes my way: rihanna or beyonce  |  passes my way : rihvanna or beynoce\n",
      "curvy like a cursive font  |  convey like a cursive font\n",
      "now you gon tell me you done with my time  |  now you can tell me you done with my time\n",
      "but my dreads too thick and thats alright  |  but my dreads too thick and that 's alright\n",
      "you dont mind spending  |  you do not mind spending\n",
      "you aint sure yet  |  you am not sure yet\n",
      "its way too soon i know this isnt love  |  its way too soon I know this is not live\n",
      "youre the best part oh  |  for the best part of\n",
      "girl i think you the plug you the one with the best  |  girl i think you take plug you the one with the best\n",
      "ill be your hova  |  will be your have\n",
      "she feel like the ocean  |  she feels like the ocean\n",
      "cause youre my iron man  |  cause your my iron man\n",
      "i played it hard and fast cause i had everything  |  I played it hard and fast because I had everything\n",
      "if this is real love then i didnt know before  |  if this is real love then I did not know before\n",
      "hot like summer aint no bummer  |  short like summer at it no bummer\n",
      "now im seeing red not thinking straight  |  now i am seeing red not thinking straight\n",
      "but i still cant forget if i wanted to  |  but I still can not forget if I wanted to\n",
      "just one hit of you i knew ill never ever ever be the same  |  just one it of you i knew will never ever ever be the same\n",
      "youre the coffee that i need in the morning  |  your the coffee that I knew in the morning\n",
      "just one hit of you i knew ill never be the same  |  just one hit of you and knew will never be the same\n",
      "youre to blame  |  you try to blame\n",
      "lets go get it oh oh  |  lets go get it on oh\n",
      "i cant even talk still stuttering  |  I have even talk still stuttering\n",
      "so dont stress dont stress dont cry dont cry  |  so do it strikes do not stress do it cry do it carry\n",
      "seven billion people in the world trying to fit in  |  seven billion people in the world trying to fight in\n",
      "well i will call you darlin and everything will be okay  |  well i will call you darling and everything will be okay\n",
      "but i keep walkin on  |  but I keep walking on\n",
      "was hangin over me  |  was hanging over me\n",
      "done bein distracted  |  done being distracted\n",
      "i pipe up she take that  |  I pipe up she takes that\n",
      "its you babe  |  its you baby\n",
      "what we doin what we chasin  |  what we know what we chasing\n",
      "just cant make it all alone  |  just can no make it all alone\n",
      "i get my light right from the source yeah yeah thats it  |  I got my left right from the source yeah yeah that 's it\n",
      "look at me now im falling  |  look at me now i be falling\n",
      "it aint nothing personal  |  it am not nothing personal\n",
      "so put your loving hand out darlin  |  so put your loving hand out darzlin\n",
      "ridin high when i was king  |  riding high when it was king\n",
      "cause all i wanna be yeah all i ever wanna be yeah yeah  |  cause all i wanna be yeah all i ever wanna be yet year\n",
      "im holdin on  |  I am holding on\n",
      "so now i cant stop thinking about you  |  so now i can not stop thinking about you\n",
      "breakin into your heart like that  |  breaking into your heart like that\n",
      "youre in my blood youre in my veins youre in my head im sayin  |  you in my blood you are in my veins figure in my head and the saying\n",
      "taking all the shots like kobe  |  talking all the shots like kobe\n",
      "why we got good shit dont embrace it  |  why we got good shit do not embrace it\n",
      "and baby youre my winner  |  and baby you are my winner\n",
      "oh she the bae im her boo  |  oh she then bad i get her boy\n",
      "its business and im a commodity  |  its business and i be a commodity\n",
      "but the grass aint always greener on the other side  |  but the gas are not always greener on the other side\n",
      "girl im beggin  |  girl and m begin\n",
      "ask me whats my best side i stand back and point at you  |  ask me wants my best side i stand back and point at you\n",
      "dollars lot of stock in me  |  dollars lots of stock in me\n",
      "yippee kiyay ah yeah  |  repeat daily and yeah\n",
      "but im for ya  |  but I am for you\n",
      "i got that superstar glow so ooh  |  I got that supetrstar glow so both\n",
      "in your hulk outerwear  |  in your hulk operator\n",
      "but easy come and easy go and it would end  |  but easy come and easy go and it will end\n",
      "i dont even care  |  I do not even care\n",
      "said that im just nuts and bolts  |  said that i be just nuts and both\n",
      "but i dont know  |  but I do not know\n",
      "keep browsin halls  |  keep browsing halls\n",
      "and ill hurt you and youll hurt me and well say things we cant repeat  |  and will hurt you and you will hurt me and well say things we can not repeat\n",
      "im running out of time  |  I am running out of time\n",
      "nothin but sheets in between us aint no getting off early  |  nothing but sheets in between us at it is getting off early\n",
      "bout to set it off  |  about to set it off\n",
      "i aint wearin na nada  |  I am not wearing no nada\n",
      "lets make it global so big  |  lets make it goal so big\n",
      "he said one day youll leave this world behind  |  he said one day you will leave this world behind\n",
      "im flawed by design and you loved to remind me  |  I am flawed by design and you loved to remind me\n",
      "ill melt your heart into two  |  all melt your heart into two\n",
      "you gave me your love im addicted like drugs  |  you gave me your love and my addicted like drugs\n",
      "you know that i wont stop until i make you mine  |  you know that I do not stop until I make you mine\n",
      "a couple of things i cant spell without u  |  a couple of things i can not spell without you\n",
      "cool shade stunner  |  cool side stunned\n",
      "you dont even know how very special you are  |  you do not even know how very special you are\n",
      "i aint worried bout nothin  |  I am not worried about nothing\n",
      "dont think you wanna know just where ive been oh  |  do not think you wanna know just where i be been on\n",
      "is that you just dont realize how much i love you  |  is that you just doubt realize how much i love you\n",
      "than to go ahead and start with someone new  |  than to go ahead and stay with someone new\n",
      "i feel like im chosen  |  I feel like i be chosen\n",
      "shes wondering what clothes to wear  |  she 's wondering what clothes to wear\n",
      "im the first to say that im not perfect  |  I am the first to say that i be not perfect\n",
      "all i wanna be yeah all i ever wanna be yeah yeah yeah yeah  |  all I wanna be yeah all the ever wanna be yeah yeah yeah yeah\n",
      "smooth like butter cool shade stunner  |  smooth like better cool shade stunner\n",
      "who wants my money ill tell you: who i dont fuck with  |  who wants my money will tell you : who i do not fuck with\n",
      "but i know what they want from me  |  but I know what they want form me\n",
      "never really gave enough  |  never really have enough\n",
      "girl youre so perfect i think that its working  |  girl you are so perfect I think that its working\n",
      "we both know its a cruel world  |  we both know its a central world\n",
      "ill be your platinum ill be your silver ill be your gold  |  will be your platinum will be your silver will be your gold\n",
      "dont forsake this life of yours  |  do not forsake this life of yours\n",
      "im beggin beggin you  |  I am begging begging you\n",
      "straight up i got ya  |  straight up i got you\n",
      "all of them times that you talked but you lied  |  all of them times that you talked but you loved\n",
      "some just rather say goodbye bye  |  some just rather say goodbye by\n",
      "i can size you up  |  I can squeeze you up\n",
      "i know youre always on the night shift  |  I know you are always on the night shift\n",
      "likes to drink and smoke some doja  |  likes to drink and some some doja\n",
      "we dont need no wings to fly  |  we do not need no wings to fly\n",
      "the one i need is right in my arms oh  |  the one the need is right in my arms of\n",
      "i cant pretend i cant ignore youre right for me  |  I can not pretend i can not ignore you are right for me\n",
      "ill beat you there  |  all beat you there\n",
      "keep rockin dawns  |  keep rocking dawns\n",
      "feeling all the highs feeling all the pain  |  feeling all the things feeling all the pain\n",
      "thinking bout a way to get you off my mind  |  thinking about a way to get you off my mind\n",
      "you you the one that i argue with i feel like i need a new girl to be bothered with  |  you do the one that I argue with i feel like I need a new girl to be bothered with\n",
      "looking for their barbie  |  looking for their babies\n",
      "but every time i look at you i just dont care  |  but every time I look at you I just do not care\n",
      "she gotcha boy doing crazy things that i never thought id ever do no  |  the gotcha boy doing crazy things that I never thought i d ever do no\n",
      "it doesnt mean a thing  |  it does not mean a thing\n",
      "so if you need perfect im not built for you yeah  |  so if you need perfect i be not built for you you\n",
      "used to tell me skys the limit now the skys our point of view view  |  used to tell me skis to limit now the skis our point of view view\n",
      "im so in my head  |  I am so in my head\n",
      "i feel like i could die walking up to the room oh yeah  |  I feel like I could file looking up to the room of yeah\n",
      "cause i know that i am yours and you are mine  |  cause I know that I am you and you are mine\n",
      "they tryna get involved  |  they think get involved\n",
      "aint no other  |  about no other\n",
      "hey yeah ratatata  |  he yeah ratatata\n",
      "whos pulling strings im just pointing out all the puppets  |  who 's pulling strings and be just pointing out all the puppets\n",
      "some just tryin to get by  |  some just trying to get by\n",
      "can you make it clap no hands for me  |  can you make it call no hands for me\n",
      "guess i gotta play the goalie  |  guess I got to play some goalie\n",
      "wont even stand the devils dance  |  do not even stand the devices dance\n",
      "dont need no usher  |  do not need no other\n",
      "and im a sucker for the way that you move babe  |  and I m a sucker for the way that you move babies\n",
      "im here right now right now  |  I am here right now right now\n",
      "got the aura of the mafia  |  get the aura of the mafia\n",
      "you could be my destinys child on the scene girl  |  you could be my identity child on the scene girl\n",
      "sipping on your lips hanging on by a thread baby  |  sipping on your lips hanging on by a charred baby\n",
      "when theres a boss in me  |  when there a boss in me\n",
      "but she aint the only one no  |  but she is not the only one no\n",
      "we gon make you bounce and you say yeah  |  we can make you bounce and you say yeah\n",
      "but i cant stand these nights alone  |  but I can not stand these nights alone\n",
      "give it all oh  |  gave it all on\n",
      "smile on your face  |  time on your face\n",
      "now we are on top of the world cause thats just how we do do it  |  now we are on top of the world because that just how we do do it\n",
      "living like theres only me  |  living like others only me\n",
      "left her baggage for rimowa  |  left her baggage for remains\n",
      "i dont know if this makes sense but youre my hallelujah  |  I do not know if this makes sense but you are my hallelujah\n",
      "so them other girls can go they dont make me feel so good  |  so then other girls can go they do not make me feel so good\n",
      "she be acting bougie  |  she be acting boguie\n",
      "and how was i supposed to know i miss you so  |  and how was it supposed to know it miss you so\n",
      "but howd we get in this position  |  but how we get in this position\n",
      "everybodys tryna be a billionaire  |  everybody there be a billionaire\n",
      "ive got your photograph  |  I we got your photograph\n",
      "cool i dropped out i dont really take test  |  cool and dropped out i dont really take test\n",
      "rollin up to party got the right vibe  |  rolling up to party got the right vibe\n",
      "so if you need perfect im not built for you one two three ooh  |  so if you need perfect i be not built for you one two three on\n",
      "give my last hello hope its worth it  |  give my last help hope its worth it\n",
      "i get my weed from california thats that shit  |  I get my weed from california that that site\n",
      "oh did i say too much  |  oh did i baby to much\n",
      "ice on my wrist im the nice guy  |  ice on my wrist and be the nice guy\n",
      "all the playas get movin when the bass low  |  all the plays get mlvin when the boats low\n",
      "got a chick i call her catia  |  got a chick and call here catia\n"
     ]
    }
   ],
   "source": [
    "for i in range(len(clean_test_prep)):\n",
    "    if clean_test_prep[i] != elmo_correct_prep[i]:\n",
    "        print(clean_test[i], ' | ', elmo_correct[i])"
   ]
  },
  {
   "attachments": {},
   "cell_type": "markdown",
   "metadata": {},
   "source": [
    "### Fine-tuning SclstmChecker"
   ]
  },
  {
   "cell_type": "code",
   "execution_count": 12,
   "metadata": {},
   "outputs": [
    {
     "name": "stdout",
     "output_type": "stream",
     "text": [
      "loading vocab from path:e:\\nlp\\nlp-env\\neuspell\\neuspell\\../data/checkpoints/elmoscrnn-probwordnoise\\vocab.pkl\n",
      "initializing model\n",
      "Number of parameters in the model: 209906438\n",
      "Loading model params from checkpoint dir: e:\\nlp\\nlp-env\\neuspell\\neuspell\\../data/checkpoints/elmoscrnn-probwordnoise\n",
      "new model loaded: <class 'neuspell.corrector_elmosclstm.ElmosclstmChecker'>\n",
      "loading vocab from path:e:\\nlp\\nlp-env\\neuspell\\neuspell\\../data/checkpoints/elmoscrnn-probwordnoise\\vocab.pkl\n",
      "initializing model\n",
      "Number of parameters in the model: 209906438\n",
      "Loading model params from checkpoint dir: e:\\nlp\\nlp-env\\neuspell\\neuspell\\../data/checkpoints/elmoscrnn-probwordnoise\n"
     ]
    },
    {
     "name": "stderr",
     "output_type": "stream",
     "text": [
      "7309it [00:00, 811868.85it/s]\n",
      "7309it [00:00, 1828145.26it/s]\n"
     ]
    },
    {
     "name": "stdout",
     "output_type": "stream",
     "text": [
      "loaded tuples of (corr,incorr) examples from ../dataset/train\n",
      "len of train and test data:  5848 1461\n",
      "CHECKPOINT_PATH: e:\\nlp\\nlp-env\\neuspell\\neuspell\\../data/checkpoints/elmoscrnn-probwordnoise\\new_models\\elmo-base-cased-1\n",
      "Training model params from scratch\n",
      "In epoch: 0\n",
      "train_data size: 5848\n",
      "Percent: [----------------------------->] 100% || batch_time: 1.8574 || batch_loss: 0.0289 || avg_batch_loss: 0.2516 || batch_acc: 0.8835 || avg_batch_acc: 0.8835 \n",
      "Epoch 0 train_loss: 0.25164507261268754\n",
      "valid_data size: 1461\n",
      "Percent: [----------------------------->] 100% || batch_time: 1.6337 || batch_loss: 0.0423 || avg_batch_loss: 0.0786 || batch_acc: 0.9800 || avg_batch_acc: 0.9773 \n",
      "Epoch 0 valid_loss: 0.07855986807819294\n",
      "Model saved at e:\\nlp\\nlp-env\\neuspell\\neuspell\\../data/checkpoints/elmoscrnn-probwordnoise\\new_models\\elmo-base-cased-1\\model.pth.tar in epoch 0\n",
      "In epoch: 1\n",
      "train_data size: 5848\n",
      "Percent: [----------------------------->] 100% || batch_time: 2.0445 || batch_loss: 0.0225 || avg_batch_loss: 0.0878 || batch_acc: 0.9735 || avg_batch_acc: 0.9735 \n",
      "Epoch 1 train_loss: 0.08781397055396861\n",
      "valid_data size: 1461\n",
      "Percent: [----------------------------->] 100% || batch_time: 1.5584 || batch_loss: 0.0348 || avg_batch_loss: 0.0618 || batch_acc: 0.9800 || avg_batch_acc: 0.9829 \n",
      "Epoch 1 valid_loss: 0.06182758749017249\n",
      "Model saved at e:\\nlp\\nlp-env\\neuspell\\neuspell\\../data/checkpoints/elmoscrnn-probwordnoise\\new_models\\elmo-base-cased-1\\model.pth.tar in epoch 1\n",
      "In epoch: 2\n",
      "train_data size: 5848\n",
      "Percent: [----------------------------->] 100% || batch_time: 1.5954 || batch_loss: 0.0165 || avg_batch_loss: 0.0503 || batch_acc: 0.9910 || avg_batch_acc: 0.9910 \n",
      "Epoch 2 train_loss: 0.05028126003218133\n",
      "valid_data size: 1461\n",
      "Percent: [----------------------------->] 100% || batch_time: 1.6591 || batch_loss: 0.0206 || avg_batch_loss: 0.0593 || batch_acc: 0.9933 || avg_batch_acc: 0.9839 \n",
      "Epoch 2 valid_loss: 0.059271735179683434\n",
      "Model saved at e:\\nlp\\nlp-env\\neuspell\\neuspell\\../data/checkpoints/elmoscrnn-probwordnoise\\new_models\\elmo-base-cased-1\\model.pth.tar in epoch 2\n",
      "Model and logs saved at e:\\nlp\\nlp-env\\neuspell\\neuspell\\../data/checkpoints/elmoscrnn-probwordnoise\\new_models\\elmo-base-cased-1\\model.pth.tar\n"
     ]
    }
   ],
   "source": [
    "# create AclstmChecker\n",
    "elmo_checker_new = SclstmChecker()\n",
    "# add elmo at input\n",
    "elmo_checker_new = elmo_checker_new.add_(\"elmo\", at=\"input\")  # \"elmo\" or \"bert\", \"input\" or \"output\"\n",
    "# load pretrained model\n",
    "elmo_checker_new.from_pretrained()\n",
    "# fine-tune on training data\n",
    "elmo_checker_new.finetune(clean_file=clean_file, corrupt_file=noisy_file, data_dir=train_data_path)"
   ]
  },
  {
   "attachments": {},
   "cell_type": "markdown",
   "metadata": {},
   "source": [
    "### Evaluate on testing set after fine-tuning"
   ]
  },
  {
   "cell_type": "code",
   "execution_count": 13,
   "metadata": {},
   "outputs": [
    {
     "name": "stdout",
     "output_type": "stream",
     "text": [
      "../dataset/test clean_en_lyrics.txt noisy_en_lyrics.txt\n"
     ]
    },
    {
     "name": "stderr",
     "output_type": "stream",
     "text": [
      "1046it [00:00, 349330.52it/s]\n",
      "1046it [00:00, 1046824.62it/s]\n"
     ]
    },
    {
     "name": "stdout",
     "output_type": "stream",
     "text": [
      "loaded tuples of (corr,incorr) examples from ../dataset/test\n",
      "data size: 1046\n"
     ]
    },
    {
     "name": "stderr",
     "output_type": "stream",
     "text": [
      "262it [02:24,  1.82it/s]"
     ]
    },
    {
     "name": "stdout",
     "output_type": "stream",
     "text": [
      "\n",
      "Epoch None valid_loss: 0.10063038498620554\n",
      "total inference time for this data is: 144.303340 secs\n",
      "###############################################\n",
      "total token count: 7071\n",
      "corr2corr:5528, corr2incorr:50, incorr2corr:1314, incorr2incorr:179\n",
      "accuracy is 0.9676141988403337\n",
      "word correction rate is 0.8801071667782987\n",
      "precision is 0.9910362136966655\n",
      "recall is 0.9686350096372875\n",
      "f1 score is 0.979707576428888\n",
      "###############################################\n"
     ]
    },
    {
     "name": "stderr",
     "output_type": "stream",
     "text": [
      "\n"
     ]
    }
   ],
   "source": [
    "elmo_checker_new.evaluate(clean_file=clean_file, corrupt_file=noisy_file, data_dir=test_data_path)"
   ]
  },
  {
   "attachments": {},
   "cell_type": "markdown",
   "metadata": {},
   "source": [
    "### Result analysis"
   ]
  },
  {
   "cell_type": "code",
   "execution_count": 14,
   "metadata": {},
   "outputs": [
    {
     "data": {
      "text/plain": [
       "['tell her that she beautiful every day i remind her',\n",
       " 'i get lost in her eyes like dust from the skies',\n",
       " \"did i say that out loud i 'm so crazy about mine\",\n",
       " 'but we do not have the same soul',\n",
       " 'tell me that you love me baby say it again',\n",
       " \"repeat it over and over until it 's in my brain\",\n",
       " 'you need to send your location i can not think',\n",
       " 'did i say that out loud',\n",
       " \"i 'm so crazy about mine\",\n",
       " 'when i look back']"
      ]
     },
     "execution_count": 14,
     "metadata": {},
     "output_type": "execute_result"
    }
   ],
   "source": [
    "elmo_correct_new = elmo_checker_new.correct_strings(noisy_test)\n",
    "elmo_correct_new[:10]"
   ]
  },
  {
   "cell_type": "code",
   "execution_count": 15,
   "metadata": {},
   "outputs": [
    {
     "name": "stdout",
     "output_type": "stream",
     "text": [
      "len data: 1046\n",
      "correct data after bert: 753\n"
     ]
    }
   ],
   "source": [
    "clean_test_prep = [i.replace(' ', '').strip().lower() for i in clean_test]\n",
    "elmo_correct_new_prep = [i.replace(' ', '').strip().lower() for i in elmo_correct_new]\n",
    "\n",
    "print('len data:', len(clean_test_prep))\n",
    "print('correct data after bert:', sum(a == b for a, b in zip(elmo_correct_new_prep, clean_test_prep)))"
   ]
  },
  {
   "cell_type": "code",
   "execution_count": 16,
   "metadata": {},
   "outputs": [
    {
     "name": "stdout",
     "output_type": "stream",
     "text": [
      "tell her that she beautiful every day i remind her  |  tell her that she beautiful every day i remind her\n",
      "but we don't have the same soul  |  but we do not have the same soul\n",
      "you need to send your location i can't think  |  you need to send your location i can not think\n",
      "i guess i'll be fine  |  i guess i'kl be fine\n",
      "your spirit can sit and watch tv by my side  |  your spirit can cut and watch tv by my side\n",
      "don't you dare say  |  do not you dare say\n",
      "if you don't really care  |  if you dno't really care\n",
      "but lately i can't see  |  but lately i cawn't see\n",
      "can't you see it  |  can not you see it\n",
      "don't you see it  |  do not you see it\n",
      "baby don't you dare say  |  baby dn't you dare say\n",
      "don't just say it  |  do not just say it\n",
      "baby if you care then don't you dare say  |  baby if you care then dn't you dare say\n",
      "yeah don't you dare say  |  yeah do not you dare say\n",
      "if don't really care see  |  if do not really care see\n",
      "don't know what they mean they're special just for you  |  do not know what they mean they are special just for you\n",
      "you believe me don't you baby  |  you believe me do not you baby\n",
      "i ain't afraid of a little pain  |  i am not afraid of a little pain\n",
      "hey i could take a big bat  |  hey i could take a big beat\n",
      "i don't know why it is that i wanna stay  |  i do not know why it is that i wanna stay\n",
      "i don't know what it is that  |  i do not know what it is that\n",
      "but i'm not gonna do what i hear me say oh  |  but i 'm not gone na do what i hear me say oh\n",
      "i'm just gonna walk i'm gonna walk away  |  i 'm just gone na walk i 'm gone na walk away\n",
      "i'm not gonna do what i hear me say  |  i'xm not gonna do what i hear me say\n",
      "you ain't no king  |  you am not no song\n",
      "you can't feel it and you're tired  |  you cadn't feel it and you 're tired\n",
      "don't even know what you're good for  |  do'nt even know what you are good for\n",
      "ahh ahh  |  ah ah\n",
      "i i i've never ever been this far away from home  |  i i iv'e never ever been this far away from home\n",
      "i'm not who i used to be  |  i 'm not what i used to be\n",
      "i am you can won't tell no one about it  |  i am you can do not tell no one about it\n",
      "it's gonna be a ball it's gonna be a ball  |  it 's gone na be a ball i'ts gonna be a ball\n",
      "it's gonna be a ball  |  it 's gone na be a ball\n",
      "out of the black out of the black  |  out of the back out of the black\n",
      "i know you're sick boy  |  i know ylu're sick boy\n",
      "you're so fun  |  you are so fun\n",
      "if they don't think we're good together  |  if they dn't think we 're good together\n",
      "and this kind of love's forever  |  and this kind of loves forever\n",
      "so i don't have to say  |  so i do not have to say\n",
      "god knows i died  |  gold knows i died\n",
      "ever since i found my fame  |  ever since i found my fine\n",
      "me and god we don't get along  |  me and god we do not get along\n",
      "i don't really wanna know what's good for me  |  i dno't really wanna know what 's good for me\n",
      "you tell me life isn't that hard  |  you tell me life is not that hard\n",
      "you said that you didn't mind  |  you said that you did't mind\n",
      "you're broken and i'm pissed  |  your'e broken and i 'm pissed\n",
      "it can't be true  |  it can not be true\n",
      "it's so hard sometimes with a star  |  it 's so hard sometimes with a sugar\n",
      "you're in the club living it up  |  you'e in the club living it up\n",
      "i know what you're thinking of  |  i know what yodu're thinking of\n",
      "it's like magic babe isn't life wonderful  |  it 's like magic babe ifsn't life wonderful\n",
      "but she doesn't make a sound  |  but she does not make a soul\n",
      "so far away from the bed  |  so far away from the bird\n",
      "i'll pick you up if you're in town on the corner  |  i 'll pick you up if you'e in town on the corner\n",
      "i can't wait no more no  |  i can not wait no more no\n",
      "isn't it funny that when you're truly in love  |  is not it funny that when you 're truly in love\n",
      "and i can't wait no more oh no  |  and i can not wait no more oh no\n",
      "let's make love  |  let'ws make love\n",
      "i can't even go for a ride  |  i czan't even go for a ride\n",
      "i can't wait no more  |  i cajn't wait no more\n",
      "don't you want to  |  dcon't you want to\n",
      "you said i'd never make it  |  you said ih'd never make it\n",
      "out outta here alive  |  out outta here aligve\n",
      "we're gonna party like we're  |  we 're gone na party like wea're\n",
      "now i can't see you the same as i used to  |  now i can not see you the same as i used to\n",
      "all i know is that we can't fall back now  |  all i know is that we can not fall back now\n",
      "do too do too  |  do to do too\n",
      "i don't know just where i'm going  |  i dno't know just where i 'm going\n",
      "and i guess that i just don't know  |  and i guess that i just dln't know\n",
      "and you can't help me not you guys  |  and you can not help me not you guys\n",
      "and i guess i just don't know  |  and i guess i just dno't know\n",
      "oh and i guess that i just don't know  |  oh and i guess that i just do not know\n",
      "i really don't care anymore  |  i really do'nt care anymore\n",
      "then i really don't care anymore  |  then i really din't care anymore\n",
      "and thank god that i just don't care  |  and thank god that i just don'st care\n",
      "i would show  |  i would snow\n",
      "don't you know the times i've tried  |  do not you know the times i 've tried\n",
      "i don't wanna do this anymore  |  i do not wanna do this anymore\n",
      "i know you don't understand  |  i know you do not understand\n",
      "but that don't make you a man  |  but that do not make you a man\n",
      "don't need your money money  |  do not need your money money\n",
      "til they hit the floor  |  till they hit the floor\n",
      "and i get off when i point the gun  |  and i get off when i pilot the gun\n",
      "he don't know our faces but  |  he do not know our faces but\n",
      "didn't take a second to notice  |  did not take a second to notice\n",
      "so tell me honey oh when you're just a step away from falling apart  |  so tell me honey oh when you'rwe just a step away from falling apart\n",
      "and when i get to thinking can't sleep at night  |  and when i get to thinking can n't sleep at night\n",
      "no i don't feel right  |  no i do not feel right\n",
      "maybe i spend more time in hollywood than i should  |  maybe i spend more time in holywood than i should\n",
      "it's no wonder every man in town  |  i'ts no wonder every man in town\n",
      "all of the guys tell me lies but you don't  |  all of the guys tell me lies but you do not\n",
      "flowers in my hair roses on the vine  |  flowers in my hair roses on the view\n",
      "you're so high  |  youv're so high\n",
      "i'm wild as can be and i want  |  i 'm world as can be and i want\n",
      "i'm so high  |  ii'm so high\n",
      "baby don't be scared come on honey smile  |  baby do not be scared come on honey smile\n",
      "but i don't wanna go just yet  |  but i do not wanna go just yet\n",
      "i don't wanna go just yet  |  i do not wanna go just yet\n",
      "just five more minutes and i'll go  |  just five more minutes and il'l go\n",
      "'cause i know i'm better off alone better off alone  |  ' cause i know i 'm better off alone better of alone\n",
      "i can't even front girl  |  i csn't even front girl\n",
      "see 'cause i may be young but i know  |  she 'cause i may be young but i know\n",
      "i'm not about to walk away  |  i'mm not about to walk away\n",
      "from this me and you moment don't you understand  |  from this me and you moment do not you understand\n",
      "but i'm gonna play your game like it hey yeah  |  but i 'm gone na play your game like it hey yeah\n",
      "you had me on the worse  |  you hated me on the worse\n",
      "sink me in the river at dawn  |  shake me in the river at dawn\n",
      "oh and life ain't always what you think it ought to be no  |  oh and life am not always what you think it ought to be no\n",
      "i'm as green as the ring on my little cold finger  |  i 'm as grown as the ring on my little cold finger\n",
      "and don't say you're over me  |  and do not say you 're over me\n",
      "when we both know that you ain't  |  when we both know that you aun't\n",
      "don't say you're over me  |  dcon't say you 're over me\n",
      "when we both know that you lie  |  when we both know that you like\n",
      "lie lie lie lie lie lie lie lie lie  |  lie lie lie like lie lie lie lie lie\n",
      "when they all know that you ain't  |  when they all know that you am not\n",
      "i swear you gotta feel me before they try and kill me  |  i swear you got to feel me before they try and kill me\n",
      "'cause i've been going off and they don't know when it's stopping  |  'cause iv'e been going off and they dno't know when i'ts stopping\n",
      "now let me see you now let me see you  |  now let me see you now let me are you\n",
      "you don't know that i don't even care  |  you dno't know that i do not even care\n",
      "with the pain and anger can't see a way out  |  with the pain and anger csn't see a way out\n",
      "i'm a man with a one track mind  |  iq'm a man with a one track mind\n",
      "so i'm living it all yes i'm living it all  |  so i'fm living it all yces i'bm living it all\n",
      "i cant fall back  |  i can not fall back\n",
      "now theyre starting to call  |  now there starting to call\n",
      "and ive got an aching head  |  and i be got an aching head\n",
      "im on my knees while im beggin  |  i am on my knees while i m begin\n",
      "your kisses taste the sweetest with mine  |  your kisses taste the sweetest worth mine\n",
      "hand in my hand because im yours i cant  |  hand in my hand because i m yours i can not\n",
      "gon pop like trouble  |  gpn pop like trouble\n",
      "looking for a way that i can see your face  |  looking for a way that i can see your fade\n",
      "if thats the kind of girl he wants  |  if that is the kind of girl he wants\n",
      "im done cause you lied with my guys like nah  |  i am done cause you lured with my guys like nah\n",
      "girl youre so different apart from the rest  |  girl you are so different apart from the rest\n",
      "youre thinking about the aisle  |  you are thinking about the aisle\n",
      "argue lets talk  |  agree lets talk\n",
      "im sending pic after picture imma get you fired  |  i am sending pick after picture imma get you fired\n",
      "we gon make you rock and you say yeah  |  we go make you rock and you say yeah\n",
      "cause i dont wanna live in a broken home  |  cause i do not wanna live in a broken home\n",
      "i wont judge she finesse  |  i do not judge she finesse\n",
      "im smart as fuck  |  i am smart as fuck\n",
      "you be like oh my god  |  you be like oh my good\n",
      "suddenly im a fiend and youre all i need  |  suddenly i m a friend and you are all i need\n",
      "thats walking around with me  |  that 's walking around with me\n",
      "some things dont work  |  some things do not work\n",
      "im probably the only one yeah  |  i am probably the only one yeah\n",
      "cause with them girls before i wasnt feeling so gone  |  cause with them girls before i was not feeling so gone\n",
      "im fightin hard  |  i am fighting hard\n",
      "youre my sunshine in the rain when its pouring  |  you are my sunshine in the rain when its pouring\n",
      "blurring all the lines you intoxicate me  |  barring all the lines you intoxicate me\n",
      "theres no time i wanna make more time  |  tjeres no time i wanna make more time\n",
      "cause im beggin  |  cause i m begin\n",
      "im filled with flaws and attitude  |  i am filled with flaws and attitude\n",
      "cause baby youre the boss at home  |  cause baby you are the boss at home\n",
      "lets pop them bottles so big  |  lets pop them battles so big\n",
      "i dont care who  |  i do not care who\n",
      "well i have called you darlin and ill say it again again  |  well i have called you dsrlin and ill say it again again\n",
      "im a diy pioneer  |  i m a duty pioneer\n",
      "and youre the first to say you want the best thing  |  and youe the first to say you want the best thing\n",
      "wont you give yourself to me  |  we not you give yourself to me\n",
      "nothing you cant do  |  nothing you can not do\n",
      "ride or die she gon go  |  ride or die she gone go\n",
      "now she just a groupie  |  now she just a groupue\n",
      "im just a con about to fade to black  |  i am just a con about to fade to black\n",
      "imma buy her no celine  |  imma buy her no ceilne\n",
      "makin you fall like that  |  make you fall like that\n",
      "you dont get to pick and choose  |  you do not get to pick and choose\n",
      "could holla at me  |  could hold at me\n",
      "plus she good at charming cobras  |  plnus she good at charming cboras\n",
      "im sittin pretty impatient but i know you gotta  |  i am sitting pretty impatient but i know you got to\n",
      "heres your perfect  |  gets your perfect\n",
      "thats the kind of girl he wants  |  tats the kind of girl he warns\n",
      "told me i need fixing  |  told me i need fine\n",
      "i dont know how to act  |  i do not know how to act\n",
      "side step right left to my beat  |  side step right left to my brat\n",
      "i took my chick up to the north yeah badass bitch  |  i took my cheek up to the north yeah badass bitch\n",
      "yall aint fooling me at all  |  y all am not fooling me at all\n",
      "and its not that youre asking me for nothing  |  and its not that you are asking me for nothing\n",
      "they dont look like ken at all  |  they dont look like keen at all\n",
      "you done gave it away ya had it til you took it back  |  you done gave it away ya had it till you took it back\n",
      "put in them hours imma make it harder  |  put in them hours imma makes it harder\n",
      "yeah im makin you sweat like that  |  yeah i m making you sweat like that\n",
      "fresh boy pull up and we lay low  |  fresh body pull up and we lay low\n",
      "and you know we dont stop  |  and you know we do not stop\n",
      "so i give her the car keys  |  so i give her the car kids\n",
      "and ill be right here with you til the end of time  |  and ill be right here with you till the end of time\n",
      "so if you need perfect im not built for you one two three  |  so if you need perfect i m not built for you one two there\n",
      "we dont need nobody i just need your body  |  we do it need nobody i just need your body\n",
      "passes my way: rihanna or beyonce  |  passes my way : rihvanna or beynoce\n",
      "curvy like a cursive font  |  currency like a cursive font\n",
      "now you gon tell me you done with my time  |  now you go tell me you done with my time\n",
      "but my dreads too thick and thats alright  |  but my dreams too thick and that 's alright\n",
      "you dont mind spending  |  you do not mind spending\n",
      "you aint sure yet  |  you am not sure yet\n",
      "its way too soon i know this isnt love  |  its way too soon i know this is not love\n",
      "youre the best part oh  |  your the best part oh\n",
      "cause youre my iron man  |  cause yokure my iron man\n",
      "if this is real love then i didnt know before  |  if this is real love then i did not know before\n",
      "hot like summer aint no bummer  |  hot like summer am not no summer\n",
      "but i still cant forget if i wanted to  |  but i still can not forget if i wanted to\n",
      "youre the coffee that i need in the morning  |  yuore the coffee that i need in the morning\n",
      "and now its crossed out in red  |  and now itrs crossed out in red\n",
      "youre to blame  |  you are to blame\n",
      "i cant even talk still stuttering  |  i cabt even talk still stuttering\n",
      "so dont stress dont stress dont cry dont cry  |  so do it strikes do not stress do it cry do not cry\n",
      "seven billion people in the world trying to fit in  |  seven billion people in the world trying to foot in\n",
      "well i will call you darlin and everything will be okay  |  well i will call you darling and everything will be okay\n",
      "but i keep walkin on  |  but i keep walking on\n",
      "was hangin over me  |  was hanging over me\n",
      "done bein distracted  |  done been distorted\n",
      "what we doin what we chasin  |  what we dxoin what we chain\n",
      "just cant make it all alone  |  just ca not make it all alone\n",
      "i get my light right from the source yeah yeah thats it  |  i got my light right from the source yeah yeah that 's it\n",
      "baby take a chance  |  baby tale a chance\n",
      "it aint nothing personal  |  it am not nothing personal\n",
      "so put your loving hand out darlin  |  so put your loving hand out darzlin\n",
      "ridin high when i was king  |  riding high when i was king\n",
      "im holdin on  |  i am holding on\n",
      "so now i cant stop thinking about you  |  so now i can not stop thinking about you\n",
      "breakin into your heart like that  |  breaking into your heart like that\n",
      "youre in my blood youre in my veins youre in my head im sayin  |  youe in my blood you are in my veins yiure in my head i m saying\n",
      "why we got good shit dont embrace it  |  why we got good shit do not embrace it\n",
      "and baby youre my winner  |  and baby you are my winner\n",
      "oh she the bae im her boo  |  oh she the babe i m her boo\n",
      "its business and im a commodity  |  iots business and i m a commodity\n",
      "but the grass aint always greener on the other side  |  but the gas ai not always greener on the other side\n",
      "girl im beggin  |  girl i m begging\n",
      "ask me whats my best side i stand back and point at you  |  ask me wgats my best side i stand back and point at you\n",
      "i dont even care  |  i do not even care\n",
      "said that im just nuts and bolts  |  said that i am just nuts and boys\n",
      "but i dont know  |  but i do not know\n",
      "keep browsin halls  |  keep browsing halls\n",
      "and ill hurt you and youll hurt me and well say things we cant repeat  |  and ill hurt you and you all hurt me and well say things we can not repeat\n",
      "im running out of time  |  i am running out of time\n",
      "nothin but sheets in between us aint no getting off early  |  nothing but sheets in between us ai not no getting off early\n",
      "bout to set it off  |  but to sit it off\n",
      "i aint wearin na nada  |  i am not wearin na nada\n",
      "lets make it global so big  |  lets make it goal so big\n",
      "im flawed by design and you loved to remind me  |  i am flawed by design and you loved to remind me\n",
      "you know that i wont stop until i make you mine  |  you know that i do not stop until i make you mine\n",
      "a couple of things i cant spell without u  |  a couple of things i can not spell without u\n",
      "cool shade stunner  |  cool she stunned\n",
      "you dont even know how very special you are  |  you do not even know how very special you are\n",
      "i aint worried bout nothin  |  i am not worried about nothing\n",
      "theres nothing like your touch  |  therets nothing like your touch\n",
      "dont think you wanna know just where ive been oh  |  do not think you wanna know just where i be been oh\n",
      "is that you just dont realize how much i love you  |  is that you just doubt realize how much i love you\n",
      "shes wondering what clothes to wear  |  she 's wondering what clothes to wear\n",
      "im the first to say that im not perfect  |  i am the first to say that i m not perfect\n",
      "who wants my money ill tell you: who i dont fuck with  |  who wants my money ill tell you : who i do not fuck with\n",
      "girl youre so perfect i think that its working  |  girl you are so perfect i think that its working\n",
      "ill be your platinum ill be your silver ill be your gold  |  ill be your platinum ikl be your silver till be your gold\n",
      "dont forsake this life of yours  |  do not forsake this life of yours\n",
      "im beggin beggin you  |  i m begging begging you\n",
      "all of them times that you talked but you lied  |  all of them times that you talked but you loved\n",
      "some just rather say goodbye bye  |  someone just rather say goodbye bye\n",
      "i can size you up  |  i can see you up\n",
      "i know youre always on the night shift  |  i know you are always on the night shift\n",
      "we dont need no wings to fly  |  we do not need no wings to fly\n",
      "i cant pretend i cant ignore youre right for me  |  i can not pretend i can not ignore you are right for me\n",
      "keep rockin dawns  |  keep rock dawns\n",
      "feeling all the highs feeling all the pain  |  feeling all the higyhs feeling all the pain\n",
      "thinking bout a way to get you off my mind  |  thinking but a way to get you off my mind\n",
      "looking for their barbie  |  looking for their bribe\n",
      "but every time i look at you i just dont care  |  but every time i look at you i just do not care\n",
      "it doesnt mean a thing  |  it does not mean a thing\n",
      "used to tell me skys the limit now the skys our point of view view  |  used to tell me skies the limit now the skies our point of view view\n",
      "im so in my head  |  i am so in my head\n",
      "they tryna get involved  |  they ttyna get involved\n",
      "aint no other  |  aibt no other\n",
      "whos pulling strings im just pointing out all the puppets  |  who 's pulling strings i m just pointing out all the puppets\n",
      "some just tryin to get by  |  some just trying to get by\n",
      "guess i gotta play the goalie  |  guess i got to play the goalie\n",
      "wont even stand the devils dance  |  we not even stand the devils dance\n",
      "dont need no usher  |  do not need no usher\n",
      "you could be my destinys child on the scene girl  |  you could be my detinys child on the scene girl\n",
      "sipping on your lips hanging on by a thread baby  |  sipping on your lips hanging on by a thraed baby\n",
      "when theres a boss in me  |  when there a boss in me\n",
      "but she aint the only one no  |  but she am not the only one no\n",
      "we gon make you bounce and you say yeah  |  we go make you bounce and you say yeah\n",
      "but i cant stand these nights alone  |  but i can not stand these nights alone\n",
      "now we are on top of the world cause thats just how we do do it  |  now we are on top of the world cause this just how we do do it\n",
      "living like theres only me  |  living like thrres only me\n",
      "left her baggage for rimowa  |  left her baggage for rimlwa\n",
      "i dont know if this makes sense but youre my hallelujah  |  i do not know if this makes sense but you are my hallelujah\n",
      "so them other girls can go they dont make me feel so good  |  so them other girls can go they do it make me feel so good\n",
      "she be acting bougie  |  she be acting boguie\n",
      "but howd we get in this position  |  but how we get in this position\n",
      "everybodys tryna be a billionaire  |  everyodys trna be a billionaire\n",
      "ive got your photograph  |  i i got your photograph\n",
      "cool i dropped out i dont really take test  |  cool i dropped out i dnot really take test\n",
      "rollin up to party got the right vibe  |  rolling up to party got the right vibe\n",
      "i get my weed from california thats that shit  |  i get my weed from california that that shit\n",
      "all the playas get movin when the bass low  |  all the plays get mlvin when the beats low\n"
     ]
    }
   ],
   "source": [
    "for i in range(len(clean_test_prep)):\n",
    "    if clean_test_prep[i] != elmo_correct_new_prep[i]:\n",
    "        print(clean_test[i], ' | ', elmo_correct_new[i])"
   ]
  },
  {
   "cell_type": "markdown",
   "metadata": {},
   "source": []
  }
 ],
 "metadata": {
  "kernelspec": {
   "display_name": "Python 3",
   "language": "python",
   "name": "python3"
  },
  "language_info": {
   "codemirror_mode": {
    "name": "ipython",
    "version": 3
   },
   "file_extension": ".py",
   "mimetype": "text/x-python",
   "name": "python",
   "nbconvert_exporter": "python",
   "pygments_lexer": "ipython3",
   "version": "3.9.16"
  },
  "orig_nbformat": 4
 },
 "nbformat": 4,
 "nbformat_minor": 2
}
