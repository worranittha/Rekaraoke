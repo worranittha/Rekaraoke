{
 "cells": [
  {
   "attachments": {},
   "cell_type": "markdown",
   "metadata": {},
   "source": [
    "## Create clean data and noisy data for training correctors"
   ]
  },
  {
   "attachments": {},
   "cell_type": "markdown",
   "metadata": {},
   "source": [
    "## Import modules"
   ]
  },
  {
   "cell_type": "code",
   "execution_count": 22,
   "metadata": {},
   "outputs": [
    {
     "name": "stdout",
     "output_type": "stream",
     "text": [
      "no resources are required to be downloaded for this noiser\n"
     ]
    }
   ],
   "source": [
    "import os\n",
    "import re\n",
    "from neuspell.noising import CharacterReplacementNoiser\n",
    "\n",
    "train_data_path = '../dataset/train'\n",
    "test_data_path = '../dataset/test'\n",
    "\n",
    "char_repl_noiser = CharacterReplacementNoiser(language=\"english\")\n",
    "char_repl_noiser.load_resources()"
   ]
  },
  {
   "attachments": {},
   "cell_type": "markdown",
   "metadata": {},
   "source": [
    "## Function"
   ]
  },
  {
   "cell_type": "code",
   "execution_count": 23,
   "metadata": {},
   "outputs": [],
   "source": [
    "def read_file(file_path):\n",
    "    with open(file_path) as f:\n",
    "        data = f.read().splitlines()\n",
    "\n",
    "    if '' in data:\n",
    "        data.remove('')\n",
    "\n",
    "    print('len data:', len(data))\n",
    "    display(data[:10])\n",
    "    return data"
   ]
  },
  {
   "cell_type": "code",
   "execution_count": 24,
   "metadata": {},
   "outputs": [],
   "source": [
    "def cleaner(raw_data):\n",
    "    clean_data = []\n",
    "    for line in raw_data:\n",
    "        txt = re.sub(r'\\(|\\)|\\[|\\]', '', line).strip().lower()\n",
    "        if txt not in clean_data:\n",
    "            clean_data.append(txt)\n",
    "    clean_data = list(set(clean_data))\n",
    "\n",
    "    print('len clean_data:', len(clean_data))\n",
    "    display(clean_data[:10])\n",
    "    return clean_data"
   ]
  },
  {
   "cell_type": "code",
   "execution_count": 25,
   "metadata": {},
   "outputs": [],
   "source": [
    "def noiser(clean_data, char_repl_noiser):\n",
    "    noisy_data = char_repl_noiser.noise(clean_data)\n",
    "\n",
    "    print('len noisy_data:', len(noisy_data))\n",
    "    display(noisy_data[:10])\n",
    "    return noisy_data"
   ]
  },
  {
   "attachments": {},
   "cell_type": "markdown",
   "metadata": {},
   "source": [
    "## Prepare training set"
   ]
  },
  {
   "cell_type": "code",
   "execution_count": 26,
   "metadata": {},
   "outputs": [
    {
     "name": "stdout",
     "output_type": "stream",
     "text": [
      "len data: 10510\n"
     ]
    },
    {
     "data": {
      "text/plain": [
       "['just a lost boy in a small town',\n",
       " 'singing \"love is forever and ever\"',\n",
       " 'good on paper, picture perfect',\n",
       " \"cause i know i'm addicted to your drama\",\n",
       " 'you see me i be',\n",
       " 'i gotta tell them to myself',\n",
       " \"i'm still learning to love\",\n",
       " \"no, i can't sleep until i feel your touch\",\n",
       " 'and all i can think',\n",
       " \"so beautiful you're leaving me\"]"
      ]
     },
     "metadata": {},
     "output_type": "display_data"
    }
   ],
   "source": [
    "train_data = read_file(os.path.join(train_data_path, 'raw_lyrics.txt'))"
   ]
  },
  {
   "attachments": {},
   "cell_type": "markdown",
   "metadata": {},
   "source": [
    "### Clean training set"
   ]
  },
  {
   "cell_type": "code",
   "execution_count": 27,
   "metadata": {},
   "outputs": [
    {
     "name": "stdout",
     "output_type": "stream",
     "text": [
      "len clean_data: 7309\n"
     ]
    },
    {
     "data": {
      "text/plain": [
       "['well show me the way',\n",
       " \"'cause nothin' from nothin' leaves nothin'\",\n",
       " \"she said look, what's your game baby\",\n",
       " 'savage love, did somebody, did somebody break your heart',\n",
       " \"told you i'll be here forever\",\n",
       " 'oh baby, we found love right where we are maybe',\n",
       " 'all i know is we said, \"hello\"',\n",
       " \"another saturday night and i ain't got nobody\",\n",
       " 'if your schemes like your dreams',\n",
       " 'you fell, i caught you']"
      ]
     },
     "metadata": {},
     "output_type": "display_data"
    }
   ],
   "source": [
    "clean_train = cleaner(train_data)"
   ]
  },
  {
   "attachments": {},
   "cell_type": "markdown",
   "metadata": {},
   "source": [
    "### Add noise to clean training set"
   ]
  },
  {
   "cell_type": "code",
   "execution_count": 28,
   "metadata": {},
   "outputs": [
    {
     "name": "stdout",
     "output_type": "stream",
     "text": [
      "total # of texts after retokenization: 7309\n",
      "total # of tokens after retokenization: 49947\n"
     ]
    },
    {
     "name": "stderr",
     "output_type": "stream",
     "text": [
      "100%|██████████| 7309/7309 [00:01<00:00, 4068.39it/s]"
     ]
    },
    {
     "name": "stdout",
     "output_type": "stream",
     "text": [
      "len noisy_data: 7309\n"
     ]
    },
    {
     "name": "stderr",
     "output_type": "stream",
     "text": [
      "\n"
     ]
    },
    {
     "data": {
      "text/plain": [
       "['well show me the wzy',\n",
       " \"'cause nothih' frdom nlthin' lesaves nothin'\",\n",
       " \"she siad look, what's yoaur game bbay\",\n",
       " 'savage loce, did somebody, did somrbody break your heeart',\n",
       " \"told you i'll be here flrever\",\n",
       " 'oh bby, we founbd loce rgiht whree we ate maybe',\n",
       " 'all i kbnow is we said, \"hello\"',\n",
       " \"another satjrday noght and i ain't got nobidy\",\n",
       " 'if yoir schems lkie your dreams',\n",
       " 'you felk, i caugyt yzou']"
      ]
     },
     "metadata": {},
     "output_type": "display_data"
    }
   ],
   "source": [
    "noisy_train = noiser(clean_train, char_repl_noiser)"
   ]
  },
  {
   "attachments": {},
   "cell_type": "markdown",
   "metadata": {},
   "source": [
    "## Prepare testing set"
   ]
  },
  {
   "cell_type": "code",
   "execution_count": 29,
   "metadata": {},
   "outputs": [
    {
     "name": "stdout",
     "output_type": "stream",
     "text": [
      "len data: 2060\n"
     ]
    },
    {
     "data": {
      "text/plain": [
       "['The world on drugs',\n",
       " 'Ten (yeah) thousand dollar plates',\n",
       " 'Thousand dollar plates',\n",
       " 'Thousand dollar plates, fine china',\n",
       " 'Shorty like a, uh',\n",
       " 'Shorty like a',\n",
       " '(Wheezy outta here)',\n",
       " 'Shorty like a thousand dollar plate, fine china',\n",
       " 'Tell her that she beautiful every day, I remind her',\n",
       " \"Then I jump in the pussy like a lake, I'm a diver\"]"
      ]
     },
     "metadata": {},
     "output_type": "display_data"
    }
   ],
   "source": [
    "test_data = read_file(os.path.join(test_data_path, 'raw_lyrics.txt'))"
   ]
  },
  {
   "attachments": {},
   "cell_type": "markdown",
   "metadata": {},
   "source": [
    "### Clean testing set"
   ]
  },
  {
   "cell_type": "code",
   "execution_count": 36,
   "metadata": {},
   "outputs": [
    {
     "name": "stdout",
     "output_type": "stream",
     "text": [
      "len clean_data: 1418\n"
     ]
    },
    {
     "data": {
      "text/plain": [
       "[\"cos he's alright in the city\",\n",
       " 'do you want me or do you not?',\n",
       " 'and when i take you shopping',\n",
       " \"i'm going to jupiter with my girl don't call your exes\",\n",
       " 'with your golden grill, true love never dies',\n",
       " \"now my dick ain't free\",\n",
       " \"i'm wild as can be, and i want\",\n",
       " 'thanks, mr. president',\n",
       " 'hey, batter, batter swing',\n",
       " 'city girl, but she grew up in the tri-state']"
      ]
     },
     "metadata": {},
     "output_type": "display_data"
    }
   ],
   "source": [
    "clean_test = cleaner(test_data)"
   ]
  },
  {
   "attachments": {},
   "cell_type": "markdown",
   "metadata": {},
   "source": [
    "### Add noise to clean testing set"
   ]
  },
  {
   "cell_type": "code",
   "execution_count": 37,
   "metadata": {},
   "outputs": [
    {
     "name": "stdout",
     "output_type": "stream",
     "text": [
      "total # of texts after retokenization: 1418\n",
      "total # of tokens after retokenization: 9959\n"
     ]
    },
    {
     "name": "stderr",
     "output_type": "stream",
     "text": [
      "100%|██████████| 1418/1418 [00:00<00:00, 3959.53it/s]"
     ]
    },
    {
     "name": "stdout",
     "output_type": "stream",
     "text": [
      "len noisy_data: 1418\n"
     ]
    },
    {
     "name": "stderr",
     "output_type": "stream",
     "text": [
      "\n"
     ]
    },
    {
     "data": {
      "text/plain": [
       "[\"coys he's arlight in the city\",\n",
       " 'do you wanot me or do you not?',\n",
       " 'ansd when i take ylu shopping',\n",
       " \"ib'm going to jupiter wuth my gril dont call your exes\",\n",
       " 'wkth ypur golden grill, true loce nwver dwies',\n",
       " \"npw my dick ainn't free\",\n",
       " \"ix'm wild as can be, and i want\",\n",
       " 'thanks, mr. president',\n",
       " 'hey, batter, bater swing',\n",
       " 'city girl, but she grew up in the tri-state']"
      ]
     },
     "metadata": {},
     "output_type": "display_data"
    }
   ],
   "source": [
    "noisy_test = noiser(clean_test, char_repl_noiser)"
   ]
  },
  {
   "attachments": {},
   "cell_type": "markdown",
   "metadata": {},
   "source": [
    "## Save to file"
   ]
  },
  {
   "cell_type": "code",
   "execution_count": 32,
   "metadata": {},
   "outputs": [],
   "source": [
    "with open(train_data_path + '/clean_lyrics.txt', 'w') as f:\n",
    "    f.write('\\n'.join(clean_train))"
   ]
  },
  {
   "cell_type": "code",
   "execution_count": 33,
   "metadata": {},
   "outputs": [],
   "source": [
    "with open(train_data_path + '/noisy_lyrics.txt', 'w') as f:\n",
    "    f.write('\\n'.join(noisy_train))"
   ]
  },
  {
   "cell_type": "code",
   "execution_count": 34,
   "metadata": {},
   "outputs": [],
   "source": [
    "with open(test_data_path + '/clean_lyrics.txt', 'w') as f:\n",
    "    f.write('\\n'.join(clean_test))"
   ]
  },
  {
   "cell_type": "code",
   "execution_count": 35,
   "metadata": {},
   "outputs": [],
   "source": [
    "with open(test_data_path + '/noisy_lyrics.txt', 'w') as f:\n",
    "    f.write('\\n'.join(noisy_test))"
   ]
  },
  {
   "cell_type": "code",
   "execution_count": null,
   "metadata": {},
   "outputs": [],
   "source": []
  }
 ],
 "metadata": {
  "kernelspec": {
   "display_name": "Python 3",
   "language": "python",
   "name": "python3"
  },
  "language_info": {
   "codemirror_mode": {
    "name": "ipython",
    "version": 3
   },
   "file_extension": ".py",
   "mimetype": "text/x-python",
   "name": "python",
   "nbconvert_exporter": "python",
   "pygments_lexer": "ipython3",
   "version": "3.9.16"
  },
  "orig_nbformat": 4
 },
 "nbformat": 4,
 "nbformat_minor": 2
}
