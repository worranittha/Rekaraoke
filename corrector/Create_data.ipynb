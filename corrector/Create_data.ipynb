{
 "cells": [
  {
   "attachments": {},
   "cell_type": "markdown",
   "metadata": {},
   "source": [
    "## Create clean data and noisy data for training correctors"
   ]
  },
  {
   "attachments": {},
   "cell_type": "markdown",
   "metadata": {},
   "source": [
    "## Import modules"
   ]
  },
  {
   "cell_type": "code",
   "execution_count": 15,
   "metadata": {},
   "outputs": [
    {
     "name": "stdout",
     "output_type": "stream",
     "text": [
      "data folder is set to `e:\\nlp\\nlp-env\\neuspell\\neuspell\\../data` script\n",
      "no resources are required to be downloaded for this noiser\n"
     ]
    }
   ],
   "source": [
    "import re\n",
    "from neuspell.noising import CharacterReplacementNoiser\n",
    "\n",
    "train_data_path = '../dataset/train'\n",
    "test_data_path = '../dataset/test'\n",
    "\n",
    "char_repl_noiser = CharacterReplacementNoiser(language=\"english\")\n",
    "char_repl_noiser.load_resources()"
   ]
  },
  {
   "attachments": {},
   "cell_type": "markdown",
   "metadata": {},
   "source": [
    "## Function"
   ]
  },
  {
   "cell_type": "code",
   "execution_count": 16,
   "metadata": {},
   "outputs": [],
   "source": [
    "def read_file(file_path):\n",
    "    with open(file_path) as f:\n",
    "        data = f.read().splitlines()\n",
    "\n",
    "    if '' in data:\n",
    "        data.remove('')\n",
    "\n",
    "    print('len data:', len(data))\n",
    "    display(data[:10])\n",
    "    return data"
   ]
  },
  {
   "cell_type": "code",
   "execution_count": 17,
   "metadata": {},
   "outputs": [],
   "source": [
    "def cleaner(raw_data):\n",
    "    clean_data = []\n",
    "    for line in raw_data:\n",
    "        txt = re.sub(r'\\(|\\)|\\[|\\]', '', line).strip().lower()\n",
    "        if txt not in clean_data:\n",
    "            clean_data.append(txt)\n",
    "    clean_data = list(set(clean_data))\n",
    "\n",
    "    print('len clean_data:', len(clean_data))\n",
    "    display(clean_data[:10])\n",
    "    return clean_data"
   ]
  },
  {
   "cell_type": "code",
   "execution_count": 18,
   "metadata": {},
   "outputs": [],
   "source": [
    "def noiser(clean_data, char_repl_noiser):\n",
    "    noisy_data = char_repl_noiser.noise(clean_data)\n",
    "\n",
    "    print('len noisy_data:', len(noisy_data))\n",
    "    display(noisy_data[:10])\n",
    "    return noisy_data"
   ]
  },
  {
   "attachments": {},
   "cell_type": "markdown",
   "metadata": {},
   "source": [
    "## Prepare training set"
   ]
  },
  {
   "cell_type": "code",
   "execution_count": 19,
   "metadata": {},
   "outputs": [
    {
     "name": "stdout",
     "output_type": "stream",
     "text": [
      "len data: 7309\n"
     ]
    },
    {
     "data": {
      "text/plain": [
       "['just a lost boy in a small town',\n",
       " 'singing \"love is forever and ever\"',\n",
       " 'good on paper, picture perfect',\n",
       " \"cause i know i'm addicted to your drama\",\n",
       " 'you see me i be',\n",
       " 'i gotta tell them to myself',\n",
       " \"i'm still learning to love\",\n",
       " \"no, i can't sleep until i feel your touch\",\n",
       " 'and all i can think',\n",
       " \"so beautiful you're leaving me\"]"
      ]
     },
     "metadata": {},
     "output_type": "display_data"
    }
   ],
   "source": [
    "train_data = read_file('../dataset/train/clean_lyrics.txt')"
   ]
  },
  {
   "attachments": {},
   "cell_type": "markdown",
   "metadata": {},
   "source": [
    "### Clean training set"
   ]
  },
  {
   "cell_type": "code",
   "execution_count": 13,
   "metadata": {},
   "outputs": [
    {
     "name": "stdout",
     "output_type": "stream",
     "text": [
      "len clean_data: 7309\n"
     ]
    },
    {
     "data": {
      "text/plain": [
       "['well show me the way',\n",
       " \"'cause nothin' from nothin' leaves nothin'\",\n",
       " \"she said look, what's your game baby\",\n",
       " 'savage love, did somebody, did somebody break your heart',\n",
       " \"told you i'll be here forever\",\n",
       " 'oh baby, we found love right where we are maybe',\n",
       " 'all i know is we said, \"hello\"',\n",
       " \"another saturday night and i ain't got nobody\",\n",
       " 'if your schemes like your dreams',\n",
       " 'you fell, i caught you']"
      ]
     },
     "metadata": {},
     "output_type": "display_data"
    }
   ],
   "source": [
    "clean_train = cleaner(train_data)"
   ]
  },
  {
   "attachments": {},
   "cell_type": "markdown",
   "metadata": {},
   "source": [
    "### Add noise to clean training set"
   ]
  },
  {
   "cell_type": "code",
   "execution_count": 20,
   "metadata": {},
   "outputs": [
    {
     "name": "stdout",
     "output_type": "stream",
     "text": [
      "total # of texts after retokenization: 7309\n",
      "total # of tokens after retokenization: 49947\n"
     ]
    },
    {
     "name": "stderr",
     "output_type": "stream",
     "text": [
      "100%|██████████| 7309/7309 [00:01<00:00, 4139.78it/s]"
     ]
    },
    {
     "name": "stdout",
     "output_type": "stream",
     "text": [
      "len noisy_data: 7309\n"
     ]
    },
    {
     "name": "stderr",
     "output_type": "stream",
     "text": [
      "\n"
     ]
    },
    {
     "data": {
      "text/plain": [
       "['well show me the way',\n",
       " \"'cause nothiwn' from nothin' leaves nothin'\",\n",
       " \"she said look, waht's your game baby\",\n",
       " 'savage love, did simebody, did somebody breark yuor heart',\n",
       " \"told ylu i'll be here foredver\",\n",
       " 'oh bayb, we found love right where we are maybe',\n",
       " 'all i know is we said, \"hello\"',\n",
       " \"anoyher saturday nigt and i ain'xt got nobody\",\n",
       " 'if yojur schemes lkke your dreajs',\n",
       " 'you fell, i cauggt you']"
      ]
     },
     "metadata": {},
     "output_type": "display_data"
    }
   ],
   "source": [
    "noisy_train = noiser(clean_train, char_repl_noiser)"
   ]
  },
  {
   "attachments": {},
   "cell_type": "markdown",
   "metadata": {},
   "source": [
    "## Prepare testing set"
   ]
  },
  {
   "cell_type": "code",
   "execution_count": 21,
   "metadata": {},
   "outputs": [
    {
     "name": "stdout",
     "output_type": "stream",
     "text": [
      "len data: 1418\n"
     ]
    },
    {
     "data": {
      "text/plain": [
       "['the world on drugs',\n",
       " 'ten yeah thousand dollar plates',\n",
       " 'thousand dollar plates',\n",
       " 'thousand dollar plates, fine china',\n",
       " 'shorty like a, uh',\n",
       " 'shorty like a',\n",
       " 'wheezy outta here',\n",
       " 'shorty like a thousand dollar plate, fine china',\n",
       " 'tell her that she beautiful every day, i remind her',\n",
       " \"then i jump in the pussy like a lake, i'm a diver\"]"
      ]
     },
     "metadata": {},
     "output_type": "display_data"
    }
   ],
   "source": [
    "test_data = read_file('../dataset/test/test_lyrics.txt')"
   ]
  },
  {
   "attachments": {},
   "cell_type": "markdown",
   "metadata": {},
   "source": [
    "### Clean testing set"
   ]
  },
  {
   "cell_type": "code",
   "execution_count": 5,
   "metadata": {},
   "outputs": [
    {
     "name": "stdout",
     "output_type": "stream",
     "text": [
      "len clean_data_test: 1418\n"
     ]
    },
    {
     "data": {
      "text/plain": [
       "['the world on drugs',\n",
       " 'ten yeah thousand dollar plates',\n",
       " 'thousand dollar plates',\n",
       " 'thousand dollar plates, fine china',\n",
       " 'shorty like a, uh',\n",
       " 'shorty like a',\n",
       " 'wheezy outta here',\n",
       " 'shorty like a thousand dollar plate, fine china',\n",
       " 'tell her that she beautiful every day, i remind her',\n",
       " \"then i jump in the pussy like a lake, i'm a diver\"]"
      ]
     },
     "execution_count": 5,
     "metadata": {},
     "output_type": "execute_result"
    }
   ],
   "source": [
    "clean_test = cleaner(train_data)"
   ]
  },
  {
   "attachments": {},
   "cell_type": "markdown",
   "metadata": {},
   "source": [
    "### Add noise to clean testing set"
   ]
  },
  {
   "cell_type": "code",
   "execution_count": 9,
   "metadata": {},
   "outputs": [
    {
     "name": "stdout",
     "output_type": "stream",
     "text": [
      "no resources are required to be downloaded for this noiser\n",
      "total # of texts after retokenization: 1418\n",
      "total # of tokens after retokenization: 9959\n"
     ]
    },
    {
     "name": "stderr",
     "output_type": "stream",
     "text": [
      "100%|██████████| 1418/1418 [00:00<00:00, 3831.57it/s]"
     ]
    },
    {
     "name": "stdout",
     "output_type": "stream",
     "text": [
      "len noisy_data: 1418\n"
     ]
    },
    {
     "name": "stderr",
     "output_type": "stream",
     "text": [
      "\n"
     ]
    },
    {
     "data": {
      "text/plain": [
       "['the world on drugs',\n",
       " 'ten yeah thousand dllar plates',\n",
       " 'thousand dollar plates',\n",
       " 'thousand dollawr plates, fine cina',\n",
       " 'sbhorty lkie a, uh',\n",
       " 'sohrty lile a',\n",
       " 'wheezy outta hree',\n",
       " 'shrty loke a thoysand dolar plate, fine cihna',\n",
       " 'tell her tnat she bqeautiful every day, i remind her',\n",
       " \"thrn i jump in the pussy leike a lake, i'm a divker\"]"
      ]
     },
     "execution_count": 9,
     "metadata": {},
     "output_type": "execute_result"
    }
   ],
   "source": [
    "noisy_test = noiser(clean_train, char_repl_noiser)"
   ]
  },
  {
   "attachments": {},
   "cell_type": "markdown",
   "metadata": {},
   "source": [
    "## Save to file"
   ]
  },
  {
   "cell_type": "code",
   "execution_count": 28,
   "metadata": {},
   "outputs": [],
   "source": [
    "with open(train_data_path + '/clean_lyrics.txt', 'w') as f:\n",
    "    f.write('\\n'.join(clean_data))"
   ]
  },
  {
   "cell_type": "code",
   "execution_count": 29,
   "metadata": {},
   "outputs": [],
   "source": [
    "with open(train_data_path + '/noisy_lyrics.txt', 'w') as f:\n",
    "    f.write('\\n'.join(noisy_data))"
   ]
  },
  {
   "cell_type": "code",
   "execution_count": 7,
   "metadata": {},
   "outputs": [],
   "source": [
    "with open('../dict/test_lyrics.txt', 'w') as f:\n",
    "    f.write('\\n'.join(clean_data_test))"
   ]
  },
  {
   "cell_type": "code",
   "execution_count": 10,
   "metadata": {},
   "outputs": [],
   "source": [
    "with open('../dict/test_lyrics_noisy.txt', 'w') as f:\n",
    "    f.write('\\n'.join(noisy_data_test))"
   ]
  },
  {
   "cell_type": "code",
   "execution_count": null,
   "metadata": {},
   "outputs": [],
   "source": []
  }
 ],
 "metadata": {
  "kernelspec": {
   "display_name": "Python 3",
   "language": "python",
   "name": "python3"
  },
  "language_info": {
   "codemirror_mode": {
    "name": "ipython",
    "version": 3
   },
   "file_extension": ".py",
   "mimetype": "text/x-python",
   "name": "python",
   "nbconvert_exporter": "python",
   "pygments_lexer": "ipython3",
   "version": "3.9.16"
  },
  "orig_nbformat": 4
 },
 "nbformat": 4,
 "nbformat_minor": 2
}
