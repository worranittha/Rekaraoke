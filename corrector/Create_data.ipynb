{
 "cells": [
  {
   "attachments": {},
   "cell_type": "markdown",
   "metadata": {},
   "source": [
    "## Create clean data and noisy data for training correctors"
   ]
  },
  {
   "attachments": {},
   "cell_type": "markdown",
   "metadata": {},
   "source": [
    "## Import modules"
   ]
  },
  {
   "cell_type": "code",
   "execution_count": 2,
   "metadata": {},
   "outputs": [
    {
     "name": "stdout",
     "output_type": "stream",
     "text": [
      "data folder is set to `e:\\nlp\\nlp-env\\neuspell\\neuspell\\../data` script\n",
      "no resources are required to be downloaded for this noiser\n"
     ]
    }
   ],
   "source": [
    "import os\n",
    "import re\n",
    "from neuspell.noising import CharacterReplacementNoiser\n",
    "\n",
    "train_data_path = '../dataset/train'\n",
    "test_data_path = '../dataset/test'\n",
    "\n",
    "char_repl_noiser = CharacterReplacementNoiser(language=\"english\")\n",
    "char_repl_noiser.load_resources()"
   ]
  },
  {
   "attachments": {},
   "cell_type": "markdown",
   "metadata": {},
   "source": [
    "## Function"
   ]
  },
  {
   "cell_type": "code",
   "execution_count": 3,
   "metadata": {},
   "outputs": [],
   "source": [
    "def read_file(file_path):\n",
    "    with open(file_path, mode='r', encoding='utf-8-sig') as f:\n",
    "        data = f.read().splitlines()\n",
    "\n",
    "    if '' in data:\n",
    "        data.remove('')\n",
    "\n",
    "    print('len data:', len(data))\n",
    "    display(data[:10])\n",
    "    return data"
   ]
  },
  {
   "cell_type": "code",
   "execution_count": 4,
   "metadata": {},
   "outputs": [],
   "source": [
    "def cleaner(raw_data):\n",
    "    clean_data = []\n",
    "    for line in raw_data:\n",
    "        txt = re.sub(r'\\(|\\)|\\[|\\]', '', line).strip().lower()\n",
    "        if txt not in clean_data:\n",
    "            clean_data.append(txt)\n",
    "    clean_data = list(set(clean_data))\n",
    "\n",
    "    print('len clean_data:', len(clean_data))\n",
    "    display(clean_data[:10])\n",
    "    return clean_data"
   ]
  },
  {
   "cell_type": "code",
   "execution_count": 5,
   "metadata": {},
   "outputs": [],
   "source": [
    "def noiser(clean_data, char_repl_noiser):\n",
    "    noisy_data = char_repl_noiser.noise(clean_data)\n",
    "\n",
    "    print('len noisy_data:', len(noisy_data))\n",
    "    display(noisy_data[:10])\n",
    "    return noisy_data"
   ]
  },
  {
   "attachments": {},
   "cell_type": "markdown",
   "metadata": {},
   "source": [
    "## Prepare training set"
   ]
  },
  {
   "cell_type": "code",
   "execution_count": 64,
   "metadata": {},
   "outputs": [
    {
     "name": "stdout",
     "output_type": "stream",
     "text": [
      "len data: 10510\n"
     ]
    },
    {
     "data": {
      "text/plain": [
       "['just a lost boy in a small town',\n",
       " 'singing \"love is forever and ever\"',\n",
       " 'good on paper, picture perfect',\n",
       " \"cause i know i'm addicted to your drama\",\n",
       " 'you see me i be',\n",
       " 'i gotta tell them to myself',\n",
       " \"i'm still learning to love\",\n",
       " \"no, i can't sleep until i feel your touch\",\n",
       " 'and all i can think',\n",
       " \"so beautiful you're leaving me\"]"
      ]
     },
     "metadata": {},
     "output_type": "display_data"
    }
   ],
   "source": [
    "train_data = read_file(os.path.join(train_data_path, 'raw_en_lyrics.txt'))"
   ]
  },
  {
   "attachments": {},
   "cell_type": "markdown",
   "metadata": {},
   "source": [
    "### Clean training set"
   ]
  },
  {
   "cell_type": "code",
   "execution_count": 66,
   "metadata": {},
   "outputs": [
    {
     "name": "stdout",
     "output_type": "stream",
     "text": [
      "len clean_data: 7309\n"
     ]
    },
    {
     "data": {
      "text/plain": [
       "['well show me the way',\n",
       " \"'cause nothin' from nothin' leaves nothin'\",\n",
       " \"she said look, what's your game baby\",\n",
       " 'savage love, did somebody, did somebody break your heart',\n",
       " \"told you i'll be here forever\",\n",
       " 'oh baby, we found love right where we are maybe',\n",
       " 'all i know is we said, \"hello\"',\n",
       " \"another saturday night and i ain't got nobody\",\n",
       " 'if your schemes like your dreams',\n",
       " 'you fell, i caught you']"
      ]
     },
     "metadata": {},
     "output_type": "display_data"
    }
   ],
   "source": [
    "clean_train = cleaner(train_data)"
   ]
  },
  {
   "attachments": {},
   "cell_type": "markdown",
   "metadata": {},
   "source": [
    "### Add noise to clean training set"
   ]
  },
  {
   "cell_type": "code",
   "execution_count": 67,
   "metadata": {},
   "outputs": [
    {
     "name": "stdout",
     "output_type": "stream",
     "text": [
      "total # of texts after retokenization: 7309\n",
      "total # of tokens after retokenization: 49947\n"
     ]
    },
    {
     "name": "stderr",
     "output_type": "stream",
     "text": [
      "100%|██████████| 7309/7309 [00:01<00:00, 4149.55it/s]"
     ]
    },
    {
     "name": "stdout",
     "output_type": "stream",
     "text": [
      "len noisy_data: 7309\n"
     ]
    },
    {
     "name": "stderr",
     "output_type": "stream",
     "text": [
      "\n"
     ]
    },
    {
     "data": {
      "text/plain": [
       "['well skhow me the way',\n",
       " \"'dcause nothin' from nothin' leaves nothin'\",\n",
       " \"sne said look, what's youcr game baby\",\n",
       " 'savage love, did somebody, did simebody break your heoart',\n",
       " \"told you i'll be here forever\",\n",
       " 'oh baby, we found lobe right where we are mapybe',\n",
       " 'all i know is we said, \"hello\"',\n",
       " \"another saturay night and i an't git nqobody\",\n",
       " 'if yuor schemes lkie your dreams',\n",
       " 'yoeu fell, i caught you']"
      ]
     },
     "metadata": {},
     "output_type": "display_data"
    }
   ],
   "source": [
    "noisy_train = noiser(clean_train, char_repl_noiser)"
   ]
  },
  {
   "attachments": {},
   "cell_type": "markdown",
   "metadata": {},
   "source": [
    "## Prepare testing set"
   ]
  },
  {
   "cell_type": "code",
   "execution_count": 6,
   "metadata": {},
   "outputs": [
    {
     "name": "stdout",
     "output_type": "stream",
     "text": [
      "len data: 930\n"
     ]
    },
    {
     "data": {
      "text/plain": [
       "['tell her that she beautiful every day i remind her',\n",
       " 'i get lost in her eyes like dust from the skies',\n",
       " \"did i say that out loud i'm so crazy about mine\",\n",
       " \"but we don't have the same soul\",\n",
       " 'tell me that you love me baby say it again',\n",
       " \"repeat it over and over until it's in my brain\",\n",
       " \"you need to send your location i can't think\",\n",
       " 'did i say that out loud',\n",
       " \"i'm so crazy about mine\",\n",
       " 'when i look back']"
      ]
     },
     "metadata": {},
     "output_type": "display_data"
    }
   ],
   "source": [
    "test_data = read_file(os.path.join(test_data_path, 'clean_en_lyrics.txt'))"
   ]
  },
  {
   "attachments": {},
   "cell_type": "markdown",
   "metadata": {},
   "source": [
    "### Clean testing set"
   ]
  },
  {
   "cell_type": "code",
   "execution_count": 7,
   "metadata": {},
   "outputs": [],
   "source": [
    "# clean_test = cleaner(test_data)"
   ]
  },
  {
   "attachments": {},
   "cell_type": "markdown",
   "metadata": {},
   "source": [
    "### Add noise to clean testing set"
   ]
  },
  {
   "cell_type": "code",
   "execution_count": 8,
   "metadata": {},
   "outputs": [
    {
     "name": "stdout",
     "output_type": "stream",
     "text": [
      "total # of texts after retokenization: 930\n",
      "total # of tokens after retokenization: 6250\n"
     ]
    },
    {
     "name": "stderr",
     "output_type": "stream",
     "text": [
      "100%|██████████| 930/930 [00:00<00:00, 3956.57it/s]"
     ]
    },
    {
     "name": "stdout",
     "output_type": "stream",
     "text": [
      "len noisy_data: 930\n"
     ]
    },
    {
     "name": "stderr",
     "output_type": "stream",
     "text": [
      "\n"
     ]
    },
    {
     "data": {
      "text/plain": [
       "['tell her that she beautiufl every dsy i remind her',\n",
       " 'i get lost in her eyes licke dsut from tge skies',\n",
       " \"did i say that out louud i'm so crazry about mnie\",\n",
       " \"but we don't have the saqme soul\",\n",
       " 'tell me that you love me babny say it again',\n",
       " \"repeat it over and over until it's in my brian\",\n",
       " \"you need to send your location i can't think\",\n",
       " 'did i sqy that out luod',\n",
       " \"i'm so craay about mibe\",\n",
       " 'when i look back']"
      ]
     },
     "metadata": {},
     "output_type": "display_data"
    }
   ],
   "source": [
    "noisy_test = noiser(test_data, char_repl_noiser)"
   ]
  },
  {
   "attachments": {},
   "cell_type": "markdown",
   "metadata": {},
   "source": [
    "## Save to file"
   ]
  },
  {
   "cell_type": "code",
   "execution_count": null,
   "metadata": {},
   "outputs": [],
   "source": [
    "with open(train_data_path + '/clean_lyrics.txt', 'w') as f:\n",
    "    f.write('\\n'.join(clean_train))"
   ]
  },
  {
   "cell_type": "code",
   "execution_count": 53,
   "metadata": {},
   "outputs": [],
   "source": [
    "with open(train_data_path + '/noisy_lyrics.txt', 'w') as f:\n",
    "    f.write('\\n'.join(noisy_train))"
   ]
  },
  {
   "cell_type": "code",
   "execution_count": 54,
   "metadata": {},
   "outputs": [],
   "source": [
    "# with open(test_data_path + '/clean_en_lyrics.txt', 'w') as f:\n",
    "#     f.write('\\n'.join(clean_test))"
   ]
  },
  {
   "cell_type": "code",
   "execution_count": 76,
   "metadata": {},
   "outputs": [],
   "source": [
    "with open(test_data_path + '/noisy_en_lyrics.txt', 'w') as f:\n",
    "    f.write('\\n'.join(noisy_test))"
   ]
  },
  {
   "cell_type": "code",
   "execution_count": null,
   "metadata": {},
   "outputs": [],
   "source": []
  }
 ],
 "metadata": {
  "kernelspec": {
   "display_name": "Python 3",
   "language": "python",
   "name": "python3"
  },
  "language_info": {
   "codemirror_mode": {
    "name": "ipython",
    "version": 3
   },
   "file_extension": ".py",
   "mimetype": "text/x-python",
   "name": "python",
   "nbconvert_exporter": "python",
   "pygments_lexer": "ipython3",
   "version": "3.9.16"
  },
  "orig_nbformat": 4
 },
 "nbformat": 4,
 "nbformat_minor": 2
}
