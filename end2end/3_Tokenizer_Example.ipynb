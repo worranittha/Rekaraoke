{
 "cells": [
  {
   "attachments": {},
   "cell_type": "markdown",
   "metadata": {},
   "source": [
    "# Example"
   ]
  },
  {
   "cell_type": "code",
   "execution_count": 1,
   "metadata": {},
   "outputs": [],
   "source": [
    "import sefr_cut"
   ]
  },
  {
   "attachments": {},
   "cell_type": "markdown",
   "metadata": {},
   "source": [
    "## load model"
   ]
  },
  {
   "cell_type": "code",
   "execution_count": 3,
   "metadata": {},
   "outputs": [
    {
     "name": "stdout",
     "output_type": "stream",
     "text": [
      "loading model.....\n",
      "Success\n"
     ]
    }
   ],
   "source": [
    "model_path = 'model/my_model.model'\n",
    "sefr_cut.SEFR_CUT.load_model(engine='my_model', model_path=model_path)"
   ]
  },
  {
   "attachments": {},
   "cell_type": "markdown",
   "metadata": {},
   "source": [
    "## Use model"
   ]
  },
  {
   "cell_type": "code",
   "execution_count": 8,
   "metadata": {},
   "outputs": [
    {
     "name": "stdout",
     "output_type": "stream",
     "text": [
      "Actual:\t\t ['ฮันนี', 'ฮันนี', 'ยู', 'แคน', 'ซี', 'เดอะ', 'สตาร์', 'อะเวย์', 'ฟรอม', 'เฮีย']\n",
      "2/2 [==============================] - 0s 8ms/step\n",
      "DeepCut+SEFR :\t ['ฮันนี', 'ฮันนี', 'ยู', 'แคน', 'ซี', 'เดอะ', 'สตาร์', 'อะ', 'เวย์', 'ฟรอม', 'เฮีย']\n"
     ]
    }
   ],
   "source": [
    "word = 'ฮันนีฮันนียูแคนซีเดอะสตาร์อะเวย์ฟรอมเฮีย'\n",
    "word_true = ['ฮันนี', 'ฮันนี', 'ยู', 'แคน', 'ซี', 'เดอะ', 'สตาร์', 'อะเวย์', 'ฟรอม', 'เฮีย']\n",
    "\n",
    "print('Actual:\\t\\t', word_true)\n",
    "print('DeepCut+SEFR :\\t', sefr_cut.tokenize(word, k=50)[0]) # you can set k to other values"
   ]
  }
 ],
 "metadata": {
  "kernelspec": {
   "display_name": "nlp_project",
   "language": "python",
   "name": "python3"
  },
  "language_info": {
   "codemirror_mode": {
    "name": "ipython",
    "version": 3
   },
   "file_extension": ".py",
   "mimetype": "text/x-python",
   "name": "python",
   "nbconvert_exporter": "python",
   "pygments_lexer": "ipython3",
   "version": "3.9.13"
  },
  "orig_nbformat": 4
 },
 "nbformat": 4,
 "nbformat_minor": 2
}
