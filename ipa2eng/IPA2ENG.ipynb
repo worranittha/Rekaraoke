{
 "cells": [
  {
   "attachments": {},
   "cell_type": "markdown",
   "metadata": {},
   "source": [
    "# Example for using IPA2ENG Function"
   ]
  },
  {
   "attachments": {},
   "cell_type": "markdown",
   "metadata": {},
   "source": [
    "use for matching ipa to eng with fuzzy matching method"
   ]
  },
  {
   "cell_type": "code",
   "execution_count": 1,
   "metadata": {},
   "outputs": [
    {
     "name": "stdout",
     "output_type": "stream",
     "text": [
      "IPA =  ˈaʊɝ \n",
      "ENG word =  hour \n",
      "with similarity score =  1.0\n"
     ]
    }
   ],
   "source": [
    "from IPA2ENG import IPA_matching\n",
    "ipa = 'ˈaʊɝ'\n",
    "res,score =IPA_matching(ipa)\n",
    "print('IPA = ',ipa,'\\nENG word = ',res,'\\nwith similarity score = ',score)"
   ]
  },
  {
   "attachments": {},
   "cell_type": "markdown",
   "metadata": {},
   "source": [
    "evaluate with lyrics dataset"
   ]
  },
  {
   "cell_type": "code",
   "execution_count": 29,
   "metadata": {},
   "outputs": [
    {
     "name": "stdout",
     "output_type": "stream",
     "text": [
      "words in Dataset :  927\n",
      "words that not in eng2ipa dict :  []\n",
      "accuracy of matching method : 0.8888888888888888\n",
      "Predicted words are :  ['dahler', 'chute', 'fare', 'flours', 'beu', \"budget's\", 'lowe', \"drive's\", 'lata', 'know', \"drug's\", 'road', \"nut's\", \"rule's\", 'tern', 'bildt', 'new', 'vanes', \"hart's\", 'sea', 'prescher', 'crewel', 'serv', 'trak', \"part's\", 'sayle', \"light's\", \"picture's\", 'kohn', 'dase', 'i', 'mackin', 'glas', 'pik', 'streich', 'hymn', 'groh', \"we're\", 'staack', 'baab', \"devil's\", 'schade', 'paap', 'by', \"fall's\", 'dammed', 'succor', 'rist', \"dollars'\", 'hour', 'coz', 'parte', \"lines'\", 'grate', 'blond', 'bad-ass', 'here', 'red', 'di', 'lessens', 'fede', 'lide', \"issue's\", 'by', 'sighs', \"animal's\", 'you', 'sette', \"can't\", \"dahl's\", 'hott', 'appel', 'yoe', 'imm', 'too', \"let's\", 'mache', 'till', 'bos', \"won't\", 'bleau', \"knight's\", 'tail', \"i've\", 'terre', \"it's\", 'by', 'fehl', 'deer', 'their', 'keas', 'their', 'faught', \"arm's\", 'roley', 'biggar', 'emme', 'oh', 'too', 'ah', 'naw', 'roell', 'fairey']\n",
      "original words are :  ['dollar', 'shoot', 'fair', 'flowers', 'boo', 'budgets', 'low', 'drives', 'lotta', 'no', 'drugs', 'rode', 'nuts', 'rules', 'turns', 'built', 'knew', 'veins', 'hearts', 'see', 'pressure', 'cruel', 'serve', 'track', 'parts', 'sail', 'lights', 'pictures', 'con', 'days', 'eye', 'makin', 'glass', 'pick', 'strike', 'him', 'grow', 'were', 'stock', 'bob', 'devils', 'shade', 'pop', 'bae', 'falls', 'damned', 'sucker', 'wrist', 'dollars', 'our', 'cause', 'part', 'lines', 'great', 'blonde', 'badass', 'hear', 'read', 'die', 'lessons', 'feed', 'lied', 'issues', 'bye', 'size', 'animals', 'u', 'set', 'cant', 'dolls', 'hot', 'apple', 'yo', 'im', 'two', 'lets', 'match', 'til', 'boss', 'wont', 'blow', 'nights', 'tale', 'ive', 'tear', 'its', 'buy', 'fell', 'dear', 'there', 'keys', \"they're\", 'fought', 'arms', 'rollie', 'bigger', 'em', 'owe', 'to', 'ahh', 'nah', 'roll', 'fairy']\n"
     ]
    }
   ],
   "source": [
    "import json\n",
    "from IPA2ENG import evaluate_matching, ENG2IPA, eng2ipa_dict\n",
    "with open(\"../dataset/test/clean_en_lyrics.json\", encoding=\"utf8\") as f:\n",
    "    en_lyrics = json.loads(f.read())\n",
    "full_lyrics = ' '.join(en_lyrics)\n",
    "full_lyrics = full_lyrics.split(' ')\n",
    "full_lyrics = list(set(full_lyrics))\n",
    "# full_lyrics.remove('')\n",
    "ipa_lyrics = []\n",
    "eng_lyrics = []\n",
    "outlier_word = []\n",
    "for i in full_lyrics:\n",
    "    if i in eng2ipa_dict:\n",
    "        eng_lyrics.append(i)\n",
    "        ipa_lyrics.append(ENG2IPA(i))\n",
    "    else:\n",
    "        outlier_word.append(i)\n",
    "print('words in Dataset : ',len(eng_lyrics))\n",
    "print('words that not in eng2ipa dict : ',outlier_word)\n",
    "accuracy,wrong_word, true_word  = evaluate_matching(ipa_lyrics[:],eng_lyrics[:])\n",
    "print('accuracy of matching method :',accuracy)\n",
    "print('Predicted words are : ',wrong_word)\n",
    "print('original words are : ',true_word)"
   ]
  }
 ],
 "metadata": {
  "kernelspec": {
   "display_name": "on-board",
   "language": "python",
   "name": "python3"
  },
  "language_info": {
   "codemirror_mode": {
    "name": "ipython",
    "version": 3
   },
   "file_extension": ".py",
   "mimetype": "text/x-python",
   "name": "python",
   "nbconvert_exporter": "python",
   "pygments_lexer": "ipython3",
   "version": "3.9.16"
  },
  "orig_nbformat": 4
 },
 "nbformat": 4,
 "nbformat_minor": 2
}
