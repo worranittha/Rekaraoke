{
 "cells": [
  {
   "attachments": {},
   "cell_type": "markdown",
   "metadata": {},
   "source": [
    "# Example for using IPA2ENG Function"
   ]
  },
  {
   "attachments": {},
   "cell_type": "markdown",
   "metadata": {},
   "source": [
    "use for matching ipa to eng with fuzzy matching method"
   ]
  },
  {
   "cell_type": "code",
   "execution_count": 1,
   "metadata": {},
   "outputs": [
    {
     "name": "stdout",
     "output_type": "stream",
     "text": [
      "IPA =  ˈaʊɝ \n",
      "ENG word =  hour \n",
      "with similarity score =  1.0\n"
     ]
    }
   ],
   "source": [
    "from IPA2ENG import IPA_matching\n",
    "ipa = 'ˈaʊɝ'\n",
    "res,score =IPA_matching(ipa)\n",
    "print('IPA = ',ipa,'\\nENG word = ',res,'\\nwith similarity score = ',score)"
   ]
  },
  {
   "attachments": {},
   "cell_type": "markdown",
   "metadata": {},
   "source": [
    "evaluate with lyrics dataset"
   ]
  },
  {
   "cell_type": "code",
   "execution_count": 2,
   "metadata": {},
   "outputs": [
    {
     "name": "stdout",
     "output_type": "stream",
     "text": [
      "words in Dataset :  1019\n",
      "accuracy of matching method : 0.9813542688910697\n",
      "wrong words are :  ['di', 'seen', 'woah', 'right', 'waste', 'pain', 'too', 'sea', 'for', 'hour', \"we're\", 'here', 'their', 'too', 'red', 'i', 'know', 'new', \"doesn't\"]\n",
      "original words are :  ['die', 'scene', 'woe', 'write', 'waist', 'pane', 'two', 'see', 'four', 'our', 'were', 'hear', 'there', 'to', 'read', 'ay', 'no', 'knew', 'dozen']\n"
     ]
    }
   ],
   "source": [
    "import json\n",
    "from IPA2ENG import evaluate_matching, ENG2IPA\n",
    "with open(\"../dataset/test/test_ENlyrics.json\", encoding=\"utf8\") as f:\n",
    "    en_lyrics = json.loads(f.read())\n",
    "full_lyrics = ' '.join(en_lyrics)\n",
    "full_lyrics = full_lyrics.split(' ')\n",
    "full_lyrics = list(set(full_lyrics))\n",
    "full_lyrics.remove('')\n",
    "ipa_lyrics = []\n",
    "\n",
    "for i in full_lyrics:\n",
    "\tipa_lyrics.append(ENG2IPA(i))\n",
    "print('words in Dataset : ',len(full_lyrics))\n",
    "accuracy,wrong_word, true_word  = evaluate_matching(ipa_lyrics[:],full_lyrics[:])\n",
    "print('accuracy of matching method :',accuracy)\n",
    "print('wrong words are : ',wrong_word)\n",
    "print('original words are : ',true_word)"
   ]
  },
  {
   "cell_type": "code",
   "execution_count": 4,
   "metadata": {},
   "outputs": [
    {
     "name": "stdout",
     "output_type": "stream",
     "text": [
      "words in Dataset :  1016\n"
     ]
    }
   ],
   "source": [
    "import json\n",
    "from IPA2ENG import evaluate_matching, ENG2IPA, eng2ipa_dict\n",
    "with open(\"../dataset/test/test_ENlyrics.json\", encoding=\"utf8\") as f:\n",
    "    en_lyrics = json.loads(f.read())\n",
    "full_lyrics = ' '.join(en_lyrics)\n",
    "full_lyrics = full_lyrics.split(' ')\n",
    "full_lyrics = list(set(full_lyrics))\n",
    "full_lyrics.remove('')\n",
    "ipa_lyrics = []\n",
    "eng_lyrics = []\n",
    "for i in full_lyrics:\n",
    "    if i in eng2ipa_dict:\n",
    "        eng_lyrics.append(i)\n",
    "        ipa_lyrics.append(ENG2IPA(i))\n",
    "print('words in Dataset : ',len(eng_lyrics))\n",
    "accuracy,wrong_word, true_word  = evaluate_matching(ipa_lyrics[:],eng_lyrics[:])\n",
    "print('accuracy of matching method :',accuracy)\n",
    "print('wrong words are : ',wrong_word)\n",
    "print('original words are : ',true_word)"
   ]
  }
 ],
 "metadata": {
  "kernelspec": {
   "display_name": "on-board",
   "language": "python",
   "name": "python3"
  },
  "language_info": {
   "codemirror_mode": {
    "name": "ipython",
    "version": 3
   },
   "file_extension": ".py",
   "mimetype": "text/x-python",
   "name": "python",
   "nbconvert_exporter": "python",
   "pygments_lexer": "ipython3",
   "version": "3.9.16"
  },
  "orig_nbformat": 4
 },
 "nbformat": 4,
 "nbformat_minor": 2
}
