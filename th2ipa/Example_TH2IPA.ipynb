{
 "cells": [
  {
   "cell_type": "code",
   "execution_count": 1,
   "metadata": {},
   "outputs": [],
   "source": [
    "from TH2IPA import TH2IPA\n",
    "%load_ext autoreload\n",
    "%autoreload 2"
   ]
  },
  {
   "cell_type": "code",
   "execution_count": 2,
   "metadata": {},
   "outputs": [],
   "source": [
    "TH2IPA = TH2IPA(model_path=\"./model/self_attn/\")"
   ]
  },
  {
   "cell_type": "code",
   "execution_count": 5,
   "metadata": {},
   "outputs": [
    {
     "name": "stdout",
     "output_type": "stream",
     "text": [
      "1/1 [==============================] - 0s 159ms/step\n",
      "['ฮันนี่', 'ฮันนี่', 'ไอ', 'แคน', 'ซี', 'ออ', 'เดอะ', 'เว', 'ฟอม', 'เฮีย']\n",
      "['ˈhəni', 'ˈhəni', 'ˈaɪ', 'ˈkæn', 'ˈsi', 'ˈɔɫ', 'ˈeə', 'ˈweɪ', 'ˈfɔɹm', 'ˈhiɹ']\n"
     ]
    }
   ],
   "source": [
    "example_TH = [\"ฮันนี่\", \"ฮันนี่\", \"ไอ\",\"แคน\", \"ซี\", \"ออ\", \"เดอะ\", \"เว\", \"ฟอม\", \"เฮีย\"]\n",
    "\n",
    "output = TH2IPA(example_TH)\n",
    "\n",
    "print(f\"{example_TH}\\n{output}\")"
   ]
  }
 ],
 "metadata": {
  "kernelspec": {
   "display_name": "venv",
   "language": "python",
   "name": "python3"
  },
  "language_info": {
   "codemirror_mode": {
    "name": "ipython",
    "version": 3
   },
   "file_extension": ".py",
   "mimetype": "text/x-python",
   "name": "python",
   "nbconvert_exporter": "python",
   "pygments_lexer": "ipython3",
   "version": "3.7.9"
  },
  "orig_nbformat": 4
 },
 "nbformat": 4,
 "nbformat_minor": 2
}
